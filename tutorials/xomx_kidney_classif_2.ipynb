{
 "cells": [
  {
   "cell_type": "markdown",
   "id": "29f0a3df-53ea-466e-8c84-93a357b4a398",
   "metadata": {
    "tags": []
   },
   "source": [
    "<a href=\"https://colab.research.google.com/github/perrin-isir/xomx-tutorials/blob/main/tutorials/xomx_kidney_classif_2.ipynb\"> <img align=\"left\" src=\"https://colab.research.google.com/assets/colab-badge.svg\" alt=\"Open in Colab\" title=\"Open in Google Colaboratory\"></a>\n",
    "<a id=\"raw-url\" href=\"https://raw.githubusercontent.com/perrin-isir/xomx-tutorials/main/tutorials/xomx_kidney_classif_2.ipynb\" download> <img align=\"left\" src=\"https://img.shields.io/badge/Github-Download%20(Right%20click%20%2B%20Save%20link%20as...)-blue\" alt=\"Download (Right click + Save link as)\" title=\"Download Notebook\"></a>"
   ]
  },
  {
   "cell_type": "markdown",
   "id": "f1cd0bb4-b8f1-4f65-b952-bb4d5a2edb06",
   "metadata": {},
   "source": [
    "# *xomx tutorial:* **constructing diagnostic biomarker signatures**: phase 2\n",
    "\n",
    "This is the second and main phase of the tutorial on kidney cancer classification. We recall that the objective of this tutorial is to use a recursive feature elimination method on \n",
    "RNA-seq data from the Cancer Genome Atlas (TCGA) to identify gene biomarker signatures for the differential diagnosis of three types of kidney cancer. \n",
    "\n",
    "The recursive feature elimination method is based on \n",
    "the [Extra-Trees algorithm](https://link.springer.com/article/10.1007/s10994-006-6226-1)\n",
    "(and its implementation in \n",
    "[scikit-learn](https://scikit-learn.org/stable/modules/generated/sklearn.ensemble.ExtraTreesClassifier.html)).\n",
    "\n",
    "**Remark (1/2):** the first phase of the tutorial [(xomx_kidney_classif_1.ipynb)](https://github.com/perrin-isir/xomx-tutorials/blob/main/tutorials/xomx_kidney_classif_1.ipynb) imports the RNA-seq data from the Cancer Genome Atlas (TGCA) online database, and applies basic preprocessing. It results in the file `xomx_kidney_classif_small.h5ad`, which is an AnnData object containing RNA-seq data for 265 samples labelled \"TCGA-KIRC\" (kidney renal clear cell carcinoma), \"TCGA-KIRP\" (kidney renal papillary cell carcinoma), or \"TCGA-KICH\" (chromophobe renal cell carcinoma). The samples have been randomly assigned to a training set (75%) and a validation set (25%). For each of the samples, the features are the levels of expression of the top 8000 highly variable genes that have been selected in phase 1. \n",
    "\n",
    "**Remark (2/2):** the first phase of the tutorial is optional. It takes some time to import the data from the Cancer Genome Atlas (TGCA) online database, so for convenience we stored `xomx_kidney_classif_small.h5ad` in the *xomx-tutorials* repository [(https://github.com/perrin-isir/xomx-tutorials/blob/main/tutorials/xomx_kidney_classif_small.h5ad)](https://github.com/perrin-isir/xomx-tutorials/blob/main/tutorials/xomx_kidney_classif_small.h5ad). The file is directly downloaded in this phase 2 of the tutorial, therefore phase 1 can be skipped."
   ]
  },
  {
   "cell_type": "markdown",
   "id": "772c4fef-f591-4962-9a10-e3256295d9be",
   "metadata": {},
   "source": [
    "Here is the last plot obtained at the end of this tutorial, a UMAP embedding of the RNA-seq data reduced to a small set of biomarker genes, with colors based on the expression levels of the gene NDUFA4L2 (ENSG00000185633):"
   ]
  },
  {
   "cell_type": "code",
   "execution_count": 33,
   "id": "a4ab5a58-4ccb-4975-bd11-e6f9eea1c92b",
   "metadata": {},
   "outputs": [
    {
     "data": {
      "text/html": [
       "<iframe width=\"99%\" height=650 src=\"xomx_kidney_classif_figure.html\">\n",
       "# /!\\ This cell cannot be executed in Colab\n"
      ],
      "text/plain": [
       "<IPython.core.display.HTML object>"
      ]
     },
     "metadata": {},
     "output_type": "display_data"
    }
   ],
   "source": [
    "%%html\n",
    "<iframe width=\"99%\" height=650 src=\"xomx_kidney_classif_figure.html\">\n",
    "# /!\\ This cell cannot be executed in Colab"
   ]
  },
  {
   "cell_type": "code",
   "execution_count": null,
   "id": "dac69185-2888-4de2-ac02-6fd534d330cf",
   "metadata": {},
   "outputs": [],
   "source": [
    "# imports:\n",
    "import os\n",
    "from IPython.display import clear_output, HTML\n",
    "try:\n",
    "    import xomx\n",
    "except ImportError:\n",
    "    !pip install git+https://github.com/perrin-isir/xomx.git\n",
    "    clear_output()\n",
    "    import xomx\n",
    "try:\n",
    "    import scanpy as sc\n",
    "except ImportError:\n",
    "    !pip install scanpy\n",
    "    clear_output()\n",
    "    import scanpy as sc\n",
    "import numpy as np"
   ]
  },
  {
   "cell_type": "markdown",
   "id": "270c8a36-caf1-44f3-8254-4f85fed26e31",
   "metadata": {},
   "source": [
    "We define `save_dir`, the folder in which everything will be saved."
   ]
  },
  {
   "cell_type": "code",
   "execution_count": null,
   "id": "3ba4a1be-50e3-464a-8b3b-4eccffaa4078",
   "metadata": {},
   "outputs": [],
   "source": [
    "save_dir = os.path.expanduser(os.path.join(\"~\", \"results\", \"xomx-tutorials\", \"kidney_classif\"))  # the default directory in which results are stored\n",
    "os.makedirs(save_dir, exist_ok=True)"
   ]
  },
  {
   "cell_type": "code",
   "execution_count": null,
   "id": "bab7f469-586b-4d0d-aabd-c95d16b17923",
   "metadata": {},
   "outputs": [],
   "source": [
    "# Setting the pseudo-random number generator\n",
    "rng = np.random.RandomState(0)"
   ]
  },
  {
   "cell_type": "markdown",
   "id": "1bdbc636-e922-405a-a49f-3eb77e086b21",
   "metadata": {},
   "source": [
    "## Step 1: loading the data"
   ]
  },
  {
   "cell_type": "code",
   "execution_count": null,
   "id": "03697f7f-bf91-482e-b27b-e90fbe24de28",
   "metadata": {},
   "outputs": [],
   "source": [
    "if not os.path.exists(os.path.join(save_dir, \"xomx_kidney_classif_small.h5ad\")):\n",
    "    !wget -O {os.path.join(save_dir, \"xomx_kidney_classif_small.h5ad\")} \"https://github.com/perrin-isir/xomx-tutorials/blob/main/tutorials/xomx_kidney_classif_small.h5ad?raw=true\""
   ]
  },
  {
   "cell_type": "code",
   "execution_count": null,
   "id": "6859c666-0d76-4919-837e-36a13915936a",
   "metadata": {},
   "outputs": [],
   "source": [
    "xd = sc.read(os.path.join(save_dir, \"xomx_kidney_classif_small.h5ad\"))"
   ]
  },
  {
   "cell_type": "code",
   "execution_count": null,
   "id": "3e2bfa29-8e9a-41cf-a4e4-db0f48ca0191",
   "metadata": {},
   "outputs": [],
   "source": [
    "xd"
   ]
  },
  {
   "cell_type": "markdown",
   "id": "3f494bcc-9933-46b2-ae92-356ddd50e3d0",
   "metadata": {},
   "source": [
    "`xd` contains the data matrix and the data annotations.\n",
    "There are 465 samples, and 8000 features which were selected with the function `sc.pp.highly_variable_genes()`, see [xomx_kidney_classif_1.ipynb](https://github.com/perrin-isir/xomx/blob/main/xomx-tutorials/tutorials/xomx_kidney_classif_1.ipynb).\n",
    "\n",
    "`xd.X[0, :]`, the first row, contains the 8000 (normalized and logarithmized) expression levels for the \n",
    "first sample.  "
   ]
  },
  {
   "cell_type": "code",
   "execution_count": null,
   "id": "0de8e892-e7ce-4dd5-b7e8-29e0c3417279",
   "metadata": {},
   "outputs": [],
   "source": [
    "xd.X[0, :]"
   ]
  },
  {
   "cell_type": "markdown",
   "id": "805d1f2a-f6bc-4416-95c4-995e22aef687",
   "metadata": {},
   "source": [
    "`xd.X[:, 0]`, the first column, contains the values of the first feature for all samples.\n",
    "\n",
    "The feature names (gene IDs) are stored in `xd.var_names`, and the sample\n",
    "identifiers are stored in `xd.obs_names`. "
   ]
  },
  {
   "cell_type": "code",
   "execution_count": null,
   "id": "d0a368bb-aa36-42be-bd13-0a03a454ed4b",
   "metadata": {},
   "outputs": [],
   "source": [
    "xd.var_names"
   ]
  },
  {
   "cell_type": "markdown",
   "id": "cc26ab2c-22b5-4970-a507-d9c24539b1d8",
   "metadata": {},
   "source": [
    "The labels are stored in `xd.obs[\"labels\"]`."
   ]
  },
  {
   "cell_type": "code",
   "execution_count": null,
   "id": "27d5c418-2527-4dbd-8dea-22916909e49f",
   "metadata": {},
   "outputs": [],
   "source": [
    "xd.obs[\"labels\"]"
   ]
  },
  {
   "cell_type": "markdown",
   "id": "937eb8db-51d7-4b1f-87e6-2f538ba0e8e7",
   "metadata": {},
   "source": [
    "Using the function `train_and_test_indices()` (see [xomx_kidney_classif_1.ipynb](https://github.com/perrin-isir/xomx/blob/main/xomx-tutorials/tutorials/xomx_kidney_classif_1.ipynb)), the data has been divided into a training set and a test set.\n",
    "- `xd.uns[\"train_indices\"]` is the array of indices of all samples that belong to the training set.\n",
    "- `xd.uns[\"test_indices\"]`is the array of indices of all samples that belong to the test set.\n",
    "- `xd.uns[\"train_indices_per_label\"]` is the dictionary of sample indices in the training set, per label. For instance, `xd.uns[\"train_indices_per_label\"][\"TCGA-KIRP\"]` is the array of indices of all the samples labelled as `\"TCGA-KIRP\"` that belong to the training set.\n",
    "- `xd.uns[\"test_indices_per_label\"]`is the dictionary of sample indices in the test set, per label."
   ]
  },
  {
   "cell_type": "code",
   "execution_count": null,
   "id": "4e947ed4-d4fe-4348-b601-351a11563aee",
   "metadata": {},
   "outputs": [],
   "source": [
    "xd.uns[\"test_indices_per_label\"][\"TCGA-KICH\"]"
   ]
  },
  {
   "cell_type": "markdown",
   "id": "44c1e1d6-5329-4151-b8d6-7e1553841f43",
   "metadata": {
    "tags": []
   },
   "source": [
    "## Step 2: training binary classifiers and performing recursive feature elimination\n",
    "\n",
    "We initialize an empty dictionary of \"feature selectors\":"
   ]
  },
  {
   "cell_type": "code",
   "execution_count": null,
   "id": "1f3475a6-2fbd-46d4-b66a-f8a881f2bbc2",
   "metadata": {},
   "outputs": [],
   "source": [
    "feature_selectors = {}"
   ]
  },
  {
   "cell_type": "markdown",
   "id": "9c6f11d0-d1cb-43f8-b998-832e0d75f210",
   "metadata": {},
   "source": [
    "There will be one feature selector per label.\n",
    "What we call feature selector here is a binary classifier\n",
    "trained with the Extra-Trees algorithm to\n",
    "distinguish samples with a given label from\n",
    "other types of samples. After training, features are\n",
    "ranked by a measure of importance known as the Gini importance, \n",
    "and the 100 most important features are kept. \n",
    "Then, the Extra-Trees algorithm is run again on the training\n",
    "data filtered to the 100 selected features, which leads to a \n",
    "new measure of importance of the features. We repeat the \n",
    "procedure to progressively select 30, then 20, 15 and finally 10\n",
    "features. At each iteration, we evaluate on the test set the \n",
    "Matthews correlation coefficient (MCC score) of the \n",
    "classifier to observe how the performance changes \n",
    "when the number of features decreases.  \n",
    "The progression 100-30-20-15-10 is arbitrary, but \n",
    "the most efficient strategies start by aggressively \n",
    "reducing the number of features, and then slow down\n",
    "when the number of features becomes small.\n",
    "\n",
    "Here is the loop that trains all the classifiers and ends up \n",
    "selecting 10 features for every label. It also creates \n",
    "`gene_dict`, a dictionary of the 10-gene signatures selected\n",
    "for each label."
   ]
  },
  {
   "cell_type": "code",
   "execution_count": null,
   "id": "c53538a4-521b-4f22-8ec4-f7852e699a69",
   "metadata": {},
   "outputs": [],
   "source": [
    "gene_dict = {}\n",
    "for label in xd.uns[\"all_labels\"]:\n",
    "    print(\"Label: \" + label)\n",
    "    feature_selectors[label] = xomx.fs.RFEExtraTrees(\n",
    "        xd,\n",
    "        label,\n",
    "        n_estimators=450,\n",
    "        random_state=rng,\n",
    "    )\n",
    "    feature_selectors[label].init()\n",
    "    for siz in [100, 30, 20, 15, 10]:\n",
    "        print(\"Selecting\", siz, \"features...\")\n",
    "        feature_selectors[label].select_features(siz)\n",
    "        print(\n",
    "            \"MCC score:\",\n",
    "            xomx.tl.matthews_coef(feature_selectors[label].confusion_matrix),\n",
    "        )\n",
    "    gene_dict[label] = [\n",
    "        xd.var_names[idx_]\n",
    "        for idx_ in feature_selectors[label].current_feature_indices\n",
    "    ]\n",
    "    print(\"Done.\")"
   ]
  },
  {
   "cell_type": "markdown",
   "id": "dbb2a0a9-a4dc-4d0f-950d-8087bf2d654f",
   "metadata": {
    "tags": []
   },
   "source": [
    "## Step 3: visualizing results"
   ]
  },
  {
   "cell_type": "markdown",
   "id": "5f3c5bc0-bf4d-404a-bdc2-6862410104ad",
   "metadata": {},
   "source": [
    "Using the plotting function `scatter()`,\n",
    "we plot the standard deviation vs mean value for all the \n",
    "features (which were computed before logarithmizing the data).\n",
    "`scatter()` takes in input two functions, one for \n",
    "the x-axis, and one for the y-axis. Each of these functions\n",
    "must take in input the feature index.  \n",
    "\n",
    "By changing the \n",
    "`obs_or_var` option to \"obs\" instead of \"var\", we can use\n",
    "`scatter()` to make a scatter plot over the samples\n",
    "instead of over the features."
   ]
  },
  {
   "cell_type": "code",
   "execution_count": null,
   "id": "c008c323-1040-43c6-be56-c4dc3af85e46",
   "metadata": {},
   "outputs": [],
   "source": [
    "xomx.pl.scatter(\n",
    "    xd,\n",
    "    lambda idx: xd.var[\"mean_values\"][idx],\n",
    "    lambda idx: xd.var[\"standard_deviations\"][idx],\n",
    "    obs_or_var=\"var\",\n",
    "    xlog_scale=True,\n",
    "    ylog_scale=True,\n",
    "    xlabel=\"mean values\",\n",
    "    ylabel=\"standard deviations\",\n",
    ")"
   ]
  },
  {
   "cell_type": "markdown",
   "id": "0e5e40a1-6f50-4933-8dea-2a532faed535",
   "metadata": {},
   "source": [
    "You can notice that the plots are interactive: information is obtained by hovering the cursor over the points.  \n",
    "By default, the plots are made with bokeh, but matplotlib can be used as well.\n",
    "This is controlled with the function `xomx.pl.extension()`:"
   ]
  },
  {
   "cell_type": "code",
   "execution_count": null,
   "id": "56f612e2-5f2f-45ac-811f-2100f33b9c3f",
   "metadata": {},
   "outputs": [],
   "source": [
    "xomx.pl.extension(\"matplotlib\")"
   ]
  },
  {
   "cell_type": "markdown",
   "id": "1c0e05c9-ee7f-42ca-9d07-ce34ca9b425f",
   "metadata": {},
   "source": [
    "In a notebook, interactive plots with matplotlib require using ipympl, and enabling it with the matplotlib Jupyter magic `@matplotlib widget` (**remark:** matplotlib interactive plots are typically slower in notebooks than in python scripts)."
   ]
  },
  {
   "cell_type": "code",
   "execution_count": null,
   "id": "d6bab456-5fbf-4662-a6f7-022f5d375cd9",
   "metadata": {},
   "outputs": [],
   "source": [
    "try:\n",
    "    import ipympl\n",
    "except ImportError:\n",
    "    !pip install ipympl\n",
    "    clear_output()\n",
    "    import ipympl\n",
    "%matplotlib widget"
   ]
  },
  {
   "cell_type": "code",
   "execution_count": null,
   "id": "2e425034-878d-4c47-b131-c8f995fe4630",
   "metadata": {},
   "outputs": [],
   "source": [
    "xomx.pl.scatter(\n",
    "    xd,\n",
    "    lambda idx: xd.var[\"mean_values\"][idx],\n",
    "    lambda idx: xd.var[\"standard_deviations\"][idx],\n",
    "    obs_or_var=\"var\",\n",
    "    xlog_scale=True,\n",
    "    ylog_scale=True,\n",
    "    xlabel=\"mean values\",\n",
    "    ylabel=\"standard deviations\",\n",
    ")"
   ]
  },
  {
   "cell_type": "markdown",
   "id": "63983081-bae1-4480-a865-aa132ab90375",
   "metadata": {},
   "source": [
    "However, interactive plots with matplotlib do not work in Colab, and `@matplotlib inline` must be used instead."
   ]
  },
  {
   "cell_type": "code",
   "execution_count": null,
   "id": "022d91ae-f1c7-47c3-b37c-c8b56f36f9d4",
   "metadata": {},
   "outputs": [],
   "source": [
    "%matplotlib inline\n",
    "xomx.pl.scatter(\n",
    "    xd,\n",
    "    lambda idx: xd.var[\"mean_values\"][idx],\n",
    "    lambda idx: xd.var[\"standard_deviations\"][idx],\n",
    "    obs_or_var=\"var\",\n",
    "    xlog_scale=True,\n",
    "    ylog_scale=True,\n",
    "    xlabel=\"mean values\",\n",
    "    ylabel=\"standard deviations\",\n",
    ")"
   ]
  },
  {
   "cell_type": "markdown",
   "id": "0aafafee-4551-4ed9-a4c3-159fcebc9f27",
   "metadata": {},
   "source": [
    "This plot shows the 8000 highly variable genes selected in the phase 1 of the tutorial ([xomx_kidney_classif_1.ipynb](https://github.com/perrin-isir/xomx/blob/main/xomx-tutorials/tutorials/xomx_kidney_classif_1.ipynb)), and we can observe the frontier defined by `sc.pp.highly_variable_genes()` to remove genes considered less variable.\n",
    "\n",
    "For a given feature selector, for example `feature_selectors[\"TCGA-KIRP\"]`,\n",
    "`plot()` displays results on the test set. The classifier uses only the selected \n",
    "features, here the 10 features selected for the label `\"TCGA-KIRP\"`.\n",
    "Points above the horizontal red line (score > 0.5) are classified as positives (prediction: `\"TCGA-KIRP\"`), and points below the horizontal line (score < 0.5)\n",
    "are classified as negatives (prediction: `not \"TCGA-KIRP\"`)."
   ]
  },
  {
   "cell_type": "code",
   "execution_count": null,
   "id": "c6fe0e81-30be-4925-b05d-115c99f13bcd",
   "metadata": {},
   "outputs": [],
   "source": [
    "xomx.pl.extension(\"bokeh\")\n",
    "feature_selectors[\"TCGA-KIRP\"].plot()"
   ]
  },
  {
   "cell_type": "markdown",
   "id": "959e3892-fe6c-46bb-9a31-01d8cafc6308",
   "metadata": {},
   "source": [
    "We can construct a multiclass classifier based on the 3 binary classifiers:"
   ]
  },
  {
   "cell_type": "code",
   "execution_count": null,
   "id": "b043eceb-75ba-487a-92d9-ad2611f90094",
   "metadata": {},
   "outputs": [],
   "source": [
    "sbm = xomx.cl.ScoreBasedMulticlass(xd, xd.uns[\"all_labels\"], feature_selectors)"
   ]
  },
  {
   "cell_type": "markdown",
   "id": "4b2d1552-e837-402b-8ebf-302eaaa6c848",
   "metadata": {},
   "source": [
    "This multiclass classifier bases its predictions on 30 features (at most): the \n",
    "union of the three 10-gene signatures (one per label). It simply computes the 3 \n",
    "scores of each of the binary classifiers, and returns the label that corresponds \n",
    "to the highest score.  \n",
    "`plot()` displays results on the test set:"
   ]
  },
  {
   "cell_type": "code",
   "execution_count": null,
   "id": "c883ced1-d8f7-43b9-b530-752b4e746b22",
   "metadata": {},
   "outputs": [],
   "source": [
    "sbm.plot()"
   ]
  },
  {
   "cell_type": "markdown",
   "id": "27881a76-359b-48c4-9379-578e7d4b1a3c",
   "metadata": {},
   "source": [
    "For each of the 3 labels, points that are \n",
    "higher in the horizontal band correspond to a \n",
    "higher confidence in the prediction (but\n",
    "the very top of the band does not mean 100% \n",
    "confidence).\n",
    "\n",
    "We gather the selected genes in a single list:"
   ]
  },
  {
   "cell_type": "code",
   "execution_count": null,
   "id": "8772da05-c2c3-4b3f-96ce-a80747cd1ba6",
   "metadata": {},
   "outputs": [],
   "source": [
    "all_selected_genes = np.asarray(list(gene_dict.values())).flatten()"
   ]
  },
  {
   "cell_type": "markdown",
   "id": "bbee13de-6286-4270-89b9-a9b3daacb226",
   "metadata": {},
   "source": [
    "We can visualize these marker genes with `xomx.pl.plot_var()`:"
   ]
  },
  {
   "cell_type": "code",
   "execution_count": null,
   "id": "2d5626d6-7648-412b-8c07-78086b5a4b33",
   "metadata": {},
   "outputs": [],
   "source": [
    "xomx.pl.plot_var(xd, all_selected_genes)"
   ]
  },
  {
   "cell_type": "markdown",
   "id": "09f89bd4-e05c-42b1-b2b7-cd05b23c0ee8",
   "metadata": {},
   "source": [
    "Interestingly, we can observe that some of the selected marker genes are downregulated (especially for `\"TCGA-KIRP\"`).  \n",
    "Let us \"zoom\" on the marker genes for KIRP:"
   ]
  },
  {
   "cell_type": "code",
   "execution_count": null,
   "id": "d72cae49-2aeb-4dfa-a0e1-b626ad09493c",
   "metadata": {},
   "outputs": [],
   "source": [
    "xomx.pl.plot_var(xd, gene_dict[\"TCGA-KIRP\"])"
   ]
  },
  {
   "cell_type": "markdown",
   "id": "0483e731-bff9-4787-8521-348f26fd7675",
   "metadata": {},
   "source": [
    "We observe at least 2 significantly downregulated genes for KIRP: \n",
    "PTGER3 (ENSG00000050628) and EBF2 (ENSG00000221818)."
   ]
  },
  {
   "cell_type": "markdown",
   "id": "5da47b50-959f-4280-bb01-becaca648d7b",
   "metadata": {},
   "source": [
    "KICH markers:"
   ]
  },
  {
   "cell_type": "code",
   "execution_count": null,
   "id": "8d67c036-4fb4-4a1c-b38f-d56ea3383136",
   "metadata": {},
   "outputs": [],
   "source": [
    "xomx.pl.plot_var(xd, gene_dict[\"TCGA-KICH\"])"
   ]
  },
  {
   "cell_type": "markdown",
   "id": "c4433c90-0bd2-490c-b618-ad3e9b3133f1",
   "metadata": {},
   "source": [
    "We can also use `plot_var()` with a single gene:"
   ]
  },
  {
   "cell_type": "code",
   "execution_count": null,
   "id": "6bb2b5c3-b0da-4c29-8790-f53d353b7b1d",
   "metadata": {},
   "outputs": [],
   "source": [
    "xomx.pl.plot_var(xd, \"ENSG00000168269.10\")"
   ]
  },
  {
   "cell_type": "markdown",
   "id": "f5bab988-46b6-42b0-a5f1-5cea87e97f1f",
   "metadata": {},
   "source": [
    "Remark: there are small differences between the plots generated with bokeh or with matplotlib. For example, here, with matplotlib, violinplots are automatically generated:"
   ]
  },
  {
   "cell_type": "code",
   "execution_count": null,
   "id": "971e4604-2766-4d6d-8e3d-4ce88cefcb83",
   "metadata": {},
   "outputs": [],
   "source": [
    "xomx.pl.extension(\"matplotlib\")\n",
    "xomx.pl.plot_var(xd, \"ENSG00000168269.10\")"
   ]
  },
  {
   "cell_type": "markdown",
   "id": "05247300-fedb-404b-a3ef-50c4c44e0a57",
   "metadata": {},
   "source": [
    "The FOXI1 (ENSG00000168269) transcription factor is known to \n",
    "be drastically overexpressed in KICH. In fact, it has been argued that \n",
    "the FOXI1-driven transcriptome that defines renal intercalated cells is retained \n",
    "in KICH and implicates the intercalated cell type as the cell of origin \n",
    "for KICH; see: \n",
    "**[D. Lindgren et al., *Cell-Type-Specific Gene Programs of the Normal Human \n",
    "Nephron Define Kidney Cancer Subtypes*, Cell Reports 2017 Aug; 20(6): 1476-1489. \n",
    "doi: [10.1016/j.celrep.2017.07.043](\n",
    "https://doi.org/10.1016/j.celrep.2017.07.043\n",
    ")]**\n",
    "\n",
    "KIRC markers:"
   ]
  },
  {
   "cell_type": "code",
   "execution_count": null,
   "id": "06135062-62ef-462f-b109-b03ce0dff867",
   "metadata": {},
   "outputs": [],
   "source": [
    "xomx.pl.extension(\"bokeh\")\n",
    "xomx.pl.plot_var(xd, gene_dict[\"TCGA-KIRC\"])"
   ]
  },
  {
   "cell_type": "markdown",
   "id": "737a0727-1839-4a04-95fe-f1e9d81a3336",
   "metadata": {},
   "source": [
    "We can notice in particular the upregulation of NDUFA4L2 (ENSG00000185633),\n",
    "a gene that has been analyzed as a biomarker for KIRC in\n",
    "**[D. R. Minton et al., *Role of NADH Dehydrogenase (Ubiquinone) 1 alpha subcomplex 4-like \n",
    "2 in clear cell renal cell carcinoma*, \n",
    "Clin Cancer Res. 2016 Jun 1;22(11):2791-801. doi: [10.1158/1078-0432.CCR-15-1511](\n",
    "https://doi.org/10.1158/1078-0432.CCR-15-1511\n",
    ")]**.\n",
    "\n",
    "Finally, we filter and restrict the data to the selected genes, and follow \n",
    "the Scanpy procedure to compute a 2D UMAP embedding:"
   ]
  },
  {
   "cell_type": "code",
   "execution_count": null,
   "id": "857602c6-4f37-41c9-b757-852d0ce41b94",
   "metadata": {},
   "outputs": [],
   "source": [
    "xd_reduced = xd[:, all_selected_genes]\n",
    "xd_reduced.var_names_make_unique()\n",
    "sc.pp.neighbors(xd_reduced, n_neighbors=10, n_pcs=40, random_state=rng)\n",
    "sc.tl.umap(xd_reduced, random_state=rng)"
   ]
  },
  {
   "cell_type": "markdown",
   "id": "7b91d605-145a-4b25-8834-b2d7c21cba83",
   "metadata": {},
   "source": [
    "in AnnData objetcs, multi-dimensional annotations on observations are stored in `.obsm`.  \n",
    "\n",
    "`sc.tl.umap()` stores the embedding in `xd_reduced.obsm[\"X_umap\"]`.  \n",
    "\n",
    "We use `xomx.pl.plot_2d_obsm()` to display an interactive plot:"
   ]
  },
  {
   "cell_type": "code",
   "execution_count": null,
   "id": "61c283f0-ac93-431e-bc0f-b5eb5a947037",
   "metadata": {},
   "outputs": [],
   "source": [
    "xomx.pl.plot_2d_obsm(xd_reduced, \"X_umap\")"
   ]
  },
  {
   "cell_type": "markdown",
   "id": "4996536a-40db-4fe0-8ee2-49c25405ab6d",
   "metadata": {},
   "source": [
    "By default, the colors are defined by the labels stored in `xd.obs[\"labels\"]`, unless `xd.obs[\"colors\"]` exists, in which case it is used to define the colors.   \n",
    "The colors can also depend on a function provided in input (but the function is not considered if `xd.obs[\"colors\"]` exists). The function must take sample indices in input and return numeric values.  \n",
    "We give an example with a function that returns the scores computed by the \"TCGA-KIRC\" classifier:"
   ]
  },
  {
   "cell_type": "code",
   "execution_count": null,
   "id": "bddd4717-9917-4fa7-984b-04743dcd1eae",
   "metadata": {},
   "outputs": [],
   "source": [
    "kirc_scores = feature_selectors[\"TCGA-KIRC\"].score(xd.X)\n",
    "xomx.pl.plot_2d_obsm(xd_reduced, \"X_umap\", lambda i: kirc_scores[i])"
   ]
  },
  {
   "cell_type": "markdown",
   "id": "04a7b368-f4bc-4fb8-a9d8-2d6dc4ed2961",
   "metadata": {},
   "source": [
    "A common need is to use colors that depend on the value of one particular feature, so this can be done by simply passing the name of the feature in input:"
   ]
  },
  {
   "cell_type": "code",
   "execution_count": null,
   "id": "1ff957f4-925c-4e05-ac2f-ad4542295598",
   "metadata": {},
   "outputs": [],
   "source": [
    "xomx.pl.plot_2d_obsm(xd_reduced, \"X_umap\", \"ENSG00000185633.10\")"
   ]
  },
  {
   "cell_type": "code",
   "execution_count": null,
   "id": "3aa6c308-ffa3-43cc-af3b-6c8ce421e5bd",
   "metadata": {},
   "outputs": [],
   "source": [
    "xomx.pl.plot_2d_obsm(xd_reduced, \"X_umap\", \"ENSG00000185633.10\")"
   ]
  }
 ],
 "metadata": {
  "kernelspec": {
   "display_name": "Python 3",
   "language": "python",
   "name": "python3"
  },
  "language_info": {
   "codemirror_mode": {
    "name": "ipython",
    "version": 3
   },
   "file_extension": ".py",
   "mimetype": "text/x-python",
   "name": "python",
   "nbconvert_exporter": "python",
   "pygments_lexer": "ipython3",
   "version": "3.7.7"
  }
 },
 "nbformat": 4,
 "nbformat_minor": 5
}
