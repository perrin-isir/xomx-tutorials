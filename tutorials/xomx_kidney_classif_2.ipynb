{
 "cells": [
  {
   "cell_type": "markdown",
   "id": "00ca4539",
   "metadata": {
    "tags": []
   },
   "source": [
    "<a href=\"https://colab.research.google.com/github/perrin-isir/xomx-tutorials/blob/main/tutorials/xomx_kidney_classif_2.ipynb\"> <img align=\"left\" src=\"https://colab.research.google.com/assets/colab-badge.svg\" alt=\"Open in Colab\" title=\"Open in Google Colaboratory\"></a>\n",
    "<a id=\"raw-url\" href=\"https://raw.githubusercontent.com/perrin-isir/xomx-tutorials/main/tutorials/xomx_kidney_classif_2.ipynb\" download> <img align=\"left\" src=\"https://img.shields.io/badge/Github-Download%20(Right%20click%20%2B%20Save%20link%20as...)-blue\" alt=\"Download (Right click + Save link as)\" title=\"Download Notebook\"></a>"
   ]
  },
  {
   "cell_type": "markdown",
   "id": "8175622d-2de5-47b4-8a41-15d0739df11a",
   "metadata": {},
   "source": [
    "# *xomx tutorial:* **constructing diagnostic biomarker signatures**: phase 2\n",
    "\n",
    "This is the second and main phase of the tutorial on kidney cancer classification. We recall that the objective of this tutorial is to use a recursive feature elimination method on \n",
    "RNA-seq data from the Cancer Genome Atlas (TCGA) to identify gene biomarker signatures for the differential diagnosis of three types of kidney cancer. \n",
    "\n",
    "The recursive feature elimination method is based on \n",
    "the [Extra-Trees algorithm](https://link.springer.com/article/10.1007/s10994-006-6226-1)\n",
    "(and its implementation in \n",
    "[scikit-learn](https://scikit-learn.org/stable/modules/generated/sklearn.ensemble.ExtraTreesClassifier.html)).\n",
    "\n",
    "**Remark (1/2):** the first phase of the tutorial [(xomx_kidney_classif_1.ipynb)](https://github.com/perrin-isir/xomx-tutorials/blob/main/tutorials/xomx_kidney_classif_1.ipynb) imports the RNA-seq data from the Cancer Genome Atlas (TGCA) online database, and applies basic preprocessing. It results in the file `xomx_kidney_classif_small.h5ad`, which is an AnnData object containing RNA-seq data for 265 samples labelled \"TCGA-KIRC\" (kidney renal clear cell carcinoma), \"TCGA-KIRP\" (kidney renal papillary cell carcinoma), or \"TCGA-KICH\" (chromophobe renal cell carcinoma). The samples have been randomly assigned to a training set (75%) and a validation set (25%). For each of the samples, the features are the levels of expression of the top 8000 highly variable genes that have been selected in phase 1. \n",
    "\n",
    "**Remark (2/2):** the first phase of the tutorial is optional. It takes some time to import the data from the Cancer Genome Atlas (TGCA) online database, so for convenience we stored `xomx_kidney_classif_small.h5ad` in the *xomx-tutorials* repository [(https://github.com/perrin-isir/xomx-tutorials/blob/main/tutorials/xomx_kidney_classif_small.h5ad)](https://github.com/perrin-isir/xomx-tutorials/blob/main/tutorials/xomx_kidney_classif_small.h5ad). The file is directly downloaded in this phase 2 of the tutorial, therefore phase 1 can be skipped."
   ]
  },
  {
   "cell_type": "markdown",
   "id": "918d0494-848e-45ae-b680-697d0e0aca94",
   "metadata": {},
   "source": [
    "Execute the following cell to display the last plot obtained at the end of this tutorial, a UMAP embedding of the RNA-seq data reduced to a small set of biomarker genes, with colors based on the expression levels of the gene NDUFA4L2 (ENSG00000185633):"
   ]
  },
  {
   "cell_type": "code",
   "execution_count": null,
   "id": "6ea6e098-74fc-4bbc-945f-8f9edc2d381d",
   "metadata": {},
   "outputs": [],
   "source": [
    "from IPython.display import HTML\n",
    "HTML(\"xomx_kidney_classif_figure.html\")"
   ]
  },
  {
   "cell_type": "code",
   "execution_count": null,
   "id": "386902e2",
   "metadata": {},
   "outputs": [],
   "source": [
    "# imports:\n",
    "import os\n",
    "from IPython.display import clear_output\n",
    "try:\n",
    "    import xomx\n",
    "except ImportError:\n",
    "    !pip install git+https://github.com/perrin-isir/xomx.git\n",
    "    clear_output()\n",
    "    import xomx\n",
    "try:\n",
    "    import scanpy as sc\n",
    "except ImportError:\n",
    "    !pip install scanpy\n",
    "    clear_output()\n",
    "    import scanpy as sc\n",
    "import numpy as np"
   ]
  },
  {
   "cell_type": "markdown",
   "id": "a24213d4-7514-42a4-a46e-f3bc2fb04cc1",
   "metadata": {},
   "source": [
    "We define `save_dir`, the folder in which everything will be saved."
   ]
  },
  {
   "cell_type": "code",
   "execution_count": null,
   "id": "00c326e5",
   "metadata": {},
   "outputs": [],
   "source": [
    "save_dir = os.path.expanduser(os.path.join(\"~\", \"results\", \"xomx-tutorials\", \"kidney_classif\"))  # the default directory in which results are stored\n",
    "os.makedirs(save_dir, exist_ok=True)"
   ]
  },
  {
   "cell_type": "code",
   "execution_count": null,
   "id": "6830d3e3-751c-4d93-b546-6eab66a5d35e",
   "metadata": {},
   "outputs": [],
   "source": [
    "# Setting the pseudo-random number generator\n",
    "rng = np.random.RandomState(0)"
   ]
  },
  {
   "cell_type": "markdown",
   "id": "759d405f-1597-489c-8e0b-af4c70b89186",
   "metadata": {},
   "source": [
    "## Step 1: loading the data"
   ]
  },
  {
   "cell_type": "code",
   "execution_count": null,
   "id": "60e389d1-a0ad-4599-b2ca-3881e0c6e82f",
   "metadata": {},
   "outputs": [],
   "source": [
    "if not os.path.exists(os.path.join(save_dir, \"xomx_kidney_classif_small.h5ad\")):\n",
    "    !wget -O {os.path.join(save_dir, \"xomx_kidney_classif_small.h5ad\")} \"https://github.com/perrin-isir/xomx-tutorials/blob/main/tutorials/xomx_kidney_classif_small.h5ad?raw=true\""
   ]
  },
  {
   "cell_type": "code",
   "execution_count": null,
   "id": "a94ab57b",
   "metadata": {},
   "outputs": [],
   "source": [
    "xd = sc.read(os.path.join(save_dir, \"xomx_kidney_classif_small.h5ad\"))"
   ]
  },
  {
   "cell_type": "code",
   "execution_count": null,
   "id": "8ce0ce80",
   "metadata": {},
   "outputs": [],
   "source": [
    "xd"
   ]
  },
  {
   "cell_type": "markdown",
   "id": "5d429b36",
   "metadata": {},
   "source": [
    "`xd` contains the data matrix and the data annotations.\n",
    "There are 465 samples, and 8000 features which were selected with the function `sc.pp.highly_variable_genes()`, see [xomx_kidney_classif_1.ipynb](https://github.com/perrin-isir/xomx/blob/main/xomx-tutorials/tutorials/xomx_kidney_classif_1.ipynb).\n",
    "\n",
    "`xd.X[0, :]`, the first row, contains the 8000 (normalized and logarithmized) expression levels for the \n",
    "first sample.  "
   ]
  },
  {
   "cell_type": "code",
   "execution_count": null,
   "id": "351f3180",
   "metadata": {},
   "outputs": [],
   "source": [
    "xd.X[0, :]"
   ]
  },
  {
   "cell_type": "markdown",
   "id": "b1f2d2e5",
   "metadata": {},
   "source": [
    "`xd.X[:, 0]`, the first column, contains the values of the first feature for all samples.\n",
    "\n",
    "The feature names (gene IDs) are stored in `xd.var_names`, and the sample\n",
    "identifiers are stored in `xd.obs_names`. "
   ]
  },
  {
   "cell_type": "code",
   "execution_count": null,
   "id": "004e9550",
   "metadata": {},
   "outputs": [],
   "source": [
    "xd.var_names"
   ]
  },
  {
   "cell_type": "markdown",
   "id": "63119fb5",
   "metadata": {},
   "source": [
    "The labels are stored in `xd.obs[\"labels\"]`."
   ]
  },
  {
   "cell_type": "code",
   "execution_count": null,
   "id": "3922cb68",
   "metadata": {},
   "outputs": [],
   "source": [
    "xd.obs[\"labels\"]"
   ]
  },
  {
   "cell_type": "markdown",
   "id": "43c60627",
   "metadata": {},
   "source": [
    "Using the function `train_and_test_indices()` (see [xomx_kidney_classif_1.ipynb](https://github.com/perrin-isir/xomx/blob/main/xomx-tutorials/tutorials/xomx_kidney_classif_1.ipynb)), the data has been divided into a training set and a test set.\n",
    "- `xd.uns[\"train_indices\"]` is the array of indices of all samples that belong to the training set.\n",
    "- `xd.uns[\"test_indices\"]`is the array of indices of all samples that belong to the test set.\n",
    "- `xd.uns[\"train_indices_per_label\"]` is the dictionary of sample indices in the training set, per label. For instance, `xd.uns[\"train_indices_per_label\"][\"TCGA-KIRP\"]` is the array of indices of all the samples labelled as `\"TCGA-KIRP\"` that belong to the training set.\n",
    "- `xd.uns[\"test_indices_per_label\"]`is the dictionary of sample indices in the test set, per label."
   ]
  },
  {
   "cell_type": "code",
   "execution_count": null,
   "id": "ca10bdde",
   "metadata": {},
   "outputs": [],
   "source": [
    "xd.uns[\"test_indices_per_label\"][\"TCGA-KICH\"]"
   ]
  },
  {
   "cell_type": "markdown",
   "id": "d0f2e03e",
   "metadata": {
    "tags": []
   },
   "source": [
    "## Step 2: training binary classifiers and performing recursive feature elimination\n",
    "\n",
    "We initialize an empty dictionary of \"feature selectors\":"
   ]
  },
  {
   "cell_type": "code",
   "execution_count": null,
   "id": "153b4a10",
   "metadata": {},
   "outputs": [],
   "source": [
    "feature_selectors = {}"
   ]
  },
  {
   "cell_type": "markdown",
   "id": "8edf0351",
   "metadata": {},
   "source": [
    "There will be one feature selector per label.\n",
    "What we call feature selector here is a binary classifier\n",
    "trained with the Extra-Trees algorithm to\n",
    "distinguish samples with a given label from\n",
    "other types of samples. After training, features are\n",
    "ranked by a measure of importance known as the Gini importance, \n",
    "and the 100 most important features are kept. \n",
    "Then, the Extra-Trees algorithm is run again on the training\n",
    "data filtered to the 100 selected features, which leads to a \n",
    "new measure of importance of the features. We repeat the \n",
    "procedure to progressively select 30, then 20, 15 and finally 10\n",
    "features. At each iteration, we evaluate on the test set the \n",
    "Matthews correlation coefficient (MCC score) of the \n",
    "classifier to observe how the performance changes \n",
    "when the number of features decreases.  \n",
    "The progression 100-30-20-15-10 is arbitrary, but \n",
    "the most efficient strategies start by aggressively \n",
    "reducing the number of features, and then slow down\n",
    "when the number of features becomes small.\n",
    "\n",
    "Here is the loop that trains all the classifiers and ends up \n",
    "selecting 10 features for every label. It also creates \n",
    "`gene_dict`, a dictionary of the 10-gene signatures selected\n",
    "for each label."
   ]
  },
  {
   "cell_type": "code",
   "execution_count": null,
   "id": "884e960c",
   "metadata": {},
   "outputs": [],
   "source": [
    "gene_dict = {}\n",
    "for label in xd.uns[\"all_labels\"]:\n",
    "    print(\"Label: \" + label)\n",
    "    feature_selectors[label] = xomx.fs.RFEExtraTrees(\n",
    "        xd,\n",
    "        label,\n",
    "        n_estimators=450,\n",
    "        random_state=rng,\n",
    "    )\n",
    "    feature_selectors[label].init()\n",
    "    for siz in [100, 30, 20, 15, 10]:\n",
    "        print(\"Selecting\", siz, \"features...\")\n",
    "        feature_selectors[label].select_features(siz)\n",
    "        print(\n",
    "            \"MCC score:\",\n",
    "            xomx.tl.matthews_coef(feature_selectors[label].confusion_matrix),\n",
    "        )\n",
    "    gene_dict[label] = [\n",
    "        xd.var_names[idx_]\n",
    "        for idx_ in feature_selectors[label].current_feature_indices\n",
    "    ]\n",
    "    print(\"Done.\")"
   ]
  },
  {
   "cell_type": "markdown",
   "id": "7510f520",
   "metadata": {
    "tags": []
   },
   "source": [
    "## Step 3: visualizing results"
   ]
  },
  {
   "cell_type": "markdown",
   "id": "606ae1c2",
   "metadata": {},
   "source": [
    "Using the plotting function `scatter()`,\n",
    "we plot the standard deviation vs mean value for all the \n",
    "features (which were computed before logarithmizing the data).\n",
    "`scatter()` takes in input two functions, one for \n",
    "the x-axis, and one for the y-axis. Each of these functions\n",
    "must take in input the feature index.  \n",
    "\n",
    "By changing the \n",
    "`obs_or_var` option to \"obs\" instead of \"var\", we can use\n",
    "`scatter()` to make a scatter plot over the samples\n",
    "instead of over the features."
   ]
  },
  {
   "cell_type": "code",
   "execution_count": null,
   "id": "e1090321",
   "metadata": {},
   "outputs": [],
   "source": [
    "xomx.pl.scatter(\n",
    "    xd,\n",
    "    lambda idx: xd.var[\"mean_values\"][idx],\n",
    "    lambda idx: xd.var[\"standard_deviations\"][idx],\n",
    "    obs_or_var=\"var\",\n",
    "    xlog_scale=True,\n",
    "    ylog_scale=True,\n",
    "    xlabel=\"mean values\",\n",
    "    ylabel=\"standard deviations\",\n",
    ")"
   ]
  },
  {
   "cell_type": "markdown",
   "id": "415ad37d-d2e9-4dcc-acb0-6315c04fc238",
   "metadata": {},
   "source": [
    "You can notice that the plots are interactive: information is obtained by hovering the cursor over the points.  \n",
    "By default, the plots are made with bokeh, but matplotlib can be used as well.\n",
    "This is controlled with the function `xomx.pl.extension()`:"
   ]
  },
  {
   "cell_type": "code",
   "execution_count": null,
   "id": "3daef57d-f20d-46be-9f23-c9e273a4b976",
   "metadata": {},
   "outputs": [],
   "source": [
    "xomx.pl.extension(\"matplotlib\")"
   ]
  },
  {
   "cell_type": "markdown",
   "id": "f5cc5766-81f2-4f9d-8f33-81ab9e787c24",
   "metadata": {},
   "source": [
    "In a notebook, interactive plots with matplotlib require using ipympl, and enabling it with the matplotlib Jupyter magic `@matplotlib widget` (**remark:** matplotlib interactive plots are typically slower in notebooks than in python scripts)."
   ]
  },
  {
   "cell_type": "code",
   "execution_count": null,
   "id": "6385c349-69a3-43c2-a5d3-26339590f998",
   "metadata": {},
   "outputs": [],
   "source": [
    "try:\n",
    "    import ipympl\n",
    "except ImportError:\n",
    "    !pip install ipympl\n",
    "    clear_output()\n",
    "    import ipympl\n",
    "%matplotlib widget"
   ]
  },
  {
   "cell_type": "code",
   "execution_count": null,
   "id": "cc3e690b-0d4f-4b5c-b954-17545fd6a19f",
   "metadata": {},
   "outputs": [],
   "source": [
    "xomx.pl.scatter(\n",
    "    xd,\n",
    "    lambda idx: xd.var[\"mean_values\"][idx],\n",
    "    lambda idx: xd.var[\"standard_deviations\"][idx],\n",
    "    obs_or_var=\"var\",\n",
    "    xlog_scale=True,\n",
    "    ylog_scale=True,\n",
    "    xlabel=\"mean values\",\n",
    "    ylabel=\"standard deviations\",\n",
    ")"
   ]
  },
  {
   "cell_type": "markdown",
   "id": "aecaa813-d1ac-4d14-aab2-da99a1600e62",
   "metadata": {},
   "source": [
    "However, interactive plots with matplotlib do not work in Colab, and `@matplotlib inline` must be used instead."
   ]
  },
  {
   "cell_type": "code",
   "execution_count": null,
   "id": "b5ee52ae-9b4a-4b34-93ab-bb23ba78711d",
   "metadata": {},
   "outputs": [],
   "source": [
    "%matplotlib inline\n",
    "xomx.pl.scatter(\n",
    "    xd,\n",
    "    lambda idx: xd.var[\"mean_values\"][idx],\n",
    "    lambda idx: xd.var[\"standard_deviations\"][idx],\n",
    "    obs_or_var=\"var\",\n",
    "    xlog_scale=True,\n",
    "    ylog_scale=True,\n",
    "    xlabel=\"mean values\",\n",
    "    ylabel=\"standard deviations\",\n",
    ")"
   ]
  },
  {
   "cell_type": "markdown",
   "id": "849a6241",
   "metadata": {},
   "source": [
    "This plot shows the 8000 highly variable genes selected in the phase 1 of the tutorial ([xomx_kidney_classif_1.ipynb](https://github.com/perrin-isir/xomx/blob/main/xomx-tutorials/tutorials/xomx_kidney_classif_1.ipynb)), and we can observe the frontier defined by `sc.pp.highly_variable_genes()` to remove genes considered less variable.\n",
    "\n",
    "For a given feature selector, for example `feature_selectors[\"TCGA-KIRP\"]`,\n",
    "`plot()` displays results on the test set. The classifier uses only the selected \n",
    "features, here the 10 features selected for the label `\"TCGA-KIRP\"`.\n",
    "Points above the horizontal red line (score > 0.5) are classified as positives (prediction: `\"TCGA-KIRP\"`), and points below the horizontal line (score < 0.5)\n",
    "are classified as negatives (prediction: `not \"TCGA-KIRP\"`)."
   ]
  },
  {
   "cell_type": "code",
   "execution_count": null,
   "id": "f74316f9",
   "metadata": {},
   "outputs": [],
   "source": [
    "xomx.pl.extension(\"bokeh\")\n",
    "feature_selectors[\"TCGA-KIRP\"].plot()"
   ]
  },
  {
   "cell_type": "markdown",
   "id": "13b61c24",
   "metadata": {},
   "source": [
    "We can construct a multiclass classifier based on the 3 binary classifiers:"
   ]
  },
  {
   "cell_type": "code",
   "execution_count": null,
   "id": "d2b83e33",
   "metadata": {},
   "outputs": [],
   "source": [
    "sbm = xomx.cl.ScoreBasedMulticlass(xd, xd.uns[\"all_labels\"], feature_selectors)"
   ]
  },
  {
   "cell_type": "markdown",
   "id": "f173d13e",
   "metadata": {},
   "source": [
    "This multiclass classifier bases its predictions on 30 features (at most): the \n",
    "union of the three 10-gene signatures (one per label). It simply computes the 3 \n",
    "scores of each of the binary classifiers, and returns the label that corresponds \n",
    "to the highest score.  \n",
    "`plot()` displays results on the test set:"
   ]
  },
  {
   "cell_type": "code",
   "execution_count": null,
   "id": "9d3c1c6f",
   "metadata": {},
   "outputs": [],
   "source": [
    "sbm.plot()"
   ]
  },
  {
   "cell_type": "markdown",
   "id": "f670ede7",
   "metadata": {},
   "source": [
    "For each of the 3 labels, points that are \n",
    "higher in the horizontal band correspond to a \n",
    "higher confidence in the prediction (but\n",
    "the very top of the band does not mean 100% \n",
    "confidence).\n",
    "\n",
    "We gather the selected genes in a single list:"
   ]
  },
  {
   "cell_type": "code",
   "execution_count": null,
   "id": "9ed98b16",
   "metadata": {},
   "outputs": [],
   "source": [
    "all_selected_genes = np.asarray(list(gene_dict.values())).flatten()"
   ]
  },
  {
   "cell_type": "markdown",
   "id": "b1167ab7",
   "metadata": {},
   "source": [
    "We can visualize these marker genes with `xomx.pl.plot_var()`:"
   ]
  },
  {
   "cell_type": "code",
   "execution_count": null,
   "id": "e8546b39",
   "metadata": {},
   "outputs": [],
   "source": [
    "xomx.pl.plot_var(xd, all_selected_genes)"
   ]
  },
  {
   "cell_type": "markdown",
   "id": "400fc58e",
   "metadata": {},
   "source": [
    "Interestingly, we can observe that some of the selected marker genes are downregulated (especially for `\"TCGA-KIRP\"`).  \n",
    "Let us \"zoom\" on the marker genes for KIRP:"
   ]
  },
  {
   "cell_type": "code",
   "execution_count": null,
   "id": "b5fe9d59",
   "metadata": {},
   "outputs": [],
   "source": [
    "xomx.pl.plot_var(xd, gene_dict[\"TCGA-KIRP\"])"
   ]
  },
  {
   "cell_type": "markdown",
   "id": "0962ab5e",
   "metadata": {},
   "source": [
    "We observe at least 2 significantly downregulated genes for KIRP: \n",
    "PTGER3 (ENSG00000050628) and EBF2 (ENSG00000221818)."
   ]
  },
  {
   "cell_type": "markdown",
   "id": "65a5f9e5",
   "metadata": {},
   "source": [
    "KICH markers:"
   ]
  },
  {
   "cell_type": "code",
   "execution_count": null,
   "id": "a09c524c",
   "metadata": {},
   "outputs": [],
   "source": [
    "xomx.pl.plot_var(xd, gene_dict[\"TCGA-KICH\"])"
   ]
  },
  {
   "cell_type": "markdown",
   "id": "64c22e19",
   "metadata": {},
   "source": [
    "We can also use `plot_var()` with a single gene:"
   ]
  },
  {
   "cell_type": "code",
   "execution_count": null,
   "id": "9b2ac1ef",
   "metadata": {},
   "outputs": [],
   "source": [
    "xomx.pl.plot_var(xd, \"ENSG00000168269.10\")"
   ]
  },
  {
   "cell_type": "markdown",
   "id": "ab4a3f7b-1e38-4db4-9c4f-6acf8298a6d3",
   "metadata": {},
   "source": [
    "Remark: there are small differences between the plots generated with bokeh or with matplotlib. For example, here, with matplotlib, violinplots are automatically generated:"
   ]
  },
  {
   "cell_type": "code",
   "execution_count": null,
   "id": "f74d9d5a-13ae-4fca-98c4-6d9cf4185191",
   "metadata": {},
   "outputs": [],
   "source": [
    "xomx.pl.extension(\"matplotlib\")\n",
    "xomx.pl.plot_var(xd, \"ENSG00000168269.10\")"
   ]
  },
  {
   "cell_type": "markdown",
   "id": "0a8c3c6b",
   "metadata": {},
   "source": [
    "The FOXI1 (ENSG00000168269) transcription factor is known to \n",
    "be drastically overexpressed in KICH. In fact, it has been argued that \n",
    "the FOXI1-driven transcriptome that defines renal intercalated cells is retained \n",
    "in KICH and implicates the intercalated cell type as the cell of origin \n",
    "for KICH; see: \n",
    "**[D. Lindgren et al., *Cell-Type-Specific Gene Programs of the Normal Human \n",
    "Nephron Define Kidney Cancer Subtypes*, Cell Reports 2017 Aug; 20(6): 1476-1489. \n",
    "doi: [10.1016/j.celrep.2017.07.043](\n",
    "https://doi.org/10.1016/j.celrep.2017.07.043\n",
    ")]**\n",
    "\n",
    "KIRC markers:"
   ]
  },
  {
   "cell_type": "code",
   "execution_count": null,
   "id": "62c93c0d",
   "metadata": {},
   "outputs": [],
   "source": [
    "xomx.pl.extension(\"bokeh\")\n",
    "xomx.pl.plot_var(xd, gene_dict[\"TCGA-KIRC\"])"
   ]
  },
  {
   "cell_type": "markdown",
   "id": "72a89c12",
   "metadata": {},
   "source": [
    "We can notice in particular the upregulation of NDUFA4L2 (ENSG00000185633),\n",
    "a gene that has been analyzed as a biomarker for KIRC in\n",
    "**[D. R. Minton et al., *Role of NADH Dehydrogenase (Ubiquinone) 1 alpha subcomplex 4-like \n",
    "2 in clear cell renal cell carcinoma*, \n",
    "Clin Cancer Res. 2016 Jun 1;22(11):2791-801. doi: [10.1158/1078-0432.CCR-15-1511](\n",
    "https://doi.org/10.1158/1078-0432.CCR-15-1511\n",
    ")]**.\n",
    "\n",
    "Finally, we filter and restrict the data to the selected genes, and follow \n",
    "the Scanpy procedure to compute a 2D UMAP embedding:"
   ]
  },
  {
   "cell_type": "code",
   "execution_count": null,
   "id": "82468d81",
   "metadata": {},
   "outputs": [],
   "source": [
    "xd_reduced = xd[:, all_selected_genes]\n",
    "xd_reduced.var_names_make_unique()\n",
    "sc.pp.neighbors(xd_reduced, n_neighbors=10, n_pcs=40, random_state=rng)\n",
    "sc.tl.umap(xd_reduced, random_state=rng)"
   ]
  },
  {
   "cell_type": "markdown",
   "id": "c1d1a19d",
   "metadata": {},
   "source": [
    "in AnnData objetcs, multi-dimensional annotations on observations are stored in `.obsm`.  \n",
    "\n",
    "`sc.tl.umap()` stores the embedding in `xd_reduced.obsm[\"X_umap\"]`.  \n",
    "\n",
    "We use `xomx.pl.plot_2d_obsm()` to display an interactive plot:"
   ]
  },
  {
   "cell_type": "code",
   "execution_count": null,
   "id": "215a8fb5",
   "metadata": {},
   "outputs": [],
   "source": [
    "xomx.pl.plot_2d_obsm(xd_reduced, \"X_umap\")"
   ]
  },
  {
   "cell_type": "markdown",
   "id": "d69ade66-803b-45ef-a277-09844e289d51",
   "metadata": {},
   "source": [
    "By default, the colors are defined by the labels stored in `xd.obs[\"labels\"]`, unless `xd.obs[\"colors\"]` exists, in which case it is used to define the colors.   \n",
    "The colors can also depend on a function provided in input (but the function is not considered if `xd.obs[\"colors\"]` exists). The function must take sample indices in input and return numeric values.  \n",
    "We give an example with a function that returns the scores computed by the \"TCGA-KIRC\" classifier:"
   ]
  },
  {
   "cell_type": "code",
   "execution_count": null,
   "id": "fed60d1d-6b04-45be-bf3c-2f0e7843bfc9",
   "metadata": {},
   "outputs": [],
   "source": [
    "kirc_scores = feature_selectors[\"TCGA-KIRC\"].score(xd.X)\n",
    "xomx.pl.plot_2d_obsm(xd_reduced, \"X_umap\", lambda i: kirc_scores[i])"
   ]
  },
  {
   "cell_type": "markdown",
   "id": "095793f6-0011-4048-a674-6af877e7b4cc",
   "metadata": {},
   "source": [
    "A common need is to use colors that depend on the value of one particular feature, so this can be done by simply passing the name of the feature in input:"
   ]
  },
  {
   "cell_type": "code",
   "execution_count": null,
   "id": "b9200b1c-b9fa-4327-bd12-481077d5173f",
   "metadata": {},
   "outputs": [],
   "source": [
    "xomx.pl.plot_2d_obsm(xd_reduced, \"X_umap\", \"ENSG00000185633.10\")"
   ]
  },
  {
   "cell_type": "code",
   "execution_count": null,
   "id": "b7c4d33c-e671-486d-a6f7-50bba56cc568",
   "metadata": {},
   "outputs": [],
   "source": [
    "xomx.pl.plot_2d_obsm(xd_reduced, \"X_umap\", \"ENSG00000185633.10\")"
   ]
  }
 ],
 "metadata": {
  "kernelspec": {
   "display_name": "Python 3",
   "language": "python",
   "name": "python3"
  },
  "language_info": {
   "codemirror_mode": {
    "name": "ipython",
    "version": 3
   },
   "file_extension": ".py",
   "mimetype": "text/x-python",
   "name": "python",
   "nbconvert_exporter": "python",
   "pygments_lexer": "ipython3",
   "version": "3.7.7"
  }
 },
 "nbformat": 4,
 "nbformat_minor": 5
}
