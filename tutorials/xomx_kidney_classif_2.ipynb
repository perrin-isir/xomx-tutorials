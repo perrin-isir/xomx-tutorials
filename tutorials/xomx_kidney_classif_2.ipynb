{
 "cells": [
  {
   "cell_type": "markdown",
   "id": "00ca4539",
   "metadata": {
    "tags": []
   },
   "source": [
    "<a href=\"https://colab.research.google.com/github/perrin-isir/xomx-tutorials/blob/main/tutorials/xomx_kidney_classif_2.ipynb\"> <img align=\"left\" src=\"https://colab.research.google.com/assets/colab-badge.svg\" alt=\"Open in Colab\" title=\"Open in Google Colaboratory\"></a>\n",
    "<a id=\"raw-url\" href=\"https://raw.githubusercontent.com/perrin-isir/xomx-tutorials/main/tutorials/xomx_kidney_classif_2.ipynb\" download> <img align=\"left\" src=\"https://img.shields.io/badge/Github-Download%20(Right%20click%20%2B%20Save%20link%20as...)-blue\" alt=\"Download (Right click + Save link as)\" title=\"Download Notebook\"></a>"
   ]
  },
  {
   "cell_type": "markdown",
   "id": "8175622d-2de5-47b4-8a41-15d0739df11a",
   "metadata": {},
   "source": [
    "# *xomx tutorial:* **constructing diagnostic biomarker signatures**: phase 2\n",
    "\n",
    "This is the second and main phase of the tutorial on kidney cancer classification. We recall that the objective of this tutorial is to use a recursive feature elimination method on \n",
    "RNA-seq data from the Cancer Genome Atlas (TCGA) to identify gene biomarker signatures for the differential diagnosis of three types of kidney cancer. \n",
    "\n",
    "The recursive feature elimination method is based on \n",
    "the [Extra-Trees algorithm](https://link.springer.com/article/10.1007/s10994-006-6226-1)\n",
    "(and its implementation in \n",
    "[scikit-learn](https://scikit-learn.org/stable/modules/generated/sklearn.ensemble.ExtraTreesClassifier.html)).\n",
    "\n",
    "**Remark (1/2):** the first phase of the tutorial [(xomx_kidney_classif_1.ipynb)](https://github.com/perrin-isir/xomx-tutorials/blob/main/tutorials/xomx_kidney_classif_1.ipynb) imports the RNA-seq data from the Cancer Genome Atlas (TGCA) online database, and applies basic preprocessing. It results in the file `xomx_kidney_classif_small.h5ad`, which is an AnnData object containing RNA-seq data for 265 samples labelled \"TCGA-KIRC\" (kidney renal clear cell carcinoma), \"TCGA-KIRP\" (kidney renal papillary cell carcinoma), or \"TCGA-KICH\" (chromophobe renal cell carcinoma). The samples have been randomly assigned to a training set (75%) and a validation set (25%). For each of the samples, the features are the levels of expression of the top 8000 highly variable genes that have been selected in phase 1. \n",
    "\n",
    "**Remark (2/2):** the first phase of the tutorial is optional. It takes some time to import the data from the Cancer Genome Atlas (TGCA) online database, so for convenience we stored `xomx_kidney_classif_small.h5ad` in the *xomx-tutorials* repository [(https://github.com/perrin-isir/xomx-tutorials/blob/main/tutorials/xomx_kidney_classif_small.h5ad)](https://github.com/perrin-isir/xomx-tutorials/blob/main/tutorials/xomx_kidney_classif_small.h5ad). The file is directly downloaded in this phase 2 of the tutorial, therefore phase 1 can be skipped."
   ]
  },
  {
   "cell_type": "markdown",
   "id": "918d0494-848e-45ae-b680-697d0e0aca94",
   "metadata": {},
   "source": [
    "Execute the following cell to display the last plot obtained at the end of this tutorial, a UMAP embedding of the RNA-seq data reduced to a small set of biomarker genes, with colors based on the expression levels of the gene NDUFA4L2 (ENSG00000185633):"
   ]
  },
  {
   "cell_type": "code",
   "execution_count": 1,
   "id": "6b31c47e-6e7c-491d-af8d-d716dfdfb9c2",
   "metadata": {},
   "outputs": [
    {
     "data": {
      "text/html": [
       "\n",
       "\n",
       "\n",
       "\n",
       "<!DOCTYPE html>\n",
       "<html lang=\"en\">\n",
       "  \n",
       "  <head>\n",
       "    \n",
       "      <meta charset=\"utf-8\">\n",
       "      <title>xomx_kidney_classif_figure</title>\n",
       "      \n",
       "      \n",
       "        \n",
       "          \n",
       "        <link rel=\"stylesheet\" href=\"https://unpkg.com/@holoviz/panel@0.12.6/dist/css/dataframe.css\" type=\"text/css\" />\n",
       "        <link rel=\"stylesheet\" href=\"https://unpkg.com/@holoviz/panel@0.12.6/dist/css/widgets.css\" type=\"text/css\" />\n",
       "        <link rel=\"stylesheet\" href=\"https://unpkg.com/@holoviz/panel@0.12.6/dist/css/alerts.css\" type=\"text/css\" />\n",
       "        <link rel=\"stylesheet\" href=\"https://unpkg.com/@holoviz/panel@0.12.6/dist/css/card.css\" type=\"text/css\" />\n",
       "        <link rel=\"stylesheet\" href=\"https://unpkg.com/@holoviz/panel@0.12.6/dist/css/json.css\" type=\"text/css\" />\n",
       "        <link rel=\"stylesheet\" href=\"https://unpkg.com/@holoviz/panel@0.12.6/dist/css/markdown.css\" type=\"text/css\" />\n",
       "        <link rel=\"stylesheet\" href=\"https://unpkg.com/@holoviz/panel@0.12.6/dist/css/loading.css\" type=\"text/css\" />\n",
       "        <style>\n",
       "            \n",
       "                    .bk.pn-loading.arcs:before {\n",
       "                      background-image: url(\"data:image/svg+xml;base64,PHN2ZyB4bWxucz0iaHR0cDovL3d3dy53My5vcmcvMjAwMC9zdmciIHhtbG5zOnhsaW5rPSJodHRwOi8vd3d3LnczLm9yZy8xOTk5L3hsaW5rIiBzdHlsZT0ibWFyZ2luOiBhdXRvOyBiYWNrZ3JvdW5kOiBub25lOyBkaXNwbGF5OiBibG9jazsgc2hhcGUtcmVuZGVyaW5nOiBhdXRvOyIgdmlld0JveD0iMCAwIDEwMCAxMDAiIHByZXNlcnZlQXNwZWN0UmF0aW89InhNaWRZTWlkIj4gIDxjaXJjbGUgY3g9IjUwIiBjeT0iNTAiIHI9IjMyIiBzdHJva2Utd2lkdGg9IjgiIHN0cm9rZT0iI2MzYzNjMyIgc3Ryb2tlLWRhc2hhcnJheT0iNTAuMjY1NDgyNDU3NDM2NjkgNTAuMjY1NDgyNDU3NDM2NjkiIGZpbGw9Im5vbmUiIHN0cm9rZS1saW5lY2FwPSJyb3VuZCI+ICAgIDxhbmltYXRlVHJhbnNmb3JtIGF0dHJpYnV0ZU5hbWU9InRyYW5zZm9ybSIgdHlwZT0icm90YXRlIiByZXBlYXRDb3VudD0iaW5kZWZpbml0ZSIgZHVyPSIxcyIga2V5VGltZXM9IjA7MSIgdmFsdWVzPSIwIDUwIDUwOzM2MCA1MCA1MCI+PC9hbmltYXRlVHJhbnNmb3JtPiAgPC9jaXJjbGU+PC9zdmc+\");\n",
       "                      max-height: 400px;\n",
       "                    }\n",
       "                    \n",
       "        </style>\n",
       "        \n",
       "        \n",
       "          \n",
       "        <script type=\"text/javascript\" src=\"https://cdn.bokeh.org/bokeh/release/bokeh-2.4.2.min.js\"></script>\n",
       "        <script type=\"text/javascript\" src=\"https://cdn.bokeh.org/bokeh/release/bokeh-gl-2.4.2.min.js\"></script>\n",
       "        <script type=\"text/javascript\" src=\"https://cdn.bokeh.org/bokeh/release/bokeh-widgets-2.4.2.min.js\"></script>\n",
       "        <script type=\"text/javascript\" src=\"https://cdn.bokeh.org/bokeh/release/bokeh-tables-2.4.2.min.js\"></script>\n",
       "        <script type=\"text/javascript\" src=\"https://unpkg.com/@holoviz/panel@0.12.6/dist/panel.min.js\"></script>\n",
       "        <script type=\"text/javascript\">\n",
       "            Bokeh.set_log_level(\"info\");\n",
       "        </script>\n",
       "        \n",
       "      \n",
       "      \n",
       "    \n",
       "  </head>\n",
       "  \n",
       "  \n",
       "  <body>\n",
       "    \n",
       "      \n",
       "        \n",
       "          \n",
       "          \n",
       "            \n",
       "              <div class=\"bk-root\" id=\"1314ea22-008a-4bc5-a945-287cb6dc972b\" data-root-id=\"3746\"></div>\n",
       "            \n",
       "          \n",
       "        \n",
       "      \n",
       "      \n",
       "        <script type=\"application/json\" id=\"3912\">\n",
       "          {\"f25d8bc2-e907-485d-a8fc-7fa6756f0196\":{\"defs\":[{\"extends\":null,\"module\":null,\"name\":\"ReactiveHTML1\",\"overrides\":[],\"properties\":[]},{\"extends\":null,\"module\":null,\"name\":\"FlexBox1\",\"overrides\":[],\"properties\":[{\"default\":\"flex-start\",\"kind\":null,\"name\":\"align_content\"},{\"default\":\"flex-start\",\"kind\":null,\"name\":\"align_items\"},{\"default\":\"row\",\"kind\":null,\"name\":\"flex_direction\"},{\"default\":\"wrap\",\"kind\":null,\"name\":\"flex_wrap\"},{\"default\":\"flex-start\",\"kind\":null,\"name\":\"justify_content\"}]},{\"extends\":null,\"module\":null,\"name\":\"TemplateActions1\",\"overrides\":[],\"properties\":[{\"default\":0,\"kind\":null,\"name\":\"open_modal\"},{\"default\":0,\"kind\":null,\"name\":\"close_modal\"}]},{\"extends\":null,\"module\":null,\"name\":\"MaterialTemplateActions1\",\"overrides\":[],\"properties\":[{\"default\":0,\"kind\":null,\"name\":\"open_modal\"},{\"default\":0,\"kind\":null,\"name\":\"close_modal\"}]}],\"roots\":{\"references\":[{\"attributes\":{\"margin\":[5,5,5,5],\"name\":\"HSpacer06158\",\"sizing_mode\":\"stretch_width\"},\"id\":\"3747\",\"type\":\"Spacer\"},{\"attributes\":{},\"id\":\"3798\",\"type\":\"BasicTickFormatter\"},{\"attributes\":{\"fill_color\":{\"field\":\"color\",\"transform\":{\"id\":\"3781\"}},\"hatch_color\":{\"field\":\"color\",\"transform\":{\"id\":\"3781\"}},\"line_color\":{\"field\":\"color\",\"transform\":{\"id\":\"3781\"}},\"x\":{\"field\":\"vUoJtajHOn_x_\"},\"y\":{\"field\":\"vUoJtajHOn_y_\"}},\"id\":\"3785\",\"type\":\"Scatter\"},{\"attributes\":{\"coordinates\":null,\"group\":null,\"text_color\":\"black\",\"text_font_size\":\"12pt\"},\"id\":\"3752\",\"type\":\"Title\"},{\"attributes\":{\"axis_label\":\"\",\"coordinates\":null,\"formatter\":{\"id\":\"3795\"},\"group\":null,\"major_label_policy\":{\"id\":\"3796\"},\"ticker\":{\"id\":\"3761\"}},\"id\":\"3760\",\"type\":\"LinearAxis\"},{\"attributes\":{\"axis\":{\"id\":\"3760\"},\"coordinates\":null,\"grid_line_color\":null,\"group\":null,\"ticker\":null},\"id\":\"3763\",\"type\":\"Grid\"},{\"attributes\":{\"below\":[{\"id\":\"3760\"}],\"center\":[{\"id\":\"3763\"},{\"id\":\"3767\"}],\"left\":[{\"id\":\"3764\"}],\"margin\":[5,5,5,5],\"min_border_bottom\":10,\"min_border_left\":10,\"min_border_right\":10,\"min_border_top\":10,\"renderers\":[{\"id\":\"3790\"}],\"right\":[{\"id\":\"3793\"}],\"sizing_mode\":\"fixed\",\"title\":{\"id\":\"3752\"},\"toolbar\":{\"id\":\"3774\"},\"width\":900,\"x_range\":{\"id\":\"3748\"},\"x_scale\":{\"id\":\"3756\"},\"y_range\":{\"id\":\"3749\"},\"y_scale\":{\"id\":\"3758\"}},\"id\":\"3751\",\"subtype\":\"Figure\",\"type\":\"Plot\"},{\"attributes\":{\"margin\":[5,5,5,5],\"name\":\"HSpacer06159\",\"sizing_mode\":\"stretch_width\"},\"id\":\"3822\",\"type\":\"Spacer\"},{\"attributes\":{\"fill_color\":{\"field\":\"color\",\"transform\":{\"id\":\"3781\"}},\"hatch_color\":{\"field\":\"color\",\"transform\":{\"id\":\"3781\"}},\"line_color\":{\"field\":\"color\",\"transform\":{\"id\":\"3781\"}},\"x\":{\"field\":\"vUoJtajHOn_x_\"},\"y\":{\"field\":\"vUoJtajHOn_y_\"}},\"id\":\"3787\",\"type\":\"Scatter\"},{\"attributes\":{},\"id\":\"3808\",\"type\":\"UnionRenderers\"},{\"attributes\":{\"bottom_units\":\"screen\",\"coordinates\":null,\"fill_alpha\":0.5,\"fill_color\":\"lightgrey\",\"group\":null,\"left_units\":\"screen\",\"level\":\"overlay\",\"line_alpha\":1.0,\"line_color\":\"black\",\"line_dash\":[4,4],\"line_width\":2,\"right_units\":\"screen\",\"syncable\":false,\"top_units\":\"screen\"},\"id\":\"3773\",\"type\":\"BoxAnnotation\"},{\"attributes\":{\"children\":[{\"id\":\"3747\"},{\"id\":\"3751\"},{\"id\":\"3822\"}],\"margin\":[0,0,0,0],\"name\":\"Row06154\",\"tags\":[\"embedded\"]},\"id\":\"3746\",\"type\":\"Row\"},{\"attributes\":{},\"id\":\"3770\",\"type\":\"WheelZoomTool\"},{\"attributes\":{\"end\":16.16409034729004,\"reset_end\":16.16409034729004,\"reset_start\":-13.54666347503662,\"start\":-13.54666347503662,\"tags\":[[[\"vUoJtajHOn_y_\",\"vUoJtajHOn_y_\",null]]]},\"id\":\"3749\",\"type\":\"Range1d\"},{\"attributes\":{},\"id\":\"3768\",\"type\":\"SaveTool\"},{\"attributes\":{},\"id\":\"3783\",\"type\":\"Selection\"},{\"attributes\":{\"fill_alpha\":{\"value\":0.1},\"fill_color\":{\"field\":\"color\",\"transform\":{\"id\":\"3781\"}},\"hatch_alpha\":{\"value\":0.1},\"hatch_color\":{\"field\":\"color\",\"transform\":{\"id\":\"3781\"}},\"line_alpha\":{\"value\":0.1},\"line_color\":{\"field\":\"color\",\"transform\":{\"id\":\"3781\"}},\"x\":{\"field\":\"vUoJtajHOn_x_\"},\"y\":{\"field\":\"vUoJtajHOn_y_\"}},\"id\":\"3786\",\"type\":\"Scatter\"},{\"attributes\":{},\"id\":\"3758\",\"type\":\"LinearScale\"},{\"attributes\":{\"data\":{\"color\":{\"__ndarray__\":\"FqXdQOrSykCtYvpA7UflQNZ2+EATaQNB69vsQCT+7EBGcPlAgW7cQEZw2UBdl91Ao//7QKi97EAB7t9AWTbxQBum80BJaNlAfOLlQPZbw0D1x+NAER3mQMJlzED2YuFAHszhQOK5+ED7ouNA2EwIQe7570CqKPhApbrJQL22+0DFxQhAqzBCQEK2kECPgu9AszTQQIYx4UAP1t9AUq8NQasny0AaW/VAhxU2QB4C90Drw/ZAf/3VQD059EDloP5ABPzsQGTP50DohelA4GzuPzW78kAgRetAXkmpQN/Qq0ASRthAj7bvQJRb3UA8uv9APc/QQB4u6UBp2PxA/0fvQDnQ70ACsf1AvMk4QHr15kB3YPBAd035QJQpAUEd+fhAZQ/7QK2F90DkCclAbhTMQO3b3kAiTPtAMcv/QPfDpEACZt5AyPH0QGmo3UCUfG1AIKztQKj20UCDvt9AkRH0QG9y7kB8IN1A4QgBQeMGjUBSbtxAG87tQPFbz0AKpeNAcBjwQGCK6UA6AQBB+B/1QHcIB0CWX70/Rv0QQMPJ6z+AX70/mTJYQCKquT9iSbo/Ezf8P3ifyz97q5w/V4/xP0RNdkCzuzw/C3zNP/mBpz8MzGNAvu0cQJcMLz9uHNM/OV0KQC4jqD+B+ps/xxbBP0pJBEAtbQpAn0cTQKJL/D8RH6E/6G5WQIJhxz8W5eE/WNKqP2ng/D8MOSZAq7PpP0eKjD+5pa4/DZ8+QE69gz98tRpAIPXaPwgWhkAmU/w/BAJhPzgkgD8D0pA/WwAKQEQtEkC1a44/x8qWP2/ggz+GGrc/VW3pP7LVzT8+xvY/24+WP/ReuD9I0Z0/BjHoP91Q1z9yv4w/ut3sP4714z9s7fA/Rk8TQH96tkDKRh9AVnrUQJi7AkCccCBACH24P81fvkCXZWw/sO2XP4tLzD++/dU/2E8OQDGyoT8zPPs/EwruP0u+rkAOfgRAhsiHP6K48T+1obU/11/LPydLrD8CkGNAmntgQJt1HEA7RMU/EFDQP/iv0j9eq4A/P8QxQN/tJEATT+U/s0IQQNd5vj9OxklAwU0/QFp2YUAA01RAu+ZEQDRnS0AXOzFAybsRQL1adECIsmZAbT1KQA47UkBl4UxAlO5YQFUnQ0CxrFdA+jAhQKHba0D/k1pAUOM+QFsUb0CWVldATUoCQIDWA0BH9nhAl1tLQD1fVEDKIWxAlQ0sQCPkW0CEMEVAg8RBQLcvbEBIvdo/tt5QQDOnJkAHWypAU4IWQMZBvj/KTTlA+1FUQMiTPkDjc4pA6tpAQHiPP0AeoDRA/mk3QNMARECBMjdAZKRcQJj1NUADl3xAgs4lQBOYIUCVB0xAx1VWQJuzBUDdVzNA1s80QCCJYEDugTBA//VtQAo7OECkKy9A/tUeQA==\",\"dtype\":\"float32\",\"order\":\"little\",\"shape\":[265]},\"colors\":{\"__ndarray__\":\"FqXdQOrSykCtYvpA7UflQNZ2+EATaQNB69vsQCT+7EBGcPlAgW7cQEZw2UBdl91Ao//7QKi97EAB7t9AWTbxQBum80BJaNlAfOLlQPZbw0D1x+NAER3mQMJlzED2YuFAHszhQOK5+ED7ouNA2EwIQe7570CqKPhApbrJQL22+0DFxQhAqzBCQEK2kECPgu9AszTQQIYx4UAP1t9AUq8NQasny0AaW/VAhxU2QB4C90Drw/ZAf/3VQD059EDloP5ABPzsQGTP50DohelA4GzuPzW78kAgRetAXkmpQN/Qq0ASRthAj7bvQJRb3UA8uv9APc/QQB4u6UBp2PxA/0fvQDnQ70ACsf1AvMk4QHr15kB3YPBAd035QJQpAUEd+fhAZQ/7QK2F90DkCclAbhTMQO3b3kAiTPtAMcv/QPfDpEACZt5AyPH0QGmo3UCUfG1AIKztQKj20UCDvt9AkRH0QG9y7kB8IN1A4QgBQeMGjUBSbtxAG87tQPFbz0AKpeNAcBjwQGCK6UA6AQBB+B/1QHcIB0CWX70/Rv0QQMPJ6z+AX70/mTJYQCKquT9iSbo/Ezf8P3ifyz97q5w/V4/xP0RNdkCzuzw/C3zNP/mBpz8MzGNAvu0cQJcMLz9uHNM/OV0KQC4jqD+B+ps/xxbBP0pJBEAtbQpAn0cTQKJL/D8RH6E/6G5WQIJhxz8W5eE/WNKqP2ng/D8MOSZAq7PpP0eKjD+5pa4/DZ8+QE69gz98tRpAIPXaPwgWhkAmU/w/BAJhPzgkgD8D0pA/WwAKQEQtEkC1a44/x8qWP2/ggz+GGrc/VW3pP7LVzT8+xvY/24+WP/ReuD9I0Z0/BjHoP91Q1z9yv4w/ut3sP4714z9s7fA/Rk8TQH96tkDKRh9AVnrUQJi7AkCccCBACH24P81fvkCXZWw/sO2XP4tLzD++/dU/2E8OQDGyoT8zPPs/EwruP0u+rkAOfgRAhsiHP6K48T+1obU/11/LPydLrD8CkGNAmntgQJt1HEA7RMU/EFDQP/iv0j9eq4A/P8QxQN/tJEATT+U/s0IQQNd5vj9OxklAwU0/QFp2YUAA01RAu+ZEQDRnS0AXOzFAybsRQL1adECIsmZAbT1KQA47UkBl4UxAlO5YQFUnQ0CxrFdA+jAhQKHba0D/k1pAUOM+QFsUb0CWVldATUoCQIDWA0BH9nhAl1tLQD1fVEDKIWxAlQ0sQCPkW0CEMEVAg8RBQLcvbEBIvdo/tt5QQDOnJkAHWypAU4IWQMZBvj/KTTlA+1FUQMiTPkDjc4pA6tpAQHiPP0AeoDRA/mk3QNMARECBMjdAZKRcQJj1NUADl3xAgs4lQBOYIUCVB0xAx1VWQJuzBUDdVzNA1s80QCCJYEDugTBA//VtQAo7OECkKy9A/tUeQA==\",\"dtype\":\"float32\",\"order\":\"little\",\"shape\":[265]},\"labels\":[\"TCGA-KIRC\",\"TCGA-KIRC\",\"TCGA-KIRC\",\"TCGA-KIRC\",\"TCGA-KIRC\",\"TCGA-KIRC\",\"TCGA-KIRC\",\"TCGA-KIRC\",\"TCGA-KIRC\",\"TCGA-KIRC\",\"TCGA-KIRC\",\"TCGA-KIRC\",\"TCGA-KIRC\",\"TCGA-KIRC\",\"TCGA-KIRC\",\"TCGA-KIRC\",\"TCGA-KIRC\",\"TCGA-KIRC\",\"TCGA-KIRC\",\"TCGA-KIRC\",\"TCGA-KIRC\",\"TCGA-KIRC\",\"TCGA-KIRC\",\"TCGA-KIRC\",\"TCGA-KIRC\",\"TCGA-KIRC\",\"TCGA-KIRC\",\"TCGA-KIRC\",\"TCGA-KIRC\",\"TCGA-KIRC\",\"TCGA-KIRC\",\"TCGA-KIRC\",\"TCGA-KIRC\",\"TCGA-KIRC\",\"TCGA-KIRC\",\"TCGA-KIRC\",\"TCGA-KIRC\",\"TCGA-KIRC\",\"TCGA-KIRC\",\"TCGA-KIRC\",\"TCGA-KIRC\",\"TCGA-KIRC\",\"TCGA-KIRC\",\"TCGA-KIRC\",\"TCGA-KIRC\",\"TCGA-KIRC\",\"TCGA-KIRC\",\"TCGA-KIRC\",\"TCGA-KIRC\",\"TCGA-KIRC\",\"TCGA-KIRC\",\"TCGA-KIRC\",\"TCGA-KIRC\",\"TCGA-KIRC\",\"TCGA-KIRC\",\"TCGA-KIRC\",\"TCGA-KIRC\",\"TCGA-KIRC\",\"TCGA-KIRC\",\"TCGA-KIRC\",\"TCGA-KIRC\",\"TCGA-KIRC\",\"TCGA-KIRC\",\"TCGA-KIRC\",\"TCGA-KIRC\",\"TCGA-KIRC\",\"TCGA-KIRC\",\"TCGA-KIRC\",\"TCGA-KIRC\",\"TCGA-KIRC\",\"TCGA-KIRC\",\"TCGA-KIRC\",\"TCGA-KIRC\",\"TCGA-KIRC\",\"TCGA-KIRC\",\"TCGA-KIRC\",\"TCGA-KIRC\",\"TCGA-KIRC\",\"TCGA-KIRC\",\"TCGA-KIRC\",\"TCGA-KIRC\",\"TCGA-KIRC\",\"TCGA-KIRC\",\"TCGA-KIRC\",\"TCGA-KIRC\",\"TCGA-KIRC\",\"TCGA-KIRC\",\"TCGA-KIRC\",\"TCGA-KIRC\",\"TCGA-KIRC\",\"TCGA-KIRC\",\"TCGA-KIRC\",\"TCGA-KIRC\",\"TCGA-KIRC\",\"TCGA-KIRC\",\"TCGA-KIRC\",\"TCGA-KIRC\",\"TCGA-KIRC\",\"TCGA-KIRC\",\"TCGA-KIRC\",\"TCGA-KIRP\",\"TCGA-KIRP\",\"TCGA-KIRP\",\"TCGA-KIRP\",\"TCGA-KIRP\",\"TCGA-KIRP\",\"TCGA-KIRP\",\"TCGA-KIRP\",\"TCGA-KIRP\",\"TCGA-KIRP\",\"TCGA-KIRP\",\"TCGA-KIRP\",\"TCGA-KIRP\",\"TCGA-KIRP\",\"TCGA-KIRP\",\"TCGA-KIRP\",\"TCGA-KIRP\",\"TCGA-KIRP\",\"TCGA-KIRP\",\"TCGA-KIRP\",\"TCGA-KIRP\",\"TCGA-KIRP\",\"TCGA-KIRP\",\"TCGA-KIRP\",\"TCGA-KIRP\",\"TCGA-KIRP\",\"TCGA-KIRP\",\"TCGA-KIRP\",\"TCGA-KIRP\",\"TCGA-KIRP\",\"TCGA-KIRP\",\"TCGA-KIRP\",\"TCGA-KIRP\",\"TCGA-KIRP\",\"TCGA-KIRP\",\"TCGA-KIRP\",\"TCGA-KIRP\",\"TCGA-KIRP\",\"TCGA-KIRP\",\"TCGA-KIRP\",\"TCGA-KIRP\",\"TCGA-KIRP\",\"TCGA-KIRP\",\"TCGA-KIRP\",\"TCGA-KIRP\",\"TCGA-KIRP\",\"TCGA-KIRP\",\"TCGA-KIRP\",\"TCGA-KIRP\",\"TCGA-KIRP\",\"TCGA-KIRP\",\"TCGA-KIRP\",\"TCGA-KIRP\",\"TCGA-KIRP\",\"TCGA-KIRP\",\"TCGA-KIRP\",\"TCGA-KIRP\",\"TCGA-KIRP\",\"TCGA-KIRP\",\"TCGA-KIRP\",\"TCGA-KIRP\",\"TCGA-KIRP\",\"TCGA-KIRP\",\"TCGA-KIRP\",\"TCGA-KIRP\",\"TCGA-KIRP\",\"TCGA-KIRP\",\"TCGA-KIRP\",\"TCGA-KIRP\",\"TCGA-KIRP\",\"TCGA-KIRP\",\"TCGA-KIRP\",\"TCGA-KIRP\",\"TCGA-KIRP\",\"TCGA-KIRP\",\"TCGA-KIRP\",\"TCGA-KIRP\",\"TCGA-KIRP\",\"TCGA-KIRP\",\"TCGA-KIRP\",\"TCGA-KIRP\",\"TCGA-KIRP\",\"TCGA-KIRP\",\"TCGA-KIRP\",\"TCGA-KIRP\",\"TCGA-KIRP\",\"TCGA-KIRP\",\"TCGA-KIRP\",\"TCGA-KIRP\",\"TCGA-KIRP\",\"TCGA-KIRP\",\"TCGA-KIRP\",\"TCGA-KIRP\",\"TCGA-KIRP\",\"TCGA-KIRP\",\"TCGA-KIRP\",\"TCGA-KIRP\",\"TCGA-KIRP\",\"TCGA-KIRP\",\"TCGA-KIRP\",\"TCGA-KICH\",\"TCGA-KICH\",\"TCGA-KICH\",\"TCGA-KICH\",\"TCGA-KICH\",\"TCGA-KICH\",\"TCGA-KICH\",\"TCGA-KICH\",\"TCGA-KICH\",\"TCGA-KICH\",\"TCGA-KICH\",\"TCGA-KICH\",\"TCGA-KICH\",\"TCGA-KICH\",\"TCGA-KICH\",\"TCGA-KICH\",\"TCGA-KICH\",\"TCGA-KICH\",\"TCGA-KICH\",\"TCGA-KICH\",\"TCGA-KICH\",\"TCGA-KICH\",\"TCGA-KICH\",\"TCGA-KICH\",\"TCGA-KICH\",\"TCGA-KICH\",\"TCGA-KICH\",\"TCGA-KICH\",\"TCGA-KICH\",\"TCGA-KICH\",\"TCGA-KICH\",\"TCGA-KICH\",\"TCGA-KICH\",\"TCGA-KICH\",\"TCGA-KICH\",\"TCGA-KICH\",\"TCGA-KICH\",\"TCGA-KICH\",\"TCGA-KICH\",\"TCGA-KICH\",\"TCGA-KICH\",\"TCGA-KICH\",\"TCGA-KICH\",\"TCGA-KICH\",\"TCGA-KICH\",\"TCGA-KICH\",\"TCGA-KICH\",\"TCGA-KICH\",\"TCGA-KICH\",\"TCGA-KICH\",\"TCGA-KICH\",\"TCGA-KICH\",\"TCGA-KICH\",\"TCGA-KICH\",\"TCGA-KICH\",\"TCGA-KICH\",\"TCGA-KICH\",\"TCGA-KICH\",\"TCGA-KICH\",\"TCGA-KICH\",\"TCGA-KICH\",\"TCGA-KICH\",\"TCGA-KICH\",\"TCGA-KICH\",\"TCGA-KICH\"],\"vUoJtajHOn_colors\":{\"__ndarray__\":\"FqXdQOrSykCtYvpA7UflQNZ2+EATaQNB69vsQCT+7EBGcPlAgW7cQEZw2UBdl91Ao//7QKi97EAB7t9AWTbxQBum80BJaNlAfOLlQPZbw0D1x+NAER3mQMJlzED2YuFAHszhQOK5+ED7ouNA2EwIQe7570CqKPhApbrJQL22+0DFxQhAqzBCQEK2kECPgu9AszTQQIYx4UAP1t9AUq8NQasny0AaW/VAhxU2QB4C90Drw/ZAf/3VQD059EDloP5ABPzsQGTP50DohelA4GzuPzW78kAgRetAXkmpQN/Qq0ASRthAj7bvQJRb3UA8uv9APc/QQB4u6UBp2PxA/0fvQDnQ70ACsf1AvMk4QHr15kB3YPBAd035QJQpAUEd+fhAZQ/7QK2F90DkCclAbhTMQO3b3kAiTPtAMcv/QPfDpEACZt5AyPH0QGmo3UCUfG1AIKztQKj20UCDvt9AkRH0QG9y7kB8IN1A4QgBQeMGjUBSbtxAG87tQPFbz0AKpeNAcBjwQGCK6UA6AQBB+B/1QHcIB0CWX70/Rv0QQMPJ6z+AX70/mTJYQCKquT9iSbo/Ezf8P3ifyz97q5w/V4/xP0RNdkCzuzw/C3zNP/mBpz8MzGNAvu0cQJcMLz9uHNM/OV0KQC4jqD+B+ps/xxbBP0pJBEAtbQpAn0cTQKJL/D8RH6E/6G5WQIJhxz8W5eE/WNKqP2ng/D8MOSZAq7PpP0eKjD+5pa4/DZ8+QE69gz98tRpAIPXaPwgWhkAmU/w/BAJhPzgkgD8D0pA/WwAKQEQtEkC1a44/x8qWP2/ggz+GGrc/VW3pP7LVzT8+xvY/24+WP/ReuD9I0Z0/BjHoP91Q1z9yv4w/ut3sP4714z9s7fA/Rk8TQH96tkDKRh9AVnrUQJi7AkCccCBACH24P81fvkCXZWw/sO2XP4tLzD++/dU/2E8OQDGyoT8zPPs/EwruP0u+rkAOfgRAhsiHP6K48T+1obU/11/LPydLrD8CkGNAmntgQJt1HEA7RMU/EFDQP/iv0j9eq4A/P8QxQN/tJEATT+U/s0IQQNd5vj9OxklAwU0/QFp2YUAA01RAu+ZEQDRnS0AXOzFAybsRQL1adECIsmZAbT1KQA47UkBl4UxAlO5YQFUnQ0CxrFdA+jAhQKHba0D/k1pAUOM+QFsUb0CWVldATUoCQIDWA0BH9nhAl1tLQD1fVEDKIWxAlQ0sQCPkW0CEMEVAg8RBQLcvbEBIvdo/tt5QQDOnJkAHWypAU4IWQMZBvj/KTTlA+1FUQMiTPkDjc4pA6tpAQHiPP0AeoDRA/mk3QNMARECBMjdAZKRcQJj1NUADl3xAgs4lQBOYIUCVB0xAx1VWQJuzBUDdVzNA1s80QCCJYEDugTBA//VtQAo7OECkKy9A/tUeQA==\",\"dtype\":\"float32\",\"order\":\"little\",\"shape\":[265]},\"vUoJtajHOn_name\":[\"f1d244a9-f031-4286-b433-572de7ed8d42\",\"cbabaf06-c15c-4655-a6c2-89a523ec7a9e\",\"9fcf3bdd-e137-4f93-83f4-24b883ca62c3\",\"9befd66c-7e2b-4081-b933-3c69d94cad96\",\"cc8c7c7e-a682-43ca-af76-08b49bf3512a\",\"c51b2e7b-b9e7-44a5-b09f-ba3377f1fc5e\",\"f34985d8-172b-4fae-8d06-989e7dc4dc06\",\"6d560c49-6d99-467b-b2a9-5d236eff9f87\",\"b766e689-e3ff-4d0c-8eb0-d81c1df638d4\",\"160f9fb3-e1e0-4f32-ab86-9555e838a0a0\",\"a3cac4bf-4b70-4fc8-b0a5-8bda5b6d405c\",\"c4143095-ebf5-4ce2-91fe-6aea9cc62cc7\",\"00ddbdd1-f29d-438b-820b-aacb111a3ec4\",\"0fbdc947-5a9e-47de-b4fa-bbbf1ba4fd6b\",\"53a4f1ae-7669-4580-b054-0a5b58e76520\",\"a136ae8b-1e0d-4843-a461-ce554ad77458\",\"3629b10d-fb7e-47a0-b2d2-4320de98fa17\",\"2693e892-e285-4d51-b84a-7498437b6956\",\"16349fe9-a2c9-4577-8b34-6761dd22ee61\",\"79b49079-070b-4b97-80b9-838bbd32f33c\",\"9845de96-d57a-4613-89db-6a6c4e2eca4b\",\"0e7e953c-82c3-4887-86b5-584d41cfe518\",\"69c0795b-d68f-4262-9e00-39eff5b66814\",\"54813ceb-f5c7-4c62-8b0a-047145bb6bae\",\"626f256f-7057-47c3-8775-cda761910b1f\",\"66b1f91a-937c-4e1f-b4ab-07d1ef9fe1db\",\"e6a09aba-4d6e-4079-9b34-0e9caf705885\",\"6ae1ed76-5b6f-41a6-917b-cc713f874a03\",\"e0ab8fc2-a369-4e2b-a07a-67794bf6955b\",\"152893a4-2d02-4941-bbe9-eb038cce9ef2\",\"7947afe8-e62c-4d32-81d6-5eb44fd1cea6\",\"6838acd3-3b0b-4ba4-b9da-1d0ffe9c5640\",\"4a2da9f0-b75d-466c-b9f0-2e910ee24365\",\"afe6bf7f-c463-4077-9c5c-3d00ce6ee8a8\",\"5474fa69-b83c-44b9-8e1b-1b16406a42ed\",\"8522fa29-c1b0-4e41-9bcb-2e0bc7c8e2d0\",\"f18443d3-f207-4c05-9738-d70e10d60cfc\",\"342bcdf8-2b01-45b8-9bb7-48f151345ac2\",\"7b3da303-63a6-4bd7-ab94-cf6e38dfe1e0\",\"ba209e1e-87f1-47a9-a858-d60953ef4528\",\"de6772b8-dd18-4584-880e-b4080e2e0f8d\",\"a936147d-36de-4749-9f38-c80e955c7186\",\"3b473c49-9140-4d1d-b9f9-0c9056e93d8a\",\"e4747f6d-4c5c-4d49-886f-2c69fe206879\",\"822bf4fe-8d43-47c8-9906-5d38c4a21f27\",\"a33333fb-31f7-4874-aefd-a004be0d943e\",\"e44dbaa1-6ef0-48ba-bf0f-3cfa502cbd14\",\"a78e44f3-6e93-47f4-9653-2ce1b1d7d25d\",\"ceaf66d6-7fcf-47d6-ae3f-99323057c910\",\"6d47118e-cd8a-4d75-970f-2f0f3aff712c\",\"bd1ebebf-1e32-4c8e-a476-a429bfbc3d46\",\"04f48a21-1ab5-45d0-ba8a-8b6cd53ca1ff\",\"9ea5c78a-10b6-4e76-a588-4a169817d01c\",\"61894bd0-9fdb-4bb1-b32c-f52dbc10c850\",\"307fc027-0530-452b-8fa9-d46f7fc73d0e\",\"bdb74506-8766-42e1-922e-e03da4637a70\",\"7c7bfa90-8754-4170-b009-ba858bddcb38\",\"1d4c5088-5f7a-4ac9-8a04-46288af80215\",\"7bb02e2f-67db-4527-959a-4f38da4edd7a\",\"83300c43-0958-4165-99cf-e956cb47d38b\",\"424b672b-e409-4b9c-821f-b9d16cc3f454\",\"5eb4cdf7-10ee-4e24-801c-7297b5b3ebd7\",\"bb4ec992-dd81-4758-b4f2-7560fbc4cf2b\",\"07b09d0e-fac2-42a7-9cac-ac1e38a92298\",\"3f5f2871-02ed-48d4-9d26-e4fe823c7df0\",\"7a3b5b7d-67cc-4048-9bd9-9db08bad1601\",\"5f006edb-0f66-45eb-9a36-e31bbcdf8147\",\"c0d545e4-ab23-41f8-a29f-7a9df01c4abd\",\"fd493a63-08fb-4076-8b3c-f443dc4bcb0b\",\"32fb5b1c-5eac-4afc-9eac-fdde0dfe60d8\",\"9b794c4e-3176-4cdf-b59b-2b1a13bd603a\",\"7f16d20f-07e2-4901-ae00-4da70125e8a3\",\"a3bdc783-f9de-42d6-b0ad-eadec504b7d8\",\"d99b2ce2-38a1-4d13-b8dd-7db33bfd360a\",\"ffe0d448-20d6-4952-9650-03531ef6fc79\",\"c2c34b18-7f7a-47ac-9f42-b7700562d006\",\"51a84b87-eddd-40a9-ad8a-46f3682b9318\",\"eb921878-4c02-4b11-9c4d-84df7926ef70\",\"eeb522fe-ab63-4e1f-b2cf-de74af6b64f2\",\"0cb86c23-556d-4c56-b6cd-96dbbaff1441\",\"12e9affd-cc06-49d9-b485-47e7034be973\",\"2f9b9698-edc6-4049-809c-9733f05f5c2b\",\"3a6bb1dd-89ba-4f26-b7d7-c0c174c0bdf1\",\"d1e1f6c5-e3af-418c-89ed-8b68f8157f36\",\"54bccab4-c77e-4848-b698-b62941d96289\",\"5576ae8b-e6e9-496d-854a-8c696bd965c9\",\"7b34b9d4-8526-4738-87b4-f9435a1c7ae1\",\"040e6555-b1a3-43ca-ae2b-a972fc01fa19\",\"b605224a-cf9c-4092-beb4-5ed43c1179de\",\"70060c00-5e4c-41f0-abff-f573881194aa\",\"4850ae76-fede-466d-9362-c0d2e16335ad\",\"f43cfd22-5e58-4369-9ea0-a0b6cc63a7db\",\"1be72033-3da7-4266-9b58-2fff2dbaa48b\",\"c04d9806-d86b-4afd-9481-89037aa621d1\",\"742932b6-cf2c-4750-9a0c-145ec93d1da0\",\"f4e99961-1168-46bd-86cb-4c6662f5b8da\",\"8eb67e14-ab2d-4d8c-a945-fbdc6ad6a7be\",\"07868319-1d09-49ca-b198-5677d151d36d\",\"2d6dd901-d11e-459e-ba2e-8a587e72633e\",\"3545f947-1a52-4e14-a98d-e400a6cb5e60\",\"116f4bad-d358-48aa-b748-755644f7ca44\",\"7966d194-931d-4b96-997d-3d2ac736e72a\",\"36b3d5c0-41f0-463c-b7a6-eddf2777e627\",\"b88c1d7d-4c81-4ab3-86f4-d7dd4383ee13\",\"3932c6ab-d9a3-4625-8910-f95a1ef5c80f\",\"47bc8206-8d3d-47f3-b991-a688262a5725\",\"392502e8-239b-4dd4-a289-eb7f9c426c71\",\"ae01d866-898c-4521-8278-e0990f9d1a95\",\"acf8fce1-2afa-43b2-852e-a5bb5e21efb1\",\"497d92ae-40cc-4184-9c78-bb6f1ae1fc15\",\"986a8890-65eb-4fc6-bd57-c137d63567b4\",\"aeb93252-cec4-434a-9320-a7288e1bbae1\",\"50d4b3a0-b87d-4b2a-9c0f-187b2fd1f1fb\",\"c4560e99-9084-458f-8741-3ec3f20f3989\",\"890ce479-8022-417e-843f-4dcba9919124\",\"e4e89cbb-0528-42dd-bcfc-bb03897535c0\",\"0867513b-ed83-4714-ac04-626656162c44\",\"20d2462a-fb40-451f-b555-22bd9ec41d52\",\"a8d2c087-ab97-42e3-bcb4-9135c23765f0\",\"1052d811-3da4-451b-b02a-d858fc4724ef\",\"f6f837b2-c100-46b7-8422-c5948f464f74\",\"bab3845a-ad5f-4a7b-b68c-d766945415f7\",\"3f54db55-8f97-4338-b406-737858b5d9bf\",\"8e5a1e22-74b4-4c06-a852-71ae256ea93e\",\"221a9c55-9ec6-4ff9-83bd-8976c0e38bd8\",\"7ee1541b-c6e4-44ac-a1e6-85af4f7fa02d\",\"d6eb247c-64d6-44e8-9ca3-dbef4ff3d35c\",\"b4c0eaa4-6627-45fe-b8c2-ba23bd263b1f\",\"66bf9e5f-ce7a-4f9c-b75d-963dacf4d488\",\"8fc38950-4501-467a-9c0d-82fe974fd998\",\"d51b9b5a-0c65-41a5-942c-71441f514e64\",\"3ac56f77-e674-4963-8a0e-3afe253a1f13\",\"ffccf6fa-b5c8-4fd8-a215-42e34fa97e2a\",\"32e72ee0-c2fa-4623-bd31-23adb327788d\",\"d4de01f7-16a7-48e8-99b6-e3209d4ad09b\",\"d2906747-39ab-45a1-bb1a-ed75563e070e\",\"e3ba06be-17f2-45d3-8007-72cf887e1c41\",\"cadb84e9-3498-47c9-90bb-e1a3a71eb685\",\"5d95b91c-7418-4203-a5d5-71532f8b8614\",\"13c4fe29-094b-474a-a7f6-32c20f4308be\",\"21938fb7-2eec-431c-b316-655d64ad8c13\",\"db0b7ece-8388-4544-9b03-40737d453bff\",\"a877d371-4cb0-4974-b8e2-62bee7a34920\",\"14cc8f1d-b851-447d-86b8-5f3161959bea\",\"4260af7f-b39c-4c4b-a330-44abf0dd7813\",\"641feddc-dfbc-4102-b64c-e2e284c85b6e\",\"bd59015a-ece4-45c2-8728-ccc767f2a80d\",\"403bb101-edc8-4ff5-a2e7-7cc6e24af938\",\"85aeb4e1-f786-42eb-a720-3b5b0a726aed\",\"4f91450f-0aaa-4e84-ad45-6486d55ce2c7\",\"a190f145-a220-4f08-8d7a-233b80d811cc\",\"4dc48f0a-f6d1-47b8-8ade-f383de249f29\",\"0a4e4402-13a5-4eea-b70c-b121bcf81156\",\"b1c42fbb-018d-4267-bb1e-4b34470f84d5\",\"bbc54476-1e0b-4a0f-9786-1b4401852e1d\",\"d363ed8d-fffd-4c6d-9416-4d5581f51776\",\"3be36714-705a-4907-940a-c656e827ec41\",\"3c08ac0b-4b60-4cc2-b16f-5655462aacfa\",\"2f3d3431-3593-4b62-9e2e-9f55707873f1\",\"ebed08ea-5b6b-4948-a494-7fcfec943ae6\",\"57c44680-cd15-44a2-b526-b3fcbcfc68f2\",\"4c5577ca-14b6-40d5-b6c6-0fb4e7bdb069\",\"82c6a99e-86b3-4e6d-a541-9fec2b65b50e\",\"07b1743d-2a80-4b81-bc28-ae8b28945a32\",\"1511221e-1ade-4c58-92cd-e7912873a78f\",\"114e2e99-e9e2-463d-b1d1-5c6dec3c4b25\",\"8d0eebe4-bfb1-4d7f-bc6a-415b7b7adb6e\",\"40728342-0b5a-4cca-b6b9-9255ce9afa16\",\"1a70fc30-c323-464e-9d96-3cc86fb34e37\",\"20e24ee7-52bb-4277-a7f0-218611c68d7a\",\"459da1a3-90a4-44ab-b305-f53f0721e4cb\",\"8c168e60-209e-4cd5-a5fd-b0cebe2761cc\",\"baeba562-4e8c-46e0-acc5-e7114afc9845\",\"d897497b-fbff-4ba1-9810-a630ab439410\",\"e431f3b6-081b-4dac-85dd-e4228a8a631f\",\"3390741f-1603-4c32-935f-44077da0d0cf\",\"7f9500fc-9d6a-4873-a2e4-665fab159568\",\"668aa8c5-9d33-4efb-a664-9facc4631d91\",\"ca3c43ac-3e42-4992-bbf9-537eb8d4e74c\",\"224b8901-fe2c-47f3-8eb2-fed9e1ccf05b\",\"201df94a-df6d-46db-9c31-04c2592213f4\",\"c531be40-eb5d-41c0-a804-15db47091bb8\",\"08dbb735-a59f-4fa3-acb6-1cb93882a6da\",\"fbb15e20-1508-4de6-a0fb-9927932d192f\",\"34bea5b8-7a47-4cb3-a1f1-716f3320d4ea\",\"16865783-98a7-462f-81ab-35e19f5b3346\",\"aa1412b1-79ce-4f51-adab-58c66451ee6f\",\"ae792ff5-43f6-4cc7-aee5-6e52775ce439\",\"34da9d95-5730-4a03-8bd3-27c21bfb6130\",\"205f0869-3738-4b53-9aaf-fadc3fbebcb0\",\"0cf256ab-9787-47c9-ac95-767e004453da\",\"f6aa87e9-4e25-46f4-862b-0b78aec95b93\",\"66307ac0-eef9-4547-b9f4-bd625ca14608\",\"9f42e30b-fb32-44d3-b00d-8e6c48e30415\",\"b18c2e62-fe1f-4255-91a1-9887b14a3297\",\"3d63a0f4-fe4c-48a1-8fcf-00b6978466c9\",\"0ed533db-d680-4aea-8a97-2d1aec402773\",\"8c7eebe8-1ce4-4fcc-a5e4-9d730ff399c1\",\"718cb9f9-5ade-4c76-86d1-76d1f2fd5ac5\",\"a61cad78-3716-484f-ba93-0707821cbc79\",\"90516825-8270-4a23-8243-97f914b35be2\",\"af794da5-6884-4f0d-9107-e236c2207dc9\",\"21fae5a3-ec3c-4546-b880-b470688c7bd8\",\"a007ff12-ba3c-47b8-9acc-121816a85594\",\"d4b49325-b917-4bb6-9813-864c0cec7b0d\",\"ad201166-65b3-4363-9efc-423444184522\",\"8c39b6b3-07a1-47a0-8dd9-1b939124ae41\",\"f66edd9e-0dbe-4273-a64e-b326485350f0\",\"0161b0d1-3fb0-45e8-bed0-df99aacaaac1\",\"eae2f64f-e216-4f97-b5ef-ed690bf4b7fd\",\"9452f420-4244-4518-b607-3442361d065a\",\"5c303083-6853-4f1f-b341-b7f4580a0129\",\"7b5bdde2-cbc5-4f11-9dff-3217eb69734c\",\"80bfeafd-0b6a-49ef-a93e-e6bff0e6d2c1\",\"f5233c6c-18bf-494e-8f33-a8d0ec3e7c84\",\"0e778a8e-d8eb-4357-aaac-e68f95b795f4\",\"57673850-bcd7-4c99-ae4b-749f775448a0\",\"1da5f38c-8a6e-4ada-9161-53e6fdcf316b\",\"55cd194a-fdbd-4843-8d36-265c1a92ee34\",\"c405ed6b-d3db-4db2-9686-ff8c0a4089b7\",\"40691994-0e0c-4279-aede-a16d5e68eae8\",\"0ba21ef5-0829-422e-a674-d3817498c333\",\"07bbb0ce-057f-4ce7-aeb5-74c924bf6ab5\",\"d1d59fba-79d7-4084-830d-81b3ea3fb482\",\"08bd2f5a-9543-45b6-a7a3-c58f3d3ebfb6\",\"c31c518e-609d-441d-92e3-de1eb13a6789\",\"f13d1071-7019-4004-ac83-39b11ccea06e\",\"cfaeedcf-6198-463b-9724-8242131456d9\",\"a02fc376-4376-41f7-a2e3-1f3de09354b3\",\"bde0a1ee-95e2-4ce3-956a-cd2a46f243cf\",\"89b7b12e-c84c-4570-9982-4a22c7a1cc4c\",\"75814e94-8ca3-469e-85d1-f5489287c285\",\"d180a5c8-3713-4806-8124-efafedd69b41\",\"f65e0c6a-05c4-409b-a446-85b90671c06e\",\"4f9f330d-2f98-4011-9577-5c772d263983\",\"a4b800e3-b6ff-4823-86da-ea9755d88eac\",\"5a0e1d19-c2d4-4cff-9619-db3505383631\",\"da6bb09f-b032-4c21-8393-19aaabaac999\",\"05f5d36d-3f71-4d9c-9668-7dce66f48cd9\",\"52eafdc5-9c9e-47f3-8295-14c4aced0a83\",\"acfdbc5a-2302-4781-b20a-314dfecadb3e\",\"1db88b1a-ebe4-4500-8549-3e498271147f\",\"cb2eba77-c85c-4473-a9de-d04366f3b9be\",\"e28a82e7-e9bc-4c98-a9c0-4a28c534d030\",\"936f78b1-ca9b-46f3-849d-0ff10a7e602d\",\"09a25765-76d8-4d2a-9051-facbec6ba166\",\"0e3f97a7-63b5-4d66-bc64-1cfba1a7c32e\",\"bceddd9e-bed5-4e4e-a02d-d2eb5333e58f\",\"4e4330da-4f91-4eeb-85ae-007494022471\",\"7f8ab784-42a6-4ab5-ad93-8afec6d40648\",\"b95cabf1-0dbc-4d01-a96d-2fca57ad32ce\",\"313f5ebe-36bc-45de-84a3-93f8e27563c1\",\"3edddf65-e0ca-447c-9942-520d03e4b460\",\"ac7e275d-e504-486d-a878-9655c1693eda\",\"65f03629-8dcf-456e-bb00-6cf2b0e40843\",\"00ddf8c2-039f-409f-a2ed-b29e18395dd4\",\"cf934cea-bc57-4b8f-937d-3dbf867e83a4\",\"c62fb1ef-ebc8-4acd-836f-a5d3b81ccfd4\",\"c08d5e3f-a031-4c10-9b38-ad9b3644c272\",\"8dd0ae16-c0b1-4850-8d9b-4c3f2d4cef57\",\"bc55046f-7ce1-488c-9a60-664650e7e32b\",\"32ae3205-336a-4331-95ef-659e7174a269\",\"44f86a07-70a2-4693-a1a3-99e349a04284\",\"fd91e3b8-4749-4e44-967d-725e77080966\",\"63e20c7d-64a5-48f3-8b66-f58b57dd4a7e\"],\"vUoJtajHOn_x_\":{\"__ndarray__\":\"SoaQwO08q8AO6AXAzdSowIa6DsDlGP6/ZRgmwKWRE8CoqX/AVydnwEQEZMBzw5nAxhmKwFohj8BB13HAEZkpwDqMhcCP63TAsAgpwGEZEMBe7pPAdpwQwDTOMMAP+pLAFwmAwAdXKcCyXvu/iUYewEhLwr/2OyfAnivzv98O3L+eDxHALIK2wIhV5b9V+WHAoSUCwIRWhcBjXhLAfaxpwIlO8L9rsI3AZDCVQEnUoMCuF13AgxuWwKu6RcDXmP6/m+iEwPxhoMCccJPA32LSQFODj8ACtZvAnG+zwCW6qsC31IJA/cEcwJ6tzb8Vd4bAW/o1wCXEcsAFeem/SH6MwDzTnsB5oW3AVhEXwOIPksBoRILAF8I9wHEMDcC7J3/AVbOTwBe4jsAi5Ly/v/11wGtwE8CqSWrAP3hLwBx/l8BVvITAm9RZwPutN8Bo56pAODGMwIYRAMClvKbAkVCAwOQQnMC88KLA9D2hwNfYAcD02YzAH3FDwNEaFcCbCprAAG6XwJ1CVcAGZCrAFf9XwL5njj/u76Y/Stnyvz4/bb8jNUW/yPmXv+agNT+J5du/6RaEPnBKKMD5tWO/2eUFwCDd/r8zba++J+kIwD4Ty7+PXpO/NGS1v16KOr4/Wna//Hupv0UfkD9L19q/NfabPeXF5b82KvI+G7wkwI2mDb4FEwi/geDsv/ID2r7vmJS8pagSPu0vn78eizW/kCexPm5xN7+Pj+K+TIkewAu07D01NvC/aaaePS3rD8BZG5+/jyV4PzXpLb6hCEM+Jgi6v9moHMBapcA//nLUPjN7UD8qIlQ/ox4TwOKSk7995GK/sE8ZwHAIzT0GJr4/07csvxPmkL8H8iU/DChQPvWTgj/swI2/56/rvsjpL8BD6xG/mrVQwFdXDsAb8Qq/KoSOvqOrlr+ud7s+mBZuP/nctj4wd+BAVAohv0JkHz+/eNa+nhRKP4/gD8BibSe/Jjgzv8/tgT5mIBo+4A6mv4xZq78kD6W/6aP1v3RQ47/RGHM+KH6GvyWqq70446E/bnb6v4u0H8D1s+q+ZwMbwJZAs77Kz5tAbrY7wDYLtUDbv8JA9YXyQH1fvkCL4s1AGVqTQFnqqEDirZBA/RO4QGh+ykB688tAXsjJQBiowUCo/7JAiLq4QJsVsb9BD91AgOrAQMeazECkD5tAOZO8QDbGtUAK/8JAlzbQQFJLt0BXq6lA5IyaQPIq+kDxg9hA92KNQKvMokCqlcNAuonnQOKx8ED6ZrtATdnqQIaKZ78GOcZAXWi4QPZpwEBfOZlA4deeQN2fyUBeT+BA2hiPQO1/u0AKuaVAApD3QIkNrkBIdeZACd64QEPaNcAeg9xAt56kQEIBQ8CfeOJAzmnNQMNKnkBsWI1A6O69QDwT7kD8L/dA0rIwwA==\",\"dtype\":\"float32\",\"order\":\"little\",\"shape\":[265]},\"vUoJtajHOn_y_\":{\"__ndarray__\":\"rUIaQQEb5UBCogxBMt8IQdQ+90BE7PFALRPvQCceD0HW0hRB2dvlQD8NEEGim8FAL/INQTZkC0HCv/BA7ZnVQBmz60C1OhZBQTLsQOjr5EAlr8FAwevWQNW0xECsqQxBtu4EQSHwEEG3FeJAkpe6QFCABEE4AgBBUxyyQNg6AUGGMPvALynZQPiyoEBXdRlB1u/zQKlNtUCaBhNBsl3bQCC6wkC9wtxAb5NKQRIEzkCNCcRAK/faQNLhBkGZHwJBlLkbQUCd7UCLfwFBQNs4QSD6u0BJKdBA8XLaQKCEzEDIykJB/14JQbep+kCPRhhBFdQVQcYI3UDbwwtB9CjLQMxsBUFt4wxBdKLSwNkd40C8cshAuqAJQazmwUDHM91AyMAaQZN7tUA/6gVBsuEEQR9wAkGwCdBAMtP9QN1PvEBoUrxAC7j2QGO74ECZGlVBzPgNQffhCUFDbfpAF2/OQAk0FEHwnwxBkLQTQdsrukA0VvFADO3NQFloykBMsvNAjS0SQZHSF0E5LhVBIeoNQd5R/cAvlhfBi6zswJX5DMFz/BDBGxXWwMLRJsG/NB3BtdvxwChdHMG7fSPBZ2wjwew/3MDdITHBQnPHwJJ4EcEcE9zAGoomweccIMHK5PnAZW4ZwZQp98COaBHBRwECwS8V68DaRgDBTFq6wH8uAcGxkBrBpHgbwbF8FsEUQQHBImobwfhbI8FdUQ7B5J8KwR7uIMEJOALBe10NwSQVFMGQbw3Bb0QQwW3DBMG+0+zAAGMWwWUoH8EB3ffAZtojwXaIIMFByPjAFz8lwbttG8FYbgvBwMoawRbHCsFUF+LA2wofwcXvLMH/AA7BQFMrwYbMAMHtxRbBmdkTwdb97MBWHQXB/G3zwEs0FsETHOXA1sm9QMkpI8GvkPDAuQQIwXiKwMCuTfPA1pIhwayFEsGkjjRBOD4GwWKB7cDtEwfBY9rtwEllsEB0nh7Bjh4qwdqZKMGorhTBV8wLwR0bJcFoXs/ABC/5wKugAsEnt9zAfdsYwf8vDsFvwwTB4IkTwRY8usB6WirB0QwTwcG18sAHKUJBycSowDcTTUHGXVFBvBJLQTyFOkH5/jZB9CQ4QbyWV0GuZDpB2AJbQfJwMkHC2ElBhog/QbJlREHCvkpB0wcoQcPwwcDAIj9BpTw0QT9EMkEMaztB79NXQeRxWkFnZzVBep4xQZfHL0G8ZjZB+skyQW12Q0HDgE5B+LNKQVdoU0GA1ChBcrxDQV5qO0EWBC1BLsw5QYa3yMBxUkBBaxszQej0J0FiCEZBRuJGQQBgVEESsjdBIAk8QXcZPkG8Oj5Bi95AQTysQUFl2EFBOC9IQW7ursCiJzFBTKlZQboPrsDTdURBMDhHQa7ITkGNHUNBED45QenBRkFjDEdBq6GtwA==\",\"dtype\":\"float32\",\"order\":\"little\",\"shape\":[265]}},\"selected\":{\"id\":\"3783\"},\"selection_policy\":{\"id\":\"3808\"}},\"id\":\"3782\",\"type\":\"ColumnDataSource\"},{\"attributes\":{},\"id\":\"3765\",\"type\":\"BasicTicker\"},{\"attributes\":{\"axis_label\":\"\",\"coordinates\":null,\"formatter\":{\"id\":\"3798\"},\"group\":null,\"major_label_policy\":{\"id\":\"3799\"},\"ticker\":{\"id\":\"3765\"}},\"id\":\"3764\",\"type\":\"LinearAxis\"},{\"attributes\":{\"bar_line_color\":\"black\",\"color_mapper\":{\"id\":\"3781\"},\"coordinates\":null,\"group\":null,\"label_standoff\":8,\"location\":[0,0],\"major_label_policy\":{\"id\":\"3804\"},\"major_tick_line_color\":\"black\",\"ticker\":{\"id\":\"3792\"}},\"id\":\"3793\",\"type\":\"ColorBar\"},{\"attributes\":{},\"id\":\"3799\",\"type\":\"AllLabels\"},{\"attributes\":{},\"id\":\"3804\",\"type\":\"NoOverlap\"},{\"attributes\":{\"fill_color\":{\"field\":\"color\",\"transform\":{\"id\":\"3781\"}},\"hatch_color\":{\"field\":\"color\",\"transform\":{\"id\":\"3781\"}},\"line_color\":{\"field\":\"color\",\"transform\":{\"id\":\"3781\"}},\"x\":{\"field\":\"vUoJtajHOn_x_\"},\"y\":{\"field\":\"vUoJtajHOn_y_\"}},\"id\":\"3788\",\"type\":\"Scatter\"},{\"attributes\":{\"callback\":null,\"renderers\":[{\"id\":\"3790\"}],\"tooltips\":[[\"name\",\"@{vUoJtajHOn_name}\"],[\"labels\",\"@{labels}\"],[\"colors\",\"@{colors}\"],[\"x:\",\"@{vUoJtajHOn_x_}\"],[\"y:\",\"@{vUoJtajHOn_y_}\"]]},\"id\":\"3750\",\"type\":\"HoverTool\"},{\"attributes\":{},\"id\":\"3792\",\"type\":\"BasicTicker\"},{\"attributes\":{\"coordinates\":null,\"data_source\":{\"id\":\"3782\"},\"glyph\":{\"id\":\"3785\"},\"group\":null,\"hover_glyph\":{\"id\":\"3788\"},\"muted_glyph\":{\"id\":\"3789\"},\"nonselection_glyph\":{\"id\":\"3786\"},\"selection_glyph\":{\"id\":\"3787\"},\"view\":{\"id\":\"3791\"}},\"id\":\"3790\",\"type\":\"GlyphRenderer\"},{\"attributes\":{\"overlay\":{\"id\":\"3773\"}},\"id\":\"3771\",\"type\":\"BoxZoomTool\"},{\"attributes\":{},\"id\":\"3769\",\"type\":\"PanTool\"},{\"attributes\":{\"high\":8.855302810668945,\"low\":0.6837858557701111,\"palette\":[\"#440154\",\"#440255\",\"#440357\",\"#450558\",\"#45065a\",\"#45085b\",\"#46095c\",\"#460b5e\",\"#460c5f\",\"#460e61\",\"#470f62\",\"#471163\",\"#471265\",\"#471466\",\"#471567\",\"#471669\",\"#47186a\",\"#48196b\",\"#481a6c\",\"#481c6e\",\"#481d6f\",\"#481e70\",\"#482071\",\"#482172\",\"#482273\",\"#482374\",\"#472575\",\"#472676\",\"#472777\",\"#472878\",\"#472a79\",\"#472b7a\",\"#472c7b\",\"#462d7c\",\"#462f7c\",\"#46307d\",\"#46317e\",\"#45327f\",\"#45347f\",\"#453580\",\"#453681\",\"#443781\",\"#443982\",\"#433a83\",\"#433b83\",\"#433c84\",\"#423d84\",\"#423e85\",\"#424085\",\"#414186\",\"#414286\",\"#404387\",\"#404487\",\"#3f4587\",\"#3f4788\",\"#3e4888\",\"#3e4989\",\"#3d4a89\",\"#3d4b89\",\"#3d4c89\",\"#3c4d8a\",\"#3c4e8a\",\"#3b508a\",\"#3b518a\",\"#3a528b\",\"#3a538b\",\"#39548b\",\"#39558b\",\"#38568b\",\"#38578c\",\"#37588c\",\"#37598c\",\"#365a8c\",\"#365b8c\",\"#355c8c\",\"#355d8c\",\"#345e8d\",\"#345f8d\",\"#33608d\",\"#33618d\",\"#32628d\",\"#32638d\",\"#31648d\",\"#31658d\",\"#31668d\",\"#30678d\",\"#30688d\",\"#2f698d\",\"#2f6a8d\",\"#2e6b8e\",\"#2e6c8e\",\"#2e6d8e\",\"#2d6e8e\",\"#2d6f8e\",\"#2c708e\",\"#2c718e\",\"#2c728e\",\"#2b738e\",\"#2b748e\",\"#2a758e\",\"#2a768e\",\"#2a778e\",\"#29788e\",\"#29798e\",\"#287a8e\",\"#287a8e\",\"#287b8e\",\"#277c8e\",\"#277d8e\",\"#277e8e\",\"#267f8e\",\"#26808e\",\"#26818e\",\"#25828e\",\"#25838d\",\"#24848d\",\"#24858d\",\"#24868d\",\"#23878d\",\"#23888d\",\"#23898d\",\"#22898d\",\"#228a8d\",\"#228b8d\",\"#218c8d\",\"#218d8c\",\"#218e8c\",\"#208f8c\",\"#20908c\",\"#20918c\",\"#1f928c\",\"#1f938b\",\"#1f948b\",\"#1f958b\",\"#1f968b\",\"#1e978a\",\"#1e988a\",\"#1e998a\",\"#1e998a\",\"#1e9a89\",\"#1e9b89\",\"#1e9c89\",\"#1e9d88\",\"#1e9e88\",\"#1e9f88\",\"#1ea087\",\"#1fa187\",\"#1fa286\",\"#1fa386\",\"#20a485\",\"#20a585\",\"#21a685\",\"#21a784\",\"#22a784\",\"#23a883\",\"#23a982\",\"#24aa82\",\"#25ab81\",\"#26ac81\",\"#27ad80\",\"#28ae7f\",\"#29af7f\",\"#2ab07e\",\"#2bb17d\",\"#2cb17d\",\"#2eb27c\",\"#2fb37b\",\"#30b47a\",\"#32b57a\",\"#33b679\",\"#35b778\",\"#36b877\",\"#38b976\",\"#39b976\",\"#3bba75\",\"#3dbb74\",\"#3ebc73\",\"#40bd72\",\"#42be71\",\"#44be70\",\"#45bf6f\",\"#47c06e\",\"#49c16d\",\"#4bc26c\",\"#4dc26b\",\"#4fc369\",\"#51c468\",\"#53c567\",\"#55c666\",\"#57c665\",\"#59c764\",\"#5bc862\",\"#5ec961\",\"#60c960\",\"#62ca5f\",\"#64cb5d\",\"#67cc5c\",\"#69cc5b\",\"#6bcd59\",\"#6dce58\",\"#70ce56\",\"#72cf55\",\"#74d054\",\"#77d052\",\"#79d151\",\"#7cd24f\",\"#7ed24e\",\"#81d34c\",\"#83d34b\",\"#86d449\",\"#88d547\",\"#8bd546\",\"#8dd644\",\"#90d643\",\"#92d741\",\"#95d73f\",\"#97d83e\",\"#9ad83c\",\"#9dd93a\",\"#9fd938\",\"#a2da37\",\"#a5da35\",\"#a7db33\",\"#aadb32\",\"#addc30\",\"#afdc2e\",\"#b2dd2c\",\"#b5dd2b\",\"#b7dd29\",\"#bade27\",\"#bdde26\",\"#bfdf24\",\"#c2df22\",\"#c5df21\",\"#c7e01f\",\"#cae01e\",\"#cde01d\",\"#cfe11c\",\"#d2e11b\",\"#d4e11a\",\"#d7e219\",\"#dae218\",\"#dce218\",\"#dfe318\",\"#e1e318\",\"#e4e318\",\"#e7e419\",\"#e9e419\",\"#ece41a\",\"#eee51b\",\"#f1e51c\",\"#f3e51e\",\"#f6e61f\",\"#f8e621\",\"#fae622\",\"#fde724\"]},\"id\":\"3781\",\"type\":\"LinearColorMapper\"},{\"attributes\":{},\"id\":\"3796\",\"type\":\"AllLabels\"},{\"attributes\":{\"tools\":[{\"id\":\"3750\"},{\"id\":\"3768\"},{\"id\":\"3769\"},{\"id\":\"3770\"},{\"id\":\"3771\"},{\"id\":\"3772\"}]},\"id\":\"3774\",\"type\":\"Toolbar\"},{\"attributes\":{},\"id\":\"3772\",\"type\":\"ResetTool\"},{\"attributes\":{},\"id\":\"3795\",\"type\":\"BasicTickFormatter\"},{\"attributes\":{\"end\":8.719151178995768,\"reset_end\":8.719151178995768,\"reset_start\":-6.604798952738444,\"start\":-6.604798952738444,\"tags\":[[[\"vUoJtajHOn_x_\",\"vUoJtajHOn_x_\",null]]]},\"id\":\"3748\",\"type\":\"Range1d\"},{\"attributes\":{\"source\":{\"id\":\"3782\"}},\"id\":\"3791\",\"type\":\"CDSView\"},{\"attributes\":{\"fill_alpha\":{\"value\":0.2},\"fill_color\":{\"field\":\"color\",\"transform\":{\"id\":\"3781\"}},\"hatch_alpha\":{\"value\":0.2},\"hatch_color\":{\"field\":\"color\",\"transform\":{\"id\":\"3781\"}},\"line_alpha\":{\"value\":0.2},\"line_color\":{\"field\":\"color\",\"transform\":{\"id\":\"3781\"}},\"x\":{\"field\":\"vUoJtajHOn_x_\"},\"y\":{\"field\":\"vUoJtajHOn_y_\"}},\"id\":\"3789\",\"type\":\"Scatter\"},{\"attributes\":{},\"id\":\"3761\",\"type\":\"BasicTicker\"},{\"attributes\":{\"axis\":{\"id\":\"3764\"},\"coordinates\":null,\"dimension\":1,\"grid_line_color\":null,\"group\":null,\"ticker\":null},\"id\":\"3767\",\"type\":\"Grid\"},{\"attributes\":{},\"id\":\"3756\",\"type\":\"LinearScale\"}],\"root_ids\":[\"3746\"]},\"title\":\"Bokeh Application\",\"version\":\"2.4.2\"}}\n",
       "        </script>\n",
       "        <script type=\"text/javascript\">\n",
       "          (function() {\n",
       "            const fn = function() {\n",
       "              Bokeh.safely(function() {\n",
       "                (function(root) {\n",
       "                  function embed_document(root) {\n",
       "                    \n",
       "                  const docs_json = document.getElementById('3912').textContent;\n",
       "                  const render_items = [{\"docid\":\"f25d8bc2-e907-485d-a8fc-7fa6756f0196\",\"root_ids\":[\"3746\"],\"roots\":{\"3746\":\"1314ea22-008a-4bc5-a945-287cb6dc972b\"}}];\n",
       "                  root.Bokeh.embed.embed_items(docs_json, render_items);\n",
       "                \n",
       "                  }\n",
       "                  if (root.Bokeh !== undefined) {\n",
       "                    embed_document(root);\n",
       "                  } else {\n",
       "                    let attempts = 0;\n",
       "                    const timer = setInterval(function(root) {\n",
       "                      if (root.Bokeh !== undefined) {\n",
       "                        clearInterval(timer);\n",
       "                        embed_document(root);\n",
       "                      } else {\n",
       "                        attempts++;\n",
       "                        if (attempts > 100) {\n",
       "                          clearInterval(timer);\n",
       "                          console.log(\"Bokeh: ERROR: Unable to run BokehJS code because BokehJS library is missing\");\n",
       "                        }\n",
       "                      }\n",
       "                    }, 10, root)\n",
       "                  }\n",
       "                })(window);\n",
       "              });\n",
       "            };\n",
       "            if (document.readyState != \"loading\") fn();\n",
       "            else document.addEventListener(\"DOMContentLoaded\", fn);\n",
       "          })();\n",
       "        </script>\n",
       "    \n",
       "  </body>\n",
       "  \n",
       "</html>"
      ],
      "text/plain": [
       "<IPython.core.display.HTML object>"
      ]
     },
     "execution_count": 1,
     "metadata": {},
     "output_type": "execute_result"
    }
   ],
   "source": []
  },
  {
   "cell_type": "code",
   "execution_count": null,
   "id": "386902e2",
   "metadata": {},
   "outputs": [],
   "source": [
    "# imports:\n",
    "import os\n",
    "from IPython.display import clear_output\n",
    "try:\n",
    "    import xomx\n",
    "except ImportError:\n",
    "    !pip install git+https://github.com/perrin-isir/xomx.git\n",
    "    clear_output()\n",
    "    import xomx\n",
    "try:\n",
    "    import scanpy as sc\n",
    "except ImportError:\n",
    "    !pip install scanpy\n",
    "    clear_output()\n",
    "    import scanpy as sc\n",
    "import numpy as np"
   ]
  },
  {
   "cell_type": "markdown",
   "id": "a24213d4-7514-42a4-a46e-f3bc2fb04cc1",
   "metadata": {},
   "source": [
    "We define `save_dir`, the folder in which everything will be saved."
   ]
  },
  {
   "cell_type": "code",
   "execution_count": null,
   "id": "00c326e5",
   "metadata": {},
   "outputs": [],
   "source": [
    "save_dir = os.path.expanduser(os.path.join(\"~\", \"results\", \"xomx-tutorials\", \"kidney_classif\"))  # the default directory in which results are stored\n",
    "os.makedirs(save_dir, exist_ok=True)"
   ]
  },
  {
   "cell_type": "code",
   "execution_count": null,
   "id": "6830d3e3-751c-4d93-b546-6eab66a5d35e",
   "metadata": {},
   "outputs": [],
   "source": [
    "# Setting the pseudo-random number generator\n",
    "rng = np.random.RandomState(0)"
   ]
  },
  {
   "cell_type": "markdown",
   "id": "759d405f-1597-489c-8e0b-af4c70b89186",
   "metadata": {},
   "source": [
    "## Step 1: loading the data"
   ]
  },
  {
   "cell_type": "code",
   "execution_count": null,
   "id": "60e389d1-a0ad-4599-b2ca-3881e0c6e82f",
   "metadata": {},
   "outputs": [],
   "source": [
    "if not os.path.exists(os.path.join(save_dir, \"xomx_kidney_classif_small.h5ad\")):\n",
    "    !wget -O {os.path.join(save_dir, \"xomx_kidney_classif_small.h5ad\")} \"https://github.com/perrin-isir/xomx-tutorials/blob/main/tutorials/xomx_kidney_classif_small.h5ad?raw=true\""
   ]
  },
  {
   "cell_type": "code",
   "execution_count": null,
   "id": "a94ab57b",
   "metadata": {},
   "outputs": [],
   "source": [
    "xd = sc.read(os.path.join(save_dir, \"xomx_kidney_classif_small.h5ad\"))"
   ]
  },
  {
   "cell_type": "code",
   "execution_count": null,
   "id": "8ce0ce80",
   "metadata": {},
   "outputs": [],
   "source": [
    "xd"
   ]
  },
  {
   "cell_type": "markdown",
   "id": "5d429b36",
   "metadata": {},
   "source": [
    "`xd` contains the data matrix and the data annotations.\n",
    "There are 465 samples, and 8000 features which were selected with the function `sc.pp.highly_variable_genes()`, see [xomx_kidney_classif_1.ipynb](https://github.com/perrin-isir/xomx/blob/main/xomx-tutorials/tutorials/xomx_kidney_classif_1.ipynb).\n",
    "\n",
    "`xd.X[0, :]`, the first row, contains the 8000 (normalized and logarithmized) expression levels for the \n",
    "first sample.  "
   ]
  },
  {
   "cell_type": "code",
   "execution_count": null,
   "id": "351f3180",
   "metadata": {},
   "outputs": [],
   "source": [
    "xd.X[0, :]"
   ]
  },
  {
   "cell_type": "markdown",
   "id": "b1f2d2e5",
   "metadata": {},
   "source": [
    "`xd.X[:, 0]`, the first column, contains the values of the first feature for all samples.\n",
    "\n",
    "The feature names (gene IDs) are stored in `xd.var_names`, and the sample\n",
    "identifiers are stored in `xd.obs_names`. "
   ]
  },
  {
   "cell_type": "code",
   "execution_count": null,
   "id": "004e9550",
   "metadata": {},
   "outputs": [],
   "source": [
    "xd.var_names"
   ]
  },
  {
   "cell_type": "markdown",
   "id": "63119fb5",
   "metadata": {},
   "source": [
    "The labels are stored in `xd.obs[\"labels\"]`."
   ]
  },
  {
   "cell_type": "code",
   "execution_count": null,
   "id": "3922cb68",
   "metadata": {},
   "outputs": [],
   "source": [
    "xd.obs[\"labels\"]"
   ]
  },
  {
   "cell_type": "markdown",
   "id": "43c60627",
   "metadata": {},
   "source": [
    "Using the function `train_and_test_indices()` (see [xomx_kidney_classif_1.ipynb](https://github.com/perrin-isir/xomx/blob/main/xomx-tutorials/tutorials/xomx_kidney_classif_1.ipynb)), the data has been divided into a training set and a test set.\n",
    "- `xd.uns[\"train_indices\"]` is the array of indices of all samples that belong to the training set.\n",
    "- `xd.uns[\"test_indices\"]`is the array of indices of all samples that belong to the test set.\n",
    "- `xd.uns[\"train_indices_per_label\"]` is the dictionary of sample indices in the training set, per label. For instance, `xd.uns[\"train_indices_per_label\"][\"TCGA-KIRP\"]` is the array of indices of all the samples labelled as `\"TCGA-KIRP\"` that belong to the training set.\n",
    "- `xd.uns[\"test_indices_per_label\"]`is the dictionary of sample indices in the test set, per label."
   ]
  },
  {
   "cell_type": "code",
   "execution_count": null,
   "id": "ca10bdde",
   "metadata": {},
   "outputs": [],
   "source": [
    "xd.uns[\"test_indices_per_label\"][\"TCGA-KICH\"]"
   ]
  },
  {
   "cell_type": "markdown",
   "id": "d0f2e03e",
   "metadata": {
    "tags": []
   },
   "source": [
    "## Step 2: training binary classifiers and performing recursive feature elimination\n",
    "\n",
    "We initialize an empty dictionary of \"feature selectors\":"
   ]
  },
  {
   "cell_type": "code",
   "execution_count": null,
   "id": "153b4a10",
   "metadata": {},
   "outputs": [],
   "source": [
    "feature_selectors = {}"
   ]
  },
  {
   "cell_type": "markdown",
   "id": "8edf0351",
   "metadata": {},
   "source": [
    "There will be one feature selector per label.\n",
    "What we call feature selector here is a binary classifier\n",
    "trained with the Extra-Trees algorithm to\n",
    "distinguish samples with a given label from\n",
    "other types of samples. After training, features are\n",
    "ranked by a measure of importance known as the Gini importance, \n",
    "and the 100 most important features are kept. \n",
    "Then, the Extra-Trees algorithm is run again on the training\n",
    "data filtered to the 100 selected features, which leads to a \n",
    "new measure of importance of the features. We repeat the \n",
    "procedure to progressively select 30, then 20, 15 and finally 10\n",
    "features. At each iteration, we evaluate on the test set the \n",
    "Matthews correlation coefficient (MCC score) of the \n",
    "classifier to observe how the performance changes \n",
    "when the number of features decreases.  \n",
    "The progression 100-30-20-15-10 is arbitrary, but \n",
    "the most efficient strategies start by aggressively \n",
    "reducing the number of features, and then slow down\n",
    "when the number of features becomes small.\n",
    "\n",
    "Here is the loop that trains all the classifiers and ends up \n",
    "selecting 10 features for every label. It also creates \n",
    "`gene_dict`, a dictionary of the 10-gene signatures selected\n",
    "for each label."
   ]
  },
  {
   "cell_type": "code",
   "execution_count": null,
   "id": "884e960c",
   "metadata": {},
   "outputs": [],
   "source": [
    "gene_dict = {}\n",
    "for label in xd.uns[\"all_labels\"]:\n",
    "    print(\"Label: \" + label)\n",
    "    feature_selectors[label] = xomx.fs.RFEExtraTrees(\n",
    "        xd,\n",
    "        label,\n",
    "        n_estimators=450,\n",
    "        random_state=rng,\n",
    "    )\n",
    "    feature_selectors[label].init()\n",
    "    for siz in [100, 30, 20, 15, 10]:\n",
    "        print(\"Selecting\", siz, \"features...\")\n",
    "        feature_selectors[label].select_features(siz)\n",
    "        print(\n",
    "            \"MCC score:\",\n",
    "            xomx.tl.matthews_coef(feature_selectors[label].confusion_matrix),\n",
    "        )\n",
    "    gene_dict[label] = [\n",
    "        xd.var_names[idx_]\n",
    "        for idx_ in feature_selectors[label].current_feature_indices\n",
    "    ]\n",
    "    print(\"Done.\")"
   ]
  },
  {
   "cell_type": "markdown",
   "id": "7510f520",
   "metadata": {
    "tags": []
   },
   "source": [
    "## Step 3: visualizing results"
   ]
  },
  {
   "cell_type": "markdown",
   "id": "606ae1c2",
   "metadata": {},
   "source": [
    "Using the plotting function `scatter()`,\n",
    "we plot the standard deviation vs mean value for all the \n",
    "features (which were computed before logarithmizing the data).\n",
    "`scatter()` takes in input two functions, one for \n",
    "the x-axis, and one for the y-axis. Each of these functions\n",
    "must take in input the feature index.  \n",
    "\n",
    "By changing the \n",
    "`obs_or_var` option to \"obs\" instead of \"var\", we can use\n",
    "`scatter()` to make a scatter plot over the samples\n",
    "instead of over the features."
   ]
  },
  {
   "cell_type": "code",
   "execution_count": null,
   "id": "e1090321",
   "metadata": {},
   "outputs": [],
   "source": [
    "xomx.pl.scatter(\n",
    "    xd,\n",
    "    lambda idx: xd.var[\"mean_values\"][idx],\n",
    "    lambda idx: xd.var[\"standard_deviations\"][idx],\n",
    "    obs_or_var=\"var\",\n",
    "    xlog_scale=True,\n",
    "    ylog_scale=True,\n",
    "    xlabel=\"mean values\",\n",
    "    ylabel=\"standard deviations\",\n",
    ")"
   ]
  },
  {
   "cell_type": "markdown",
   "id": "415ad37d-d2e9-4dcc-acb0-6315c04fc238",
   "metadata": {},
   "source": [
    "You can notice that the plots are interactive: information is obtained by hovering the cursor over the points.  \n",
    "By default, the plots are made with bokeh, but matplotlib can be used as well.\n",
    "This is controlled with the function `xomx.pl.extension()`:"
   ]
  },
  {
   "cell_type": "code",
   "execution_count": null,
   "id": "3daef57d-f20d-46be-9f23-c9e273a4b976",
   "metadata": {},
   "outputs": [],
   "source": [
    "xomx.pl.extension(\"matplotlib\")"
   ]
  },
  {
   "cell_type": "markdown",
   "id": "f5cc5766-81f2-4f9d-8f33-81ab9e787c24",
   "metadata": {},
   "source": [
    "In a notebook, interactive plots with matplotlib require using ipympl, and enabling it with the matplotlib Jupyter magic `@matplotlib widget` (**remark:** matplotlib interactive plots are typically slower in notebooks than in python scripts)."
   ]
  },
  {
   "cell_type": "code",
   "execution_count": null,
   "id": "6385c349-69a3-43c2-a5d3-26339590f998",
   "metadata": {},
   "outputs": [],
   "source": [
    "try:\n",
    "    import ipympl\n",
    "except ImportError:\n",
    "    !pip install ipympl\n",
    "    clear_output()\n",
    "    import ipympl\n",
    "%matplotlib widget"
   ]
  },
  {
   "cell_type": "code",
   "execution_count": null,
   "id": "cc3e690b-0d4f-4b5c-b954-17545fd6a19f",
   "metadata": {},
   "outputs": [],
   "source": [
    "xomx.pl.scatter(\n",
    "    xd,\n",
    "    lambda idx: xd.var[\"mean_values\"][idx],\n",
    "    lambda idx: xd.var[\"standard_deviations\"][idx],\n",
    "    obs_or_var=\"var\",\n",
    "    xlog_scale=True,\n",
    "    ylog_scale=True,\n",
    "    xlabel=\"mean values\",\n",
    "    ylabel=\"standard deviations\",\n",
    ")"
   ]
  },
  {
   "cell_type": "markdown",
   "id": "aecaa813-d1ac-4d14-aab2-da99a1600e62",
   "metadata": {},
   "source": [
    "However, interactive plots with matplotlib do not work in Colab, and `@matplotlib inline` must be used instead."
   ]
  },
  {
   "cell_type": "code",
   "execution_count": null,
   "id": "b5ee52ae-9b4a-4b34-93ab-bb23ba78711d",
   "metadata": {},
   "outputs": [],
   "source": [
    "%matplotlib inline\n",
    "xomx.pl.scatter(\n",
    "    xd,\n",
    "    lambda idx: xd.var[\"mean_values\"][idx],\n",
    "    lambda idx: xd.var[\"standard_deviations\"][idx],\n",
    "    obs_or_var=\"var\",\n",
    "    xlog_scale=True,\n",
    "    ylog_scale=True,\n",
    "    xlabel=\"mean values\",\n",
    "    ylabel=\"standard deviations\",\n",
    ")"
   ]
  },
  {
   "cell_type": "markdown",
   "id": "849a6241",
   "metadata": {},
   "source": [
    "This plot shows the 8000 highly variable genes selected in the phase 1 of the tutorial ([xomx_kidney_classif_1.ipynb](https://github.com/perrin-isir/xomx/blob/main/xomx-tutorials/tutorials/xomx_kidney_classif_1.ipynb)), and we can observe the frontier defined by `sc.pp.highly_variable_genes()` to remove genes considered less variable.\n",
    "\n",
    "For a given feature selector, for example `feature_selectors[\"TCGA-KIRP\"]`,\n",
    "`plot()` displays results on the test set. The classifier uses only the selected \n",
    "features, here the 10 features selected for the label `\"TCGA-KIRP\"`.\n",
    "Points above the horizontal red line (score > 0.5) are classified as positives (prediction: `\"TCGA-KIRP\"`), and points below the horizontal line (score < 0.5)\n",
    "are classified as negatives (prediction: `not \"TCGA-KIRP\"`)."
   ]
  },
  {
   "cell_type": "code",
   "execution_count": null,
   "id": "f74316f9",
   "metadata": {},
   "outputs": [],
   "source": [
    "xomx.pl.extension(\"bokeh\")\n",
    "feature_selectors[\"TCGA-KIRP\"].plot()"
   ]
  },
  {
   "cell_type": "markdown",
   "id": "13b61c24",
   "metadata": {},
   "source": [
    "We can construct a multiclass classifier based on the 3 binary classifiers:"
   ]
  },
  {
   "cell_type": "code",
   "execution_count": null,
   "id": "d2b83e33",
   "metadata": {},
   "outputs": [],
   "source": [
    "sbm = xomx.cl.ScoreBasedMulticlass(xd, xd.uns[\"all_labels\"], feature_selectors)"
   ]
  },
  {
   "cell_type": "markdown",
   "id": "f173d13e",
   "metadata": {},
   "source": [
    "This multiclass classifier bases its predictions on 30 features (at most): the \n",
    "union of the three 10-gene signatures (one per label). It simply computes the 3 \n",
    "scores of each of the binary classifiers, and returns the label that corresponds \n",
    "to the highest score.  \n",
    "`plot()` displays results on the test set:"
   ]
  },
  {
   "cell_type": "code",
   "execution_count": null,
   "id": "9d3c1c6f",
   "metadata": {},
   "outputs": [],
   "source": [
    "sbm.plot()"
   ]
  },
  {
   "cell_type": "markdown",
   "id": "f670ede7",
   "metadata": {},
   "source": [
    "For each of the 3 labels, points that are \n",
    "higher in the horizontal band correspond to a \n",
    "higher confidence in the prediction (but\n",
    "the very top of the band does not mean 100% \n",
    "confidence).\n",
    "\n",
    "We gather the selected genes in a single list:"
   ]
  },
  {
   "cell_type": "code",
   "execution_count": null,
   "id": "9ed98b16",
   "metadata": {},
   "outputs": [],
   "source": [
    "all_selected_genes = np.asarray(list(gene_dict.values())).flatten()"
   ]
  },
  {
   "cell_type": "markdown",
   "id": "b1167ab7",
   "metadata": {},
   "source": [
    "We can visualize these marker genes with `xomx.pl.plot_var()`:"
   ]
  },
  {
   "cell_type": "code",
   "execution_count": null,
   "id": "e8546b39",
   "metadata": {},
   "outputs": [],
   "source": [
    "xomx.pl.plot_var(xd, all_selected_genes)"
   ]
  },
  {
   "cell_type": "markdown",
   "id": "400fc58e",
   "metadata": {},
   "source": [
    "Interestingly, we can observe that some of the selected marker genes are downregulated (especially for `\"TCGA-KIRP\"`).  \n",
    "Let us \"zoom\" on the marker genes for KIRP:"
   ]
  },
  {
   "cell_type": "code",
   "execution_count": null,
   "id": "b5fe9d59",
   "metadata": {},
   "outputs": [],
   "source": [
    "xomx.pl.plot_var(xd, gene_dict[\"TCGA-KIRP\"])"
   ]
  },
  {
   "cell_type": "markdown",
   "id": "0962ab5e",
   "metadata": {},
   "source": [
    "We observe at least 2 significantly downregulated genes for KIRP: \n",
    "PTGER3 (ENSG00000050628) and EBF2 (ENSG00000221818)."
   ]
  },
  {
   "cell_type": "markdown",
   "id": "65a5f9e5",
   "metadata": {},
   "source": [
    "KICH markers:"
   ]
  },
  {
   "cell_type": "code",
   "execution_count": null,
   "id": "a09c524c",
   "metadata": {},
   "outputs": [],
   "source": [
    "xomx.pl.plot_var(xd, gene_dict[\"TCGA-KICH\"])"
   ]
  },
  {
   "cell_type": "markdown",
   "id": "64c22e19",
   "metadata": {},
   "source": [
    "We can also use `plot_var()` with a single gene:"
   ]
  },
  {
   "cell_type": "code",
   "execution_count": null,
   "id": "9b2ac1ef",
   "metadata": {},
   "outputs": [],
   "source": [
    "xomx.pl.plot_var(xd, \"ENSG00000168269.10\")"
   ]
  },
  {
   "cell_type": "markdown",
   "id": "ab4a3f7b-1e38-4db4-9c4f-6acf8298a6d3",
   "metadata": {},
   "source": [
    "Remark: there are small differences between the plots generated with bokeh or with matplotlib. For example, here, with matplotlib, violinplots are automatically generated:"
   ]
  },
  {
   "cell_type": "code",
   "execution_count": null,
   "id": "f74d9d5a-13ae-4fca-98c4-6d9cf4185191",
   "metadata": {},
   "outputs": [],
   "source": [
    "xomx.pl.extension(\"matplotlib\")\n",
    "xomx.pl.plot_var(xd, \"ENSG00000168269.10\")"
   ]
  },
  {
   "cell_type": "markdown",
   "id": "0a8c3c6b",
   "metadata": {},
   "source": [
    "The FOXI1 (ENSG00000168269) transcription factor is known to \n",
    "be drastically overexpressed in KICH. In fact, it has been argued that \n",
    "the FOXI1-driven transcriptome that defines renal intercalated cells is retained \n",
    "in KICH and implicates the intercalated cell type as the cell of origin \n",
    "for KICH; see: \n",
    "**[D. Lindgren et al., *Cell-Type-Specific Gene Programs of the Normal Human \n",
    "Nephron Define Kidney Cancer Subtypes*, Cell Reports 2017 Aug; 20(6): 1476-1489. \n",
    "doi: [10.1016/j.celrep.2017.07.043](\n",
    "https://doi.org/10.1016/j.celrep.2017.07.043\n",
    ")]**\n",
    "\n",
    "KIRC markers:"
   ]
  },
  {
   "cell_type": "code",
   "execution_count": null,
   "id": "62c93c0d",
   "metadata": {},
   "outputs": [],
   "source": [
    "xomx.pl.extension(\"bokeh\")\n",
    "xomx.pl.plot_var(xd, gene_dict[\"TCGA-KIRC\"])"
   ]
  },
  {
   "cell_type": "markdown",
   "id": "72a89c12",
   "metadata": {},
   "source": [
    "We can notice in particular the upregulation of NDUFA4L2 (ENSG00000185633),\n",
    "a gene that has been analyzed as a biomarker for KIRC in\n",
    "**[D. R. Minton et al., *Role of NADH Dehydrogenase (Ubiquinone) 1 alpha subcomplex 4-like \n",
    "2 in clear cell renal cell carcinoma*, \n",
    "Clin Cancer Res. 2016 Jun 1;22(11):2791-801. doi: [10.1158/1078-0432.CCR-15-1511](\n",
    "https://doi.org/10.1158/1078-0432.CCR-15-1511\n",
    ")]**.\n",
    "\n",
    "Finally, we filter and restrict the data to the selected genes, and follow \n",
    "the Scanpy procedure to compute a 2D UMAP embedding:"
   ]
  },
  {
   "cell_type": "code",
   "execution_count": null,
   "id": "82468d81",
   "metadata": {},
   "outputs": [],
   "source": [
    "xd_reduced = xd[:, all_selected_genes]\n",
    "xd_reduced.var_names_make_unique()\n",
    "sc.pp.neighbors(xd_reduced, n_neighbors=10, n_pcs=40, random_state=rng)\n",
    "sc.tl.umap(xd_reduced, random_state=rng)"
   ]
  },
  {
   "cell_type": "markdown",
   "id": "c1d1a19d",
   "metadata": {},
   "source": [
    "in AnnData objetcs, multi-dimensional annotations on observations are stored in `.obsm`.  \n",
    "\n",
    "`sc.tl.umap()` stores the embedding in `xd_reduced.obsm[\"X_umap\"]`.  \n",
    "\n",
    "We use `xomx.pl.plot_2d_obsm()` to display an interactive plot:"
   ]
  },
  {
   "cell_type": "code",
   "execution_count": null,
   "id": "215a8fb5",
   "metadata": {},
   "outputs": [],
   "source": [
    "xomx.pl.plot_2d_obsm(xd_reduced, \"X_umap\")"
   ]
  },
  {
   "cell_type": "markdown",
   "id": "d69ade66-803b-45ef-a277-09844e289d51",
   "metadata": {},
   "source": [
    "By default, the colors are defined by the labels stored in `xd.obs[\"labels\"]`, unless `xd.obs[\"colors\"]` exists, in which case it is used to define the colors.   \n",
    "The colors can also depend on a function provided in input (but the function is not considered if `xd.obs[\"colors\"]` exists). The function must take sample indices in input and return numeric values.  \n",
    "We give an example with a function that returns the scores computed by the \"TCGA-KIRC\" classifier:"
   ]
  },
  {
   "cell_type": "code",
   "execution_count": null,
   "id": "fed60d1d-6b04-45be-bf3c-2f0e7843bfc9",
   "metadata": {},
   "outputs": [],
   "source": [
    "kirc_scores = feature_selectors[\"TCGA-KIRC\"].score(xd.X)\n",
    "xomx.pl.plot_2d_obsm(xd_reduced, \"X_umap\", lambda i: kirc_scores[i])"
   ]
  },
  {
   "cell_type": "markdown",
   "id": "095793f6-0011-4048-a674-6af877e7b4cc",
   "metadata": {},
   "source": [
    "A common need is to use colors that depend on the value of one particular feature, so this can be done by simply passing the name of the feature in input:"
   ]
  },
  {
   "cell_type": "code",
   "execution_count": null,
   "id": "b9200b1c-b9fa-4327-bd12-481077d5173f",
   "metadata": {},
   "outputs": [],
   "source": [
    "xomx.pl.plot_2d_obsm(xd_reduced, \"X_umap\", \"ENSG00000185633.10\")"
   ]
  },
  {
   "cell_type": "code",
   "execution_count": null,
   "id": "b7c4d33c-e671-486d-a6f7-50bba56cc568",
   "metadata": {},
   "outputs": [],
   "source": [
    "xomx.pl.plot_2d_obsm(xd_reduced, \"X_umap\", \"ENSG00000185633.10\")"
   ]
  }
 ],
 "metadata": {
  "kernelspec": {
   "display_name": "Python 3",
   "language": "python",
   "name": "python3"
  },
  "language_info": {
   "codemirror_mode": {
    "name": "ipython",
    "version": 3
   },
   "file_extension": ".py",
   "mimetype": "text/x-python",
   "name": "python",
   "nbconvert_exporter": "python",
   "pygments_lexer": "ipython3",
   "version": "3.7.7"
  }
 },
 "nbformat": 4,
 "nbformat_minor": 5
}
