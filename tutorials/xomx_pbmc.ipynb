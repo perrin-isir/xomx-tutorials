{
 "cells": [
  {
   "cell_type": "markdown",
   "metadata": {},
   "source": [
    "# *xomx tutorial:* **preprocessing and clustering 3k PBMCs**\n",
    "\n",
    "-----\n",
    "\n",
    "This tutorial follows the single cell RNA-seq Scanpy tutorial on 3k PBMCs:\n",
    "https://scanpy-tutorials.readthedocs.io/en/latest/pbmc3k.html.\n",
    "\n",
    "The objective is to analyze a dataset of Peripheral Blood Mononuclear Cells (PBMC)\n",
    "freely available from 10X Genomics, composed of 2,700 single cells that were\n",
    "sequenced on the Illumina NextSeq 500.\n",
    "We replace some Scanpy plots by interactive *xomx* plots, and modify the\n",
    "computation of marker genes. Instead of using a t-test, Wilcoxon-Mann-Whitney test\n",
    "or logistic regression, we perform recursive feature elimination with\n",
    "the Extra-Trees algorithm."
   ]
  },
  {
   "cell_type": "code",
   "execution_count": null,
   "metadata": {},
   "outputs": [],
   "source": [
    "# imports:\n",
    "import os\n",
    "from IPython.display import clear_output\n",
    "import requests\n",
    "try:\n",
    "    import xomx\n",
    "except ImportError:\n",
    "    !pip install git+https://github.com/perrin-isir/xomx.git\n",
    "    clear_output()\n",
    "    import xomx\n",
    "try:\n",
    "    import scanpy as sc\n",
    "except ImportError:\n",
    "    !pip install scanpy\n",
    "    clear_output()\n",
    "    import scanpy as sc\n",
    "import numpy as np"
   ]
  },
  {
   "cell_type": "markdown",
   "metadata": {},
   "source": [
    "We define `save_dir`, the folder in which everything will be saved."
   ]
  },
  {
   "cell_type": "code",
   "execution_count": null,
   "metadata": {},
   "outputs": [],
   "source": [
    "save_dir = os.path.join(os.path.expanduser('~'), 'results', 'xomx-tutorials', 'pbmc')\n",
    "os.makedirs(save_dir, exist_ok=True)"
   ]
  },
  {
   "cell_type": "code",
   "execution_count": null,
   "metadata": {},
   "outputs": [],
   "source": [
    "# Setting the pseudo-random number generator\n",
    "rng = np.random.RandomState(0)"
   ]
  },
  {
   "cell_type": "markdown",
   "metadata": {
    "jp-MarkdownHeadingCollapsed": true,
    "tags": []
   },
   "source": [
    "## Step 1: data importation, preprocessing and clustering"
   ]
  },
  {
   "cell_type": "markdown",
   "metadata": {},
   "source": [
    "We download scRNA-seq data freely available from 10x Genomics:"
   ]
  },
  {
   "cell_type": "code",
   "execution_count": null,
   "metadata": {},
   "outputs": [],
   "source": [
    "pbmc3k_file = 'pbmc3k.tar.gz'\n",
    "if not os.path.isfile(os.path.join(save_dir, pbmc3k_file)):\n",
    "    url = (\n",
    "        \"https://cf.10xgenomics.com/samples/cell/pbmc3k/\"\n",
    "        + \"pbmc3k_filtered_gene_bc_matrices.tar.gz\"\n",
    "    )\n",
    "    r = requests.get(url, allow_redirects=True)\n",
    "    open(os.path.join(save_dir, \"pbmc3k.tar.gz\"), \"wb\").write(r.content)\n",
    "    os.popen(\n",
    "        \"tar -xzf \" + os.path.join(save_dir, \"pbmc3k.tar.gz\") + \" -C \" + save_dir\n",
    "    ).read()"
   ]
  },
  {
   "cell_type": "markdown",
   "metadata": {},
   "source": [
    "We turn this data into an [AnnData](https://anndata.readthedocs.io) object with the Scanpy function \n",
    "`read_10x_mtx()`:"
   ]
  },
  {
   "cell_type": "code",
   "execution_count": null,
   "metadata": {},
   "outputs": [],
   "source": [
    "xd = sc.read_10x_mtx(\n",
    "    os.path.join(save_dir, \"filtered_gene_bc_matrices\", \"hg19\"),\n",
    "    var_names=\"gene_symbols\",\n",
    ")\n",
    "xd.var_names_make_unique()"
   ]
  },
  {
   "cell_type": "markdown",
   "metadata": {},
   "source": [
    "We apply basic filtering, annotate the group of mitochondrial genes and compute various\n",
    "metrics, as it is done in the [Scanpy tutorial](\n",
    "https://scanpy-tutorials.readthedocs.io/en/latest/pbmc3k.html):"
   ]
  },
  {
   "cell_type": "code",
   "execution_count": null,
   "metadata": {},
   "outputs": [],
   "source": [
    "sc.pp.filter_cells(xd, min_genes=200)\n",
    "sc.pp.filter_genes(xd, min_cells=3)\n",
    "xd.var[\"mt\"] = xd.var_names.str.startswith(\n",
    "    \"MT-\"\n",
    ")  # annotate the group of mitochondrial genes as 'mt'\n",
    "sc.pp.calculate_qc_metrics(\n",
    "    xd, qc_vars=[\"mt\"], percent_top=None, log1p=False, inplace=True\n",
    ")"
   ]
  },
  {
   "cell_type": "code",
   "execution_count": null,
   "metadata": {},
   "outputs": [],
   "source": [
    "xd"
   ]
  },
  {
   "cell_type": "markdown",
   "metadata": {},
   "source": [
    "We compute the following NumPy array:"
   ]
  },
  {
   "cell_type": "code",
   "execution_count": null,
   "metadata": {},
   "outputs": [],
   "source": [
    "# The k-th element of the following array is the mean fraction of counts of the\n",
    "# k-th gene in each single cell, across all cells\n",
    "mean_count_fractions = np.squeeze(\n",
    "    np.asarray(\n",
    "        np.mean(\n",
    "            xd.X / np.array(xd.obs[\"total_counts\"]).reshape((xd.n_obs, 1)), axis=0\n",
    "        )\n",
    "    )\n",
    ")"
   ]
  },
  {
   "cell_type": "markdown",
   "metadata": {},
   "source": [
    "The k-th element of `mean_count_fractions` is the mean fraction of counts of the k-th \n",
    "gene in each single cell, across all cells.\n",
    "\n",
    "Below are 3 examples of interactive plots with *xomx* functions:\n",
    "\n",
    "1. Plot, for all genes, the mean fraction of counts in single cells, across all cells.  \n",
    "We use `xomx.pl.plot()`. Besides the AnnData object, it takes in input a \n",
    "function (here `lambda idx: mean_count_fractions[idx]`) which itself takes as input \n",
    "the index of a feature (if `obs_or_var` is 'var') or a sample (if `obs_or_var` is 'obs'). "
   ]
  },
  {
   "cell_type": "code",
   "execution_count": null,
   "metadata": {},
   "outputs": [],
   "source": [
    "# Plot, for all genes, the mean fraction\n",
    "# of counts in single cells, across all cells\n",
    "xomx.pl.plot(\n",
    "    xd,\n",
    "    lambda idx: mean_count_fractions[idx],\n",
    "    obs_or_var='var',\n",
    "    ylog_scale=False,\n",
    "    xlabel='genes',\n",
    "    ylabel='mean fractions of counts across all cells',\n",
    ")"
   ]
  },
  {
   "cell_type": "markdown",
   "metadata": {},
   "source": [
    "Hovering over points with the cursor shows information about the corresponding genes.\n",
    "\n",
    "2. Plot the total counts per cell."
   ]
  },
  {
   "cell_type": "code",
   "execution_count": null,
   "metadata": {},
   "outputs": [],
   "source": [
    "# Plot the total counts per cell\n",
    "xomx.pl.plot(\n",
    "    xd,\n",
    "    lambda idx: xd.obs['total_counts'][idx],\n",
    "    obs_or_var='obs',\n",
    "    ylog_scale=False,\n",
    "    xlabel='cells',\n",
    "    ylabel='total number of counts',\n",
    ")"
   ]
  },
  {
   "cell_type": "markdown",
   "metadata": {},
   "source": [
    "Hovering over points with the cursor shows information about the corresponding cells.\n",
    "\n",
    "3. Plot mitochondrial count percentages vs total number of counts.  \n",
    "We use `xomx.pl.scatter()` which takes in input two functions, one for the x-axis, and one for the y-axis (both of them must take in input the index a feature if `obs_or_var` is 'var' or the index of a sample if `obs_or_var` is 'obs'. We use a log scale for the total number of counts (x axis)."
   ]
  },
  {
   "cell_type": "code",
   "execution_count": null,
   "metadata": {},
   "outputs": [],
   "source": [
    "# Plot mitochondrial count percentages vs total number of counts\n",
    "xomx.pl.scatter(\n",
    "    xd,\n",
    "    lambda idx: xd.obs['total_counts'][idx],\n",
    "    lambda idx: xd.obs['pct_counts_mt'][idx],\n",
    "    obs_or_var='obs',\n",
    "    xlog_scale=True,\n",
    "    ylog_scale=False,\n",
    "    xlabel='total number number of counts',\n",
    "    ylabel='mitochondrial count percentages',\n",
    ")"
   ]
  },
  {
   "cell_type": "markdown",
   "metadata": {},
   "source": [
    "We then follow the steps of the [Scanpy tutorial](\n",
    "https://scanpy-tutorials.readthedocs.io/en/latest/pbmc3k.html) for the preprocessing\n",
    "and clustering of the data:"
   ]
  },
  {
   "cell_type": "code",
   "execution_count": null,
   "metadata": {},
   "outputs": [],
   "source": [
    "xd_processed = xd[xd.obs.n_genes_by_counts < 2500, :]\n",
    "xd_processed = xd_processed[xd_processed.obs.pct_counts_mt < 5, :]\n",
    "xd_processed = sc.pp.normalize_total(xd_processed, target_sum=1e4, copy=True)\n",
    "xd_processed = sc.pp.log1p(xd_processed, copy=True)\n",
    "sc.pp.highly_variable_genes(xd_processed, min_mean=0.0125, max_mean=3, min_disp=0.5)\n",
    "xd_processed.raw = xd_processed\n",
    "xd_processed = xd_processed[:, xd_processed.var.highly_variable]\n",
    "sc.pp.regress_out(xd_processed, [\"total_counts\", \"pct_counts_mt\"])\n",
    "sc.pp.scale(xd_processed, max_value=10)\n",
    "sc.tl.pca(xd_processed, svd_solver=\"arpack\", random_state=rng.randint(1000))\n",
    "sc.pp.neighbors(xd_processed, n_neighbors=10, n_pcs=40, random_state=rng.randint(1000))\n",
    "sc.tl.leiden(xd_processed, random_state=rng.randint(1000))"
   ]
  },
  {
   "cell_type": "markdown",
   "metadata": {},
   "source": [
    "We rename the clusters as it is done in the [Scanpy tutorial](\n",
    "https://scanpy-tutorials.readthedocs.io/en/latest/pbmc3k.html):\n"
   ]
  },
  {
   "cell_type": "code",
   "execution_count": null,
   "metadata": {},
   "outputs": [],
   "source": [
    "new_cluster_names = [\n",
    "    \"CD4 T\",\n",
    "    \"CD14 Monocytes\",\n",
    "    \"B\",\n",
    "    \"CD8 T\",\n",
    "    \"NK\",\n",
    "    \"FCGR3A Monocytes\",\n",
    "    \"Dendritic\",\n",
    "    \"Megakaryocytes\",\n",
    "]\n",
    "xd_processed.rename_categories(\"leiden\", new_cluster_names)  # ignore the warning"
   ]
  },
  {
   "cell_type": "code",
   "execution_count": null,
   "metadata": {},
   "outputs": [],
   "source": [
    "xd_processed.obs['leiden']"
   ]
  },
  {
   "cell_type": "markdown",
   "metadata": {},
   "source": [
    "To compute efficiently the neighborhood graph and clusters, the data was filtered by selecting only the top highly variable genes (`xd_processed = xd_processed[:, xd_processed.var.highly_variable]`) .  \n",
    "\n",
    "Now, we retrieve the data with all the features, as follows:"
   ]
  },
  {
   "cell_type": "code",
   "execution_count": null,
   "metadata": {},
   "outputs": [],
   "source": [
    "obsp = xd_processed.obsp.copy()\n",
    "xd_processed = xd_processed.raw.to_adata()\n",
    "xd_processed.obsp = obsp"
   ]
  },
  {
   "cell_type": "markdown",
   "metadata": {},
   "source": [
    "The copy of `xd_processed.obsp` is necessary as it is not restored by `xd_processed.raw.to_adata()`.\n",
    "\n",
    "We compute the dictionary of feature indices, which is required by some *xomx* functions:"
   ]
  },
  {
   "cell_type": "code",
   "execution_count": null,
   "metadata": {},
   "outputs": [],
   "source": [
    "xd_processed.uns[\"var_indices\"] = xomx.tl.var_indices(xd_processed)"
   ]
  },
  {
   "cell_type": "markdown",
   "metadata": {},
   "source": [
    "Example:  `xd_processed.uns['var_indices']['MALAT1']` is 7854 and `xd_processed.var_names[7854]` is \n",
    "'MALAT1'.\n",
    "\n",
    "The 'leiden' clusters define labels, but *xomx* uses labels stored in `.obs['labels']`, so\n",
    "we make the following copy:"
   ]
  },
  {
   "cell_type": "code",
   "execution_count": null,
   "metadata": {},
   "outputs": [],
   "source": [
    "xd_processed.obs['labels'] = xd_processed.obs['leiden']"
   ]
  },
  {
   "cell_type": "markdown",
   "metadata": {},
   "source": [
    "Several *xomx* functions require the list of all labels and the \n",
    "dictionary of sample indices per label:"
   ]
  },
  {
   "cell_type": "code",
   "execution_count": null,
   "metadata": {},
   "outputs": [],
   "source": [
    "xd_processed.uns['all_labels'] = xomx.tl.all_labels(xd_processed.obs['labels'])\n",
    "xd_processed.uns['obs_indices_per_label'] = xomx.tl.indices_per_label(xd_processed.obs['labels'])"
   ]
  },
  {
   "cell_type": "markdown",
   "metadata": {},
   "source": [
    "Example: `xd_processed.uns['obs_indices_per_label']['Megakaryocytes']` is the list of indices\n",
    "of the samples that are labelled as 'Megakaryocytes'.\n",
    "\n",
    "We then randomly split the samples into training and test sets:"
   ]
  },
  {
   "cell_type": "code",
   "execution_count": null,
   "metadata": {},
   "outputs": [],
   "source": [
    "xomx.tl.train_and_test_indices(xd_processed, \"obs_indices_per_label\", test_train_ratio=0.25, rng=rng)"
   ]
  },
  {
   "cell_type": "markdown",
   "metadata": {},
   "source": [
    "With `test_train_ratio=0.25`, for every label, 25% of the samples are assigned to \n",
    "the test set, and 75% to the train set. It creates the following unstructured \n",
    "annotations:\n",
    "- `xd_processed.uns['train_indices']`: the array of indices of all samples that belong \n",
    "to the training set.\n",
    "- `xd_processed.uns['test_indices']`: the array of indices of all samples that belong \n",
    "to the test set.\n",
    "- `xd_processed.uns['train_indices_per_label']`: the dictionary of sample indices in the \n",
    "training set, per label. For instance,\n",
    "`xd_processed.uns['train_indices_per_label']['Megakaryocytes']` is the array\n",
    "of indices of all the samples labelled as 'Megakaryocytes' that belong to the\n",
    "training set.\n",
    "- `xd_processed.uns['test_indices_per_label']`: the dictionary of sample indices in the \n",
    "test set, per label.\n",
    "\n",
    "We use the Scanpy function `rank_genes_groups()` to rank the genes for each \n",
    "cluster with a t-test:"
   ]
  },
  {
   "cell_type": "code",
   "execution_count": null,
   "metadata": {},
   "outputs": [],
   "source": [
    "sc.tl.rank_genes_groups(xd_processed, 'leiden', method='t-test')"
   ]
  },
  {
   "cell_type": "markdown",
   "metadata": {},
   "source": [
    "After that, the ranking information is contained in \n",
    "`xd_processed.uns['rank_genes_groups']`. For instance, \n",
    "`xd_processed.uns['rank_genes_groups']['names']['Megakaryocytes']` is the list of genes \n",
    "ordered from highest to lowest rank for the label 'Megakaryocytes'.\n",
    "\n",
    "We save `xd_processed` as the file **xomx_pbmc.h5ad**\n",
    "in the `save_dir` directory:"
   ]
  },
  {
   "cell_type": "code",
   "execution_count": null,
   "metadata": {},
   "outputs": [],
   "source": [
    "xd_processed.write(os.path.join(save_dir, 'xomx_pbmc.h5ad'))"
   ]
  },
  {
   "cell_type": "markdown",
   "metadata": {
    "jp-MarkdownHeadingCollapsed": true,
    "tags": []
   },
   "source": [
    "## Step 2: training binary classifiers and performing recursive feature elimination"
   ]
  },
  {
   "cell_type": "markdown",
   "metadata": {},
   "source": [
    "Loading the AnnData object:"
   ]
  },
  {
   "cell_type": "code",
   "execution_count": null,
   "metadata": {},
   "outputs": [],
   "source": [
    "xd_processed = sc.read(os.path.join(save_dir, 'xomx_pbmc.h5ad'), cache=True)"
   ]
  },
  {
   "cell_type": "markdown",
   "metadata": {},
   "source": [
    "Just like in the [xomx_kidney_classif_2.ipynb tutorial](\n",
    "https://colab.research.google.com/github/perrin-isir/xomx-tutorials/blob/main/tutorials/xomx_kidney_classif_2.ipynb),\n",
    "we use the Extra-Trees algorithms and run it several times per label to select\n",
    "100, then 30, 20, 15 and finally 10 marker genes for each label.  \n",
    "The only difference here is the use of the option `init_selection_size=8000` in `init()`. \n",
    "This option speeds up the process of feature elimination by starting with an\n",
    "initial selection of features of size 8000, different for each label (while \n",
    "in [xomx_kidney_classif_2.ipynb](\n",
    "https://colab.research.google.com/github/perrin-isir/xomx-tutorials/blob/main/tutorials/xomx_kidney_classif_2.ipynb), a global filtering was applied\n",
    "to start with a common initial selection of 8000 highly variable genes).  \n",
    "\n",
    "With the `init_selection_size` option, we must also give in input a list or array of features ordered by rank (the most important features first).\n",
    "The first `init_selection_size` features will be selected.  \n",
    "In our case, `xd_processed.uns['rank_genes_groups']` has been computed before, and for each label, \n",
    "`xd_processed.uns['rank_genes_groups']['names'][label]` is an array of the features ordered by rank.  \n",
    "So for each label, our initial selection of 8000 genes coincides with the\n",
    "highest ranked features in `xd.uns['rank_genes_groups']['names'][label]`.\n",
    "\n",
    "After the training, for each label, `feature_selectors[label]` is a\n",
    "binary classifier using only 10 features to discriminate samples with the label \n",
    "from other samples."
   ]
  },
  {
   "cell_type": "code",
   "execution_count": null,
   "metadata": {},
   "outputs": [],
   "source": [
    "feature_selectors = {}\n",
    "for label in xd_processed.uns['all_labels']:\n",
    "    print('Label: ' + label)\n",
    "    feature_selectors[label] = xomx.fs.RFEExtraTrees(\n",
    "        xd_processed,\n",
    "        label,\n",
    "        n_estimators=450,\n",
    "        random_state=rng,\n",
    "    )\n",
    "    feature_selectors[label].init(init_selection_size=8000, rank=xd_processed.uns['rank_genes_groups']['names'][label])\n",
    "    for siz in [100, 30, 20, 15, 10]:\n",
    "        print('Selecting', siz, 'features...')\n",
    "        feature_selectors[label].select_features(siz)\n",
    "        print(\n",
    "            'MCC score:',\n",
    "            xomx.tl.matthews_coef(feature_selectors[label].confusion_matrix),\n",
    "        )\n",
    "    feature_selectors[label].save(os.path.join(save_dir, 'feature_selectors', label))\n",
    "    print('Done.')"
   ]
  },
  {
   "cell_type": "markdown",
   "metadata": {},
   "source": [
    "## Step 3: visualizing the results"
   ]
  },
  {
   "cell_type": "markdown",
   "metadata": {},
   "source": [
    "Loading the AnnData object:"
   ]
  },
  {
   "cell_type": "code",
   "execution_count": null,
   "metadata": {},
   "outputs": [],
   "source": [
    "xd_processed = sc.read(os.path.join(save_dir, 'xomx_pbmc.h5ad'), cache=True)"
   ]
  },
  {
   "cell_type": "markdown",
   "metadata": {},
   "source": [
    "Loading the binary classifiers, and creating `gene_dict`, a dictionary of the 10-gene\n",
    "signatures for each label:"
   ]
  },
  {
   "cell_type": "code",
   "execution_count": null,
   "metadata": {},
   "outputs": [],
   "source": [
    "feature_selectors = {}\n",
    "gene_dict = {}\n",
    "for label in xd_processed.uns['all_labels']:\n",
    "    feature_selectors[label] = xomx.fs.load_RFEExtraTrees(\n",
    "        os.path.join(save_dir, 'feature_selectors', label),\n",
    "        xd_processed,\n",
    "    )\n",
    "    gene_dict[label] = [\n",
    "        xd_processed.var_names[idx_]\n",
    "        for idx_ in feature_selectors[label].current_feature_indices\n",
    "    ]"
   ]
  },
  {
   "cell_type": "markdown",
   "metadata": {},
   "source": [
    "We construct a multiclass classifier based on the binary classifiers:\n"
   ]
  },
  {
   "cell_type": "code",
   "execution_count": null,
   "metadata": {},
   "outputs": [],
   "source": [
    "sbm = xomx.cl.ScoreBasedMulticlass(xd_processed, xd_processed.uns['all_labels'], feature_selectors)"
   ]
  },
  {
   "cell_type": "code",
   "execution_count": null,
   "metadata": {},
   "outputs": [],
   "source": [
    "sbm.plot()"
   ]
  },
  {
   "cell_type": "markdown",
   "metadata": {},
   "source": [
    "With the function plot_var(), we visualize the 10-gene signatures of CD14 Monocytes and FCGR3A Monocytes:"
   ]
  },
  {
   "cell_type": "code",
   "execution_count": null,
   "metadata": {},
   "outputs": [],
   "source": [
    "xomx.pl.plot_var(xd_processed, gene_dict[\"CD14 Monocytes\"] + gene_dict[\"FCGR3A Monocytes\"])"
   ]
  },
  {
   "cell_type": "markdown",
   "metadata": {},
   "source": [
    "Some categories have significantly less samples than others, so we can pass the option `equal_size=True` to duplicate some of the samples and get a plot with categories of equal sizes:"
   ]
  },
  {
   "cell_type": "code",
   "execution_count": null,
   "metadata": {},
   "outputs": [],
   "source": [
    "xomx.pl.plot_var(xd_processed, gene_dict[\"CD14 Monocytes\"] + gene_dict[\"FCGR3A Monocytes\"], equal_size=True, width=1000)"
   ]
  },
  {
   "cell_type": "markdown",
   "metadata": {},
   "source": [
    "We gather all the selected genes in a single list:"
   ]
  },
  {
   "cell_type": "code",
   "execution_count": null,
   "metadata": {},
   "outputs": [],
   "source": [
    "all_selected_genes = np.asarray(list(gene_dict.values())).flatten()"
   ]
  },
  {
   "cell_type": "markdown",
   "metadata": {},
   "source": [
    "For comparison, we define a list of known biomarkers as suggested in the \n",
    "[Scanpy tutorial](\n",
    "https://scanpy-tutorials.readthedocs.io/en/latest/pbmc3k.html):"
   ]
  },
  {
   "cell_type": "code",
   "execution_count": null,
   "metadata": {},
   "outputs": [],
   "source": [
    "biomarkers = {\n",
    "    \"IL7R\",\n",
    "    \"CD14\",\n",
    "    \"LYZ\",\n",
    "    \"MS4A1\",\n",
    "    \"CD8A\",\n",
    "    \"GNLY\",\n",
    "    \"NKG7\",\n",
    "    \"FCGR3A\",\n",
    "    \"MS4A7\",\n",
    "    \"FCER1A\",\n",
    "    \"CST3\",\n",
    "    \"PPBP\",\n",
    "}"
   ]
  },
  {
   "cell_type": "code",
   "execution_count": null,
   "metadata": {},
   "outputs": [],
   "source": [
    "print(biomarkers.intersection(all_selected_genes))"
   ]
  },
  {
   "cell_type": "markdown",
   "metadata": {},
   "source": [
    "We use Scanpy to create a UMAP embedding, stored in `.obsm[\"X_umap\"]`: "
   ]
  },
  {
   "cell_type": "code",
   "execution_count": null,
   "metadata": {},
   "outputs": [],
   "source": [
    "sc.tl.umap(xd_processed)"
   ]
  },
  {
   "cell_type": "markdown",
   "metadata": {},
   "source": [
    "Using `xomx.pl.plot_2d_obsm()`, we get an interactive plot of this embedding:"
   ]
  },
  {
   "cell_type": "code",
   "execution_count": null,
   "metadata": {},
   "outputs": [],
   "source": [
    "xomx.pl.plot_2d_obsm(xd_processed, \"X_umap\")"
   ]
  },
  {
   "cell_type": "markdown",
   "metadata": {},
   "source": [
    "By default, different colors correspond to the different labels, but \n",
    "we can also specify a feature:"
   ]
  },
  {
   "cell_type": "code",
   "execution_count": null,
   "metadata": {},
   "outputs": [],
   "source": [
    "xomx.pl.plot_2d_obsm(xd_processed, \"X_umap\", \"CST3\")"
   ]
  },
  {
   "cell_type": "code",
   "execution_count": null,
   "metadata": {},
   "outputs": [],
   "source": [
    "xd_processed.obs[\"colors\"] = xomx.tl._to_dense(xd_processed[:, \"CST3\"].X)"
   ]
  },
  {
   "cell_type": "code",
   "execution_count": null,
   "metadata": {},
   "outputs": [],
   "source": [
    "xd_processed.obs[\"colors\"]"
   ]
  },
  {
   "cell_type": "code",
   "execution_count": null,
   "metadata": {},
   "outputs": [],
   "source": [
    "xomx.tl._to_dense"
   ]
  },
  {
   "cell_type": "code",
   "execution_count": null,
   "metadata": {},
   "outputs": [],
   "source": []
  }
 ],
 "metadata": {
  "kernelspec": {
   "display_name": "Python 3",
   "language": "python",
   "name": "python3"
  },
  "language_info": {
   "codemirror_mode": {
    "name": "ipython",
    "version": 3
   },
   "file_extension": ".py",
   "mimetype": "text/x-python",
   "name": "python",
   "nbconvert_exporter": "python",
   "pygments_lexer": "ipython3",
   "version": "3.7.7"
  }
 },
 "nbformat": 4,
 "nbformat_minor": 4
}
