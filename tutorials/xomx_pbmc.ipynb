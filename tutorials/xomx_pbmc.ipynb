{
 "cells": [
  {
   "cell_type": "markdown",
   "metadata": {},
   "source": [
    "# *xomx tutorial:* preprocessing and clustering 3k PBMCs\n",
    "\n",
    "-----\n",
    "\n",
    "This tutorial follows the single cell RNA-seq Scanpy tutorial on 3k PBMCs:\n",
    "https://scanpy-tutorials.readthedocs.io/en/latest/pbmc3k.html.\n",
    "\n",
    "The objective is to analyze a dataset of Peripheral Blood Mononuclear Cells (PBMC)\n",
    "freely available from 10X Genomics, composed of 2,700 single cells that were\n",
    "sequenced on the Illumina NextSeq 500.\n",
    "We replace some Scanpy plots by interactive *xomx* plots, and modify the\n",
    "computation of marker genes. Instead of using a t-test, Wilcoxon-Mann-Whitney test\n",
    "or logistic regression, we perform recursive feature elimination with\n",
    "the Extra-Trees algorithm."
   ]
  },
  {
   "cell_type": "code",
   "execution_count": null,
   "metadata": {},
   "outputs": [],
   "source": [
    "import numpy as np\n",
    "import scanpy as sc\n",
    "import os\n",
    "import requests\n",
    "try:\n",
    "  import xomx\n",
    "except ImportError:\n",
    "    !pip install git+https://github.com/perrin-isir/xomx\n",
    "import xomx"
   ]
  },
  {
   "cell_type": "code",
   "execution_count": null,
   "metadata": {},
   "outputs": [],
   "source": [
    "# To display interactive plots:\n",
    "%matplotlib widget"
   ]
  },
  {
   "cell_type": "markdown",
   "metadata": {},
   "source": [
    "We first define `save_dir`, the folder in which everything will be saved."
   ]
  },
  {
   "cell_type": "code",
   "execution_count": null,
   "metadata": {},
   "outputs": [],
   "source": [
    "save_dir = os.path.join(os.path.expanduser('~'), 'results', 'xomx', 'tutorials', 'xomx_pbmc')\n",
    "os.makedirs(save_dir, exist_ok=True)"
   ]
  },
  {
   "cell_type": "code",
   "execution_count": null,
   "metadata": {},
   "outputs": [],
   "source": [
    "# Setting the pseudo-random number generator\n",
    "rng = np.random.RandomState(0)"
   ]
  },
  {
   "cell_type": "markdown",
   "metadata": {},
   "source": [
    "We download scRNA-seq data freely available from 10x Genomics:"
   ]
  },
  {
   "cell_type": "code",
   "execution_count": null,
   "metadata": {},
   "outputs": [],
   "source": [
    "pbmc3k_file = 'pbmc3k.tar.gz'\n",
    "if not os.path.isfile(os.path.join(save_dir, pbmc3k_file)):\n",
    "    url = (\n",
    "        \"https://cf.10xgenomics.com/samples/cell/pbmc3k/\"\n",
    "        + \"pbmc3k_filtered_gene_bc_matrices.tar.gz\"\n",
    "    )\n",
    "    r = requests.get(url, allow_redirects=True)\n",
    "    open(os.path.join(save_dir, \"pbmc3k.tar.gz\"), \"wb\").write(r.content)\n",
    "    os.popen(\n",
    "        \"tar -xzf \" + os.path.join(save_dir, \"pbmc3k.tar.gz\") + \" -C \" + save_dir\n",
    "    ).read()"
   ]
  },
  {
   "cell_type": "markdown",
   "metadata": {},
   "source": [
    "We turn this data into an [AnnData](https://anndata.readthedocs.io) object with the Scanpy function \n",
    "`read_10x_mtx()`:"
   ]
  },
  {
   "cell_type": "code",
   "execution_count": null,
   "metadata": {},
   "outputs": [],
   "source": [
    "xd = sc.read_10x_mtx(\n",
    "    os.path.join(save_dir, \"filtered_gene_bc_matrices\", \"hg19\"),\n",
    "    var_names=\"gene_symbols\",\n",
    ")\n",
    "xd.var_names_make_unique()"
   ]
  },
  {
   "cell_type": "markdown",
   "metadata": {},
   "source": [
    "We apply basic filtering, annotate the group of mitochondrial genes and compute various\n",
    "metrics, as it is done in the [Scanpy tutorial](\n",
    "https://scanpy-tutorials.readthedocs.io/en/latest/pbmc3k.html):"
   ]
  },
  {
   "cell_type": "code",
   "execution_count": null,
   "metadata": {},
   "outputs": [],
   "source": [
    "sc.pp.filter_cells(xd, min_genes=200)\n",
    "sc.pp.filter_genes(xd, min_cells=3)\n",
    "xd.var[\"mt\"] = xd.var_names.str.startswith(\n",
    "    \"MT-\"\n",
    ")  # annotate the group of mitochondrial genes as 'mt'\n",
    "sc.pp.calculate_qc_metrics(\n",
    "    xd, qc_vars=[\"mt\"], percent_top=None, log1p=False, inplace=True\n",
    ")"
   ]
  },
  {
   "cell_type": "code",
   "execution_count": null,
   "metadata": {},
   "outputs": [],
   "source": [
    "xd"
   ]
  },
  {
   "cell_type": "code",
   "execution_count": null,
   "metadata": {},
   "outputs": [],
   "source": [
    "# The k-th element of the following array is the mean fraction of counts of the\n",
    "# k-th gene in each single cell, across all cells\n",
    "mean_count_fractions = np.squeeze(\n",
    "    np.asarray(\n",
    "        np.mean(\n",
    "            xd.X / np.array(xd.obs[\"total_counts\"]).reshape((xd.n_obs, 1)), axis=0\n",
    "        )\n",
    "    )\n",
    ")"
   ]
  },
  {
   "cell_type": "code",
   "execution_count": null,
   "metadata": {},
   "outputs": [],
   "source": [
    "# Plot, for all genes, the mean fraction\n",
    "# of counts in single cells, across all cells\n",
    "xomx.pl.function_plot(\n",
    "    xd,\n",
    "    lambda idx: mean_count_fractions[idx],\n",
    "    obs_or_var=\"var\",\n",
    "    violinplot=False,\n",
    "    ylog_scale=False,\n",
    "    xlabel=\"genes\",\n",
    "    ylabel=\"mean fractions of counts across all cells\",\n",
    ")"
   ]
  },
  {
   "cell_type": "code",
   "execution_count": null,
   "metadata": {},
   "outputs": [],
   "source": [
    "# Plot the total counts per cell\n",
    "xomx.pl.function_plot(\n",
    "    xd,\n",
    "    lambda idx: xd.obs[\"total_counts\"][idx],\n",
    "    obs_or_var=\"obs\",\n",
    "    violinplot=True,\n",
    "    ylog_scale=False,\n",
    "    xlabel=\"cells\",\n",
    "    ylabel=\"total number of counts\",\n",
    ")"
   ]
  },
  {
   "cell_type": "code",
   "execution_count": null,
   "metadata": {},
   "outputs": [],
   "source": [
    "# Plot mitochondrial count percentages vs total number of counts\n",
    "xomx.pl.function_scatter(\n",
    "    xd,\n",
    "    lambda idx: xd.obs[\"total_counts\"][idx],\n",
    "    lambda idx: xd.obs[\"pct_counts_mt\"][idx],\n",
    "    obs_or_var=\"obs\",\n",
    "    violinplot=False,\n",
    "    xlog_scale=False,\n",
    "    ylog_scale=False,\n",
    "    xlabel=\"total number number of counts\",\n",
    "    ylabel=\"mitochondrial count percentages\",\n",
    ")"
   ]
  },
  {
   "cell_type": "code",
   "execution_count": null,
   "metadata": {},
   "outputs": [],
   "source": []
  }
 ],
 "metadata": {
  "kernelspec": {
   "display_name": "Python 3",
   "language": "python",
   "name": "python3"
  },
  "language_info": {
   "codemirror_mode": {
    "name": "ipython",
    "version": 3
   },
   "file_extension": ".py",
   "mimetype": "text/x-python",
   "name": "python",
   "nbconvert_exporter": "python",
   "pygments_lexer": "ipython3",
   "version": "3.7.7"
  }
 },
 "nbformat": 4,
 "nbformat_minor": 4
}
