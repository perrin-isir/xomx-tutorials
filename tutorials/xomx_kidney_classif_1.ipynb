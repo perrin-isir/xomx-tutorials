{
 "cells": [
  {
   "cell_type": "markdown",
   "id": "00ca4539",
   "metadata": {
    "tags": []
   },
   "source": [
    "<a href=\"https://colab.research.google.com/github/perrin-isir/xomx-tutorials/blob/main/tutorials/xomx_kidney_classif_2.ipynb\"> <img align=\"left\" src=\"https://colab.research.google.com/assets/colab-badge.svg\" alt=\"Open in Colab\" title=\"Open in Google Colaboratory\"></a>\n",
    "<a id=\"raw-url\" href=\"https://raw.githubusercontent.com/perrin-isir/xomx-tutorials/main/tutorials/xomx_kidney_classif_2.ipynb\" download> <img align=\"left\" src=\"https://img.shields.io/badge/Github-Download%20(Right%20click%20%2B%20Save%20link%20as...)-blue\" alt=\"Download (Right click + Save link as)\" title=\"Download Notebook\"></a>"
   ]
  },
  {
   "cell_type": "markdown",
   "id": "8175622d-2de5-47b4-8a41-15d0739df11a",
   "metadata": {},
   "source": [
    "# *xomx tutorial:* **constructing diagnostic biomarker signatures**: phase 1 (optional)\n",
    "\n",
    "This is the first phase of a tutorial on kidney cancer classification.  \n",
    "The objective of the tutorial is to use a recursive feature elimination method on \n",
    "RNA-seq data from the Cancer Genome Atlas (TCGA) to identify gene biomarker signatures \n",
    "for the differential diagnosis of three types of kidney cancer: kidney renal clear cell\n",
    "carcinoma (**KIRC**), kidney renal papillary cell carcinoma (**KIRP**), and chromophobe\n",
    "renal cell carcinoma (**KICH**).\n",
    "\n",
    "This first phase imports the RNA-seq data from the Cancer Genome Atlas (TGCA) online database, and applies basic preprocessing.  \n",
    "As the data importation takes some time, in general **we recommand to skip this phase and go directly to the phase 2 of the tutorial:\n",
    "[(xomx_kidney_classif_2.ipynb)](https://github.com/perrin-isir/xomx-tutorials/blob/main/tutorials/xomx_kidney_classif_2.ipynb)**.\n",
    "\n",
    "However, some basic preprocessing tools shown in phase 1 are important, such as the functions `xomx.tl.all_labels()` (Step 4), `xomx.tl.indices_per_labels()` (Step 4), \n",
    "`xomx.tl.var_mean_values()` (Step 5)\n",
    "`xomx.tl.var_standard_deviations()` (Step 5),\n",
    "and `xomx.tl.train_and_test_indices()` (Step 5)."
   ]
  },
  {
   "cell_type": "code",
   "execution_count": null,
   "id": "386902e2",
   "metadata": {},
   "outputs": [],
   "source": [
    "# imports:\n",
    "import os\n",
    "import shutil\n",
    "from IPython.display import clear_output\n",
    "try:\n",
    "    import xomx\n",
    "except ImportError:\n",
    "    !pip install git+https://github.com/perrin-isir/xomx.git\n",
    "    clear_output()\n",
    "    import xomx\n",
    "try:\n",
    "    import pandas as pd\n",
    "except ImportError:\n",
    "    !pip install pandas\n",
    "    clear_output()\n",
    "    import pandas as pd\n",
    "try:\n",
    "    import scanpy as sc\n",
    "except ImportError:\n",
    "    !pip install scanpy\n",
    "    clear_output()\n",
    "    import scanpy as sc\n",
    "import numpy as np"
   ]
  },
  {
   "cell_type": "markdown",
   "id": "a24213d4-7514-42a4-a46e-f3bc2fb04cc1",
   "metadata": {},
   "source": [
    "We define `save_dir`, the folder in which everything will be saved."
   ]
  },
  {
   "cell_type": "code",
   "execution_count": null,
   "id": "00c326e5",
   "metadata": {},
   "outputs": [],
   "source": [
    "save_dir = os.path.expanduser(os.path.join(\"~\", \"results\", \"xomx-tutorials\", \"kidney_classif\"))  # the default directory in which results are stored\n",
    "os.makedirs(save_dir, exist_ok=True)"
   ]
  },
  {
   "cell_type": "code",
   "execution_count": null,
   "id": "6830d3e3-751c-4d93-b546-6eab66a5d35e",
   "metadata": {},
   "outputs": [],
   "source": [
    "# Setting the pseudo-random number generator\n",
    "rng = np.random.RandomState(0)"
   ]
  },
  {
   "cell_type": "markdown",
   "id": "759d405f-1597-489c-8e0b-af4c70b89186",
   "metadata": {
    "tags": []
   },
   "source": [
    "## Step 1: preparing the manifest"
   ]
  },
  {
   "cell_type": "markdown",
   "id": "d02f199b-25f5-4a53-8882-2e5edf855ce1",
   "metadata": {},
   "source": [
    "We use the \n",
    "[GDC Data Transfer Tool](\n",
    "https://gdc.cancer.gov/access-data/gdc-data-transfer-tool\n",
    ")\n",
    "to import data from the Cancer Genome Atlas (TCGA). \n",
    "This involves creating a `manifest.txt` file that describes the files to be imported.\n",
    "\n",
    "The `gdc_create_manifest()` function\n",
    "facilitates the creation of this manifest. It is designed to import files of gene \n",
    "expression counts obtained with [HTSeq](https://github.com/simon-anders/htseq). \n",
    "You can have a look at its implementation in \n",
    "[xomx/data_importation/gdc.py](../data_importation/gdc.py) to adapt it to your own\n",
    "needs if you want to import other types of data.\n",
    "\n",
    "`gdc_create_manifest()` takes in input the disease type (in our case \"Adenomas and \n",
    "Adenocarcinomas\"), the list of project names (\"TCGA-KIRC\", \"TCGA-KIRP\", \"TCGA-KICH\"), \n",
    "and the numbers of samples desired for each of these projects (remark: for \"TCGA-KICH\", \n",
    "there are only 65 samples available). It returns a list of Pandas dataframes, one for \n",
    "each project.\n",
    "\n",
    "More information on GDC data can be found on the [GDC Data Portal](\n",
    "https://portal.gdc.cancer.gov/\n",
    ")."
   ]
  },
  {
   "cell_type": "code",
   "execution_count": null,
   "id": "2ea53e81-a2b9-413d-a3c5-e3bcf948d2d4",
   "metadata": {},
   "outputs": [],
   "source": [
    "disease_type = \"Adenomas and Adenocarcinomas\"\n",
    "# The 3 categories of cancers studied in this tutorial correspond to the following\n",
    "# TCGA projects, which are different types of adenocarcinomas\n",
    "project_list = [\"TCGA-KIRC\", \"TCGA-KIRP\", \"TCGA-KICH\"]\n",
    "# Fetch 200 cases of KIRC, 200 cases of KIRP, and 65 cases of KICH from the\n",
    "# GDC database\n",
    "case_numbers = [200, 200, 65]\n",
    "df_list = xomx.di.gdc_create_manifest(\n",
    "    disease_type,\n",
    "    project_list,\n",
    "    case_numbers,\n",
    ")"
   ]
  },
  {
   "cell_type": "markdown",
   "id": "8440933d-5afb-42a4-bdb4-5bbcf51a21ee",
   "metadata": {},
   "source": [
    "The Pandas library (imported as `pd`) is used to write the concatenation of the\n",
    "output dataframes to the file `manifest.txt`:"
   ]
  },
  {
   "cell_type": "code",
   "execution_count": null,
   "id": "9859611c-68fe-4db5-a037-318706cf6cc3",
   "metadata": {},
   "outputs": [],
   "source": [
    "df = pd.concat(df_list)\n",
    "df.to_csv(\n",
    "    os.path.join(save_dir, \"manifest.txt\"),\n",
    "    header=True,\n",
    "    index=False,\n",
    "    sep=\"\\t\",\n",
    "    mode=\"w\",\n",
    ")"
   ]
  },
  {
   "cell_type": "markdown",
   "id": "d6e6f169-ef68-4eb5-a5a9-4cd05b7f7c7a",
   "metadata": {},
   "source": [
    "## Step 2: importing the data"
   ]
  },
  {
   "cell_type": "code",
   "execution_count": null,
   "id": "8ddf4136-ca53-4a67-861b-dffa0e69a227",
   "metadata": {},
   "outputs": [],
   "source": [
    "if not os.path.exists(os.path.join(save_dir, \"gdc-client\")):\n",
    "    !wget -O {os.path.join(save_dir, \"gdc-client_v1.6.1_Ubuntu_x64.zip\")} \"https://gdc.cancer.gov/files/public/file/gdc-client_v1.6.1_Ubuntu_x64.zip\"\n",
    "    !unzip {os.path.join(save_dir, \"gdc-client_v1.6.1_Ubuntu_x64.zip\")} -d {save_dir}\n",
    "    !rm {os.path.join(save_dir, \"gdc-client_v1.6.1_Ubuntu_x64.zip\")}"
   ]
  },
  {
   "cell_type": "markdown",
   "id": "89b80745-50cb-4712-848a-88f5a8dacecb",
   "metadata": {},
   "source": [
    "We now import the data for the 465 samples.  \n",
    "**Warning**: it takes some time (approximately 25 minutes in Colab)."
   ]
  },
  {
   "cell_type": "code",
   "execution_count": null,
   "id": "94b47735-7b66-46c2-bd90-5dc72924ed71",
   "metadata": {},
   "outputs": [],
   "source": [
    "tmpdir = os.path.join(save_dir, \"tmpdir_GDCsamples\")\n",
    "os.makedirs(tmpdir, exist_ok=True)\n",
    "commandstring = (\n",
    "    os.path.join(save_dir, \"gdc-client\") + \" download -d \"\n",
    "    + tmpdir\n",
    "    + \" -m \"\n",
    "    + os.path.join(save_dir, \"manifest.txt\")\n",
    ")\n",
    "if not os.path.exists(os.path.join(save_dir, \"xomx_kidney_classif.h5ad\")):\n",
    "    !{commandstring}\n",
    "    clear_output()\n",
    "else:\n",
    "    print(f'{os.path.join(save_dir, \"xomx_kidney_classif.h5ad\")} already exists, no need to fetch data.')"
   ]
  },
  {
   "cell_type": "markdown",
   "id": "1f5fc04e-9b14-4568-a965-6aa3906af5ce",
   "metadata": {},
   "source": [
    "## Step 3: Creating and saving the AnnData object"
   ]
  },
  {
   "cell_type": "markdown",
   "id": "a04ec375-4e35-4deb-b110-964944852f90",
   "metadata": {},
   "source": [
    "The `gdc_create_data_matrix()` function (implemented in\n",
    "[gdc.py](https://github.com/perrin-isir/xomx/blob/master/xomx/data_importation/gdc.py)\n",
    ") is used to create a Pandas dataframe with all the individual samples:"
   ]
  },
  {
   "cell_type": "code",
   "execution_count": null,
   "id": "39ff525f-2599-415c-b127-1ac0c01e58e0",
   "metadata": {},
   "outputs": [],
   "source": [
    "tmpdir = os.path.join(save_dir, \"tmpdir_GDCsamples\")\n",
    "df = xomx.di.gdc_create_data_matrix(\n",
    "    tmpdir,\n",
    "    os.path.join(save_dir, \"manifest.txt\"),\n",
    ")\n",
    "df"
   ]
  },
  {
   "cell_type": "markdown",
   "id": "27adf9fc-c61b-4162-bc18-95056a5fa0c9",
   "metadata": {},
   "source": [
    "In `df`, every column represents a sample (with a unique identifier), \n",
    "and the rows correspond to different genes, identified by their \n",
    "Ensembl gene ID with a version number after the dot (see\n",
    "[https://www.ensembl.org/info/genome/stable_ids/index.html](https://www.ensembl.org/info/genome/stable_ids/index.html)).\n",
    "The integer values are the raw gene expression level measurements for all genes \n",
    "and all samples.  \n",
    "Since the last 5 rows contain special information that we will not use, we drop them\n",
    "with the following command:"
   ]
  },
  {
   "cell_type": "code",
   "execution_count": null,
   "id": "7df5efdf-6be3-4409-a993-fce2f57687ae",
   "metadata": {},
   "outputs": [],
   "source": [
    "df = df.drop(index=df.index[-5:])"
   ]
  },
  {
   "cell_type": "markdown",
   "id": "298b9321-cd6a-417d-a4ae-7af5f1e88179",
   "metadata": {},
   "source": [
    "In the convention used by Scanpy (and various other tools), samples are stored as raws of the\n",
    "data matrix, therefore we transpose the dataframe when creating the AnnData object, which we name `xd`:"
   ]
  },
  {
   "cell_type": "code",
   "execution_count": null,
   "id": "09cb0f90-d66b-4807-bce3-451883c1954f",
   "metadata": {},
   "outputs": [],
   "source": [
    "xd = sc.AnnData(df.transpose())"
   ]
  },
  {
   "cell_type": "markdown",
   "id": "7d7b754d-735a-4c4b-a151-44ad63228943",
   "metadata": {},
   "source": [
    "See this documentation for details on AnnData objects: \n",
    "[https://anndata.readthedocs.io](https://anndata.readthedocs.io).\n",
    "\n",
    "`xd.X[0, :]`, the first row, contains the expression levels of all genes for the \n",
    "first sample.  \n",
    "`xd.X[:, 0]`, the first column, contains the expression levels of\n",
    "the first gene for all samples.\n",
    "\n",
    "The feature names (gene IDs) are stored in `xd.var_names`, and the sample\n",
    "identifiers are stored in `xd.obs_names`.  \n",
    "We make sure that the feature names are unique with the\n",
    "following command:"
   ]
  },
  {
   "cell_type": "code",
   "execution_count": null,
   "id": "7f261a73-62c3-44bf-b50f-39d62dc9a60e",
   "metadata": {},
   "outputs": [],
   "source": [
    "xd.var_names_make_unique()"
   ]
  },
  {
   "cell_type": "markdown",
   "id": "2f014bd9-44a2-458f-89a1-4e5b50b14334",
   "metadata": {},
   "source": [
    "In order to improve cross-sample comparisons, we normalize the sequencing\n",
    "depth to 1 million, with the following Scanpy command:"
   ]
  },
  {
   "cell_type": "code",
   "execution_count": null,
   "id": "350bd180-8aad-4e58-bde4-2bf19b5bf822",
   "metadata": {},
   "outputs": [],
   "source": [
    "sc.pp.normalize_total(xd, target_sum=1e6)"
   ]
  },
  {
   "cell_type": "markdown",
   "id": "411b68da-ab99-41f0-bf4f-9ad03cdd46bc",
   "metadata": {},
   "source": [
    "`normalize_total()` performs a linear normalization for each sample \n",
    "so that the sum of the feature values becomes equal to `target_sum`.  \n",
    "It is a very basic normalization that we use for simplicity in this tutorial, \n",
    "but for more advanced applications, a more sophisticated preprocessing may be \n",
    "required.  \n",
    "`normalize_total()` is an in-place modification of the data, so after its \n",
    "application, `xd.X` contains the modified data.\n",
    "\n",
    "We save `xd` as **xomx_kidney_classif.h5ad**\n",
    "in the `save_dir` directory:"
   ]
  },
  {
   "cell_type": "code",
   "execution_count": null,
   "id": "c7cf272e-7de1-48f1-840d-5d5406c80302",
   "metadata": {},
   "outputs": [],
   "source": [
    "xd.write(os.path.join(save_dir, \"xomx_kidney_classif.h5ad\"))"
   ]
  },
  {
   "cell_type": "markdown",
   "id": "94e24450-85ff-4cc1-9a0e-43f1755ff4ed",
   "metadata": {},
   "source": [
    "Now we can delete the individual sample files that were downloaded in\n",
    "Step 2:"
   ]
  },
  {
   "cell_type": "code",
   "execution_count": null,
   "id": "deadfafc-d209-4bfb-9f58-2e609f41b99e",
   "metadata": {},
   "outputs": [],
   "source": [
    "assert tmpdir == os.path.join(save_dir, \"tmpdir_GDCsamples\")\n",
    "shutil.rmtree(tmpdir, ignore_errors=True)  # be careful with this command"
   ]
  },
  {
   "cell_type": "markdown",
   "id": "cde23ba1-4c89-48d9-a03c-5ebd8bb94a84",
   "metadata": {},
   "source": [
    "## Step 4: Labelling the samples"
   ]
  },
  {
   "cell_type": "markdown",
   "id": "e76f1462-b8fb-4db4-a2cf-d43ee8cc7889",
   "metadata": {},
   "source": [
    "We load the AnnData object and the manifest (useful to avoid running the previous steps if the kernel has been restarted):"
   ]
  },
  {
   "cell_type": "code",
   "execution_count": null,
   "id": "cdaf9124-c3fe-48ec-9a68-b3384b55ddf6",
   "metadata": {},
   "outputs": [],
   "source": [
    "xd = sc.read(os.path.join(save_dir, \"xomx_kidney_classif.h5ad\"))\n",
    "manifest = pd.read_table(os.path.join(save_dir, \"manifest.txt\"), header=0)"
   ]
  },
  {
   "cell_type": "markdown",
   "id": "d60b625d-872e-4e08-b7de-f79ce721538a",
   "metadata": {},
   "source": [
    "The manifest contains the labels (`\"TCGA-KIRC\"`, `\"TCGA-KIRP\"` or `\"TCGA-KICH\"`) of \n",
    "every sample.  \n",
    "We use it create a dictionary of labels: `label_dict`."
   ]
  },
  {
   "cell_type": "code",
   "execution_count": null,
   "id": "b32dbe8c-b3f2-4a2f-87ba-a24ec081780f",
   "metadata": {},
   "outputs": [],
   "source": [
    "label_dict = {}\n",
    "for i in range(xd.n_obs):\n",
    "    label_dict[manifest[\"id\"][i]] = manifest[\"annotation\"][i]"
   ]
  },
  {
   "cell_type": "markdown",
   "id": "bac4e4c8-5cb0-4eac-b6cb-8c7a5dbaceff",
   "metadata": {},
   "source": [
    "Example: `label_dict[\"80c9e71b-7f2f-48cf-b3ef-f037660a4903\"]` is equal to `\"TCGA-KICH\"`.\n",
    "\n",
    "Then, we create the array of labels, considering samples in the same order as \n",
    "`xd.obs_names`, and assign it to `xd.obs[\"labels\"]`."
   ]
  },
  {
   "cell_type": "code",
   "execution_count": null,
   "id": "1aef498c-e7d8-4d2a-8a0b-dd182ff01116",
   "metadata": {},
   "outputs": [],
   "source": [
    "label_array = np.array([label_dict[xd.obs_names[i]] for i in range(xd.n_obs)])\n",
    "xd.obs[\"labels\"] = label_array"
   ]
  },
  {
   "cell_type": "markdown",
   "id": "796575bc-a766-416c-a9de-018a7110a408",
   "metadata": {},
   "source": [
    "We compute the list of distinct labels, and assign it, as an unstructured annotation,\n",
    "to `xd.uns[\"all_labels\"]`."
   ]
  },
  {
   "cell_type": "code",
   "execution_count": null,
   "id": "686ad7ee-441b-48be-9c7b-a1195e93801d",
   "metadata": {},
   "outputs": [],
   "source": [
    "xd.uns[\"all_labels\"] = xomx.tl.all_labels(xd.obs[\"labels\"])"
   ]
  },
  {
   "cell_type": "markdown",
   "id": "7355babd-f203-4bda-9342-734351f69319",
   "metadata": {},
   "source": [
    "We also compute the list of sample indices for every label:"
   ]
  },
  {
   "cell_type": "code",
   "execution_count": null,
   "id": "e739237c-5859-45c3-ac75-5cb2f368c3c3",
   "metadata": {},
   "outputs": [],
   "source": [
    "xd.uns[\"obs_indices_per_label\"] = xomx.tl.indices_per_label(xd.obs[\"labels\"])"
   ]
  },
  {
   "cell_type": "markdown",
   "id": "c0004ff5-b165-4200-985f-777cb5e87efa",
   "metadata": {},
   "source": [
    "Example: `xd.uns[\"obs_indices_per_label\"][\"TCGA-KIRC\"]` is the list of indices\n",
    "of the samples that are labelled as `\"TCGA-KIRC\"`.\n",
    "\n",
    "It is important to use the keys `\"labels\"`,\n",
    "`\"all_labels\"` and `\"obs_indices_per_label\"` as they\n",
    "are expected by some *xomx* functions."
   ]
  },
  {
   "cell_type": "markdown",
   "id": "cd152b78-c577-4e8f-9518-f043805171a1",
   "metadata": {},
   "source": [
    "## Step 5: Basic preprocessing"
   ]
  },
  {
   "cell_type": "markdown",
   "id": "54c15313-517f-457b-99b0-71c6945a6ec4",
   "metadata": {},
   "source": [
    "We compute the mean and standard deviation (across samples) for all the features:"
   ]
  },
  {
   "cell_type": "code",
   "execution_count": null,
   "id": "56efd0f1-d380-4d02-9ac7-539de3c4a3be",
   "metadata": {},
   "outputs": [],
   "source": [
    "xd.var[\"mean_values\"] = xomx.tl.var_mean_values(xd)\n",
    "xd.var[\"standard_deviations\"] = xomx.tl.var_standard_deviations(xd)"
   ]
  },
  {
   "cell_type": "markdown",
   "id": "f2c2fe30-f884-4468-937b-a520775fff39",
   "metadata": {},
   "source": [
    "We logarithmize the data with the following Scanpy function that applies\n",
    "the transformation X = log(1 + X):"
   ]
  },
  {
   "cell_type": "code",
   "execution_count": null,
   "id": "3bbf1f17-3996-4fdd-a28e-f584acb2011c",
   "metadata": {},
   "outputs": [],
   "source": [
    "sc.pp.log1p(xd)"
   ]
  },
  {
   "cell_type": "markdown",
   "id": "4d6068a8-be93-4801-b4c9-13bb92867ae0",
   "metadata": {},
   "source": [
    "We then follow the Scanpy procedure to select the top 8000 highly variable genes:"
   ]
  },
  {
   "cell_type": "code",
   "execution_count": null,
   "id": "b229b54f-79c2-45e5-88c4-da5678687124",
   "metadata": {},
   "outputs": [],
   "source": [
    "sc.pp.highly_variable_genes(xd, n_top_genes=8000)"
   ]
  },
  {
   "cell_type": "markdown",
   "id": "19a7ebb4-037d-437e-ba5f-b99428a56b20",
   "metadata": {},
   "source": [
    "We perform the filtering to actually remove the other features:"
   ]
  },
  {
   "cell_type": "code",
   "execution_count": null,
   "id": "68d2b9b0-720b-4034-b315-967fdc425625",
   "metadata": {},
   "outputs": [],
   "source": [
    "xd = xd[:, xd.var.highly_variable].copy()"
   ]
  },
  {
   "cell_type": "markdown",
   "id": "e9d9e5b9-4145-4065-ab4f-777f5054c181",
   "metadata": {},
   "source": [
    "The reason why we reduce the number of features\n",
    "is to speed up the process of feature elimination, \n",
    "which can be relatively slow if it begins \n",
    "with tens of thousands of features. Keeping \n",
    "highly variable features is one possibility,\n",
    "but there are other options for the\n",
    "initial selection of features, see for instance \n",
    "the [xomx_pbmc.ipynb](https://colab.research.google.com/github/perrin-isir/xomx-tutorials/blob/main/tutorials/xomx_pbmc.ipynb) tutorial (Step 2).\n",
    "\n",
    "We compute the dictionary of feature indices,\n",
    "which is required by some *xomx* functions:"
   ]
  },
  {
   "cell_type": "code",
   "execution_count": null,
   "id": "9efa29ab-ca7b-4130-b2fb-251966e0146e",
   "metadata": {},
   "outputs": [],
   "source": [
    "xd.uns[\"var_indices\"] = xomx.tl.var_indices(xd)"
   ]
  },
  {
   "cell_type": "markdown",
   "id": "9f0b9dfa-e89b-444c-899e-b7245d800045",
   "metadata": {},
   "source": [
    "Example:  `xd.uns[\"var_indices\"][\"ENSG00000281918.1\"]`\n",
    "is equal to 7999 because ENSG00000281918.1 is now\n",
    "the last of the 8000 features in `xd.var_names`.\n",
    "\n",
    "We then randomly split the samples into training and test sets:"
   ]
  },
  {
   "cell_type": "code",
   "execution_count": null,
   "id": "645a5ff5-256e-4135-bed7-a5e134c42ff2",
   "metadata": {},
   "outputs": [],
   "source": [
    "xomx.tl.train_and_test_indices(xd, \"obs_indices_per_label\", test_train_ratio=0.25, rng=rng)"
   ]
  },
  {
   "cell_type": "markdown",
   "id": "19d04d41-8b33-4cbe-b573-d61280a6f427",
   "metadata": {},
   "source": [
    "The function `train_and_test_indices()` requires `xd.uns[\"obs_indices_per_label\"]`, which was computed in \n",
    "the previous step. With `test_train_ratio=0.25`, for every label \n",
    "(`\"TCGA-KIRC\"`, `\"TCGA-KIRP\"` or `\"TCGA-KICH\"`), 25% of the samples are assigned to \n",
    "the test set, and 75% to the training set. It creates the following unstructured \n",
    "annotations:\n",
    "- `xd.uns[\"train_indices\"]`: the array of indices of all samples that belong \n",
    "to the training set.\n",
    "- `xd.uns[\"test_indices\"]`: the array of indices of all samples that belong \n",
    "to the test set.\n",
    "- `xd.uns[\"train_indices_per_label\"]`: the dictionary of sample indices in the \n",
    "training set, per label. For instance, `xd.uns[\"train_indices_per_label\"][\"TCGA-KIRP\"]` is the array\n",
    "of indices of all the samples labelled as `\"TCGA-KIRP\"` that belong to the training set.\n",
    "- `xd.uns[\"test_indices_per_label\"]`: the dictionary of sample indices in the \n",
    "test set, per label.\n",
    "\n",
    "Finally, we save the logarithmized and filtered data to a new file, **xomx_kidney_classif_small.h5ad**, \n",
    "which will be used as a starting point in the phase 2 of the tutorial [(xomx_kidney_classif_2.ipynb)](https://github.com/perrin-isir/xomx-tutorials/blob/main/tutorials/xomx_kidney_classif_2.ipynb):"
   ]
  },
  {
   "cell_type": "code",
   "execution_count": null,
   "id": "feb0eaa8-60d9-4934-a466-12371c08199c",
   "metadata": {},
   "outputs": [],
   "source": [
    "xd.write(os.path.join(save_dir, \"xomx_kidney_classif_small.h5ad\"))  # ignore the warning"
   ]
  },
  {
   "cell_type": "code",
   "execution_count": null,
   "id": "6b07f6f8-80f3-45db-8394-c40ffb44c05e",
   "metadata": {},
   "outputs": [],
   "source": []
  }
 ],
 "metadata": {
  "kernelspec": {
   "display_name": "Python 3",
   "language": "python",
   "name": "python3"
  },
  "language_info": {
   "codemirror_mode": {
    "name": "ipython",
    "version": 3
   },
   "file_extension": ".py",
   "mimetype": "text/x-python",
   "name": "python",
   "nbconvert_exporter": "python",
   "pygments_lexer": "ipython3",
   "version": "3.7.7"
  }
 },
 "nbformat": 4,
 "nbformat_minor": 5
}
