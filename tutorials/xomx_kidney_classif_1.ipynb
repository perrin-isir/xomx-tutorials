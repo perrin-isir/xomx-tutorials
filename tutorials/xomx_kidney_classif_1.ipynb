{
 "cells": [
  {
   "cell_type": "markdown",
   "id": "00ca4539",
   "metadata": {
    "tags": []
   },
   "source": [
    "<a href=\"https://colab.research.google.com/github/perrin-isir/xomx-tutorials/blob/main/tutorials/xomx_kidney_classif_2.ipynb\"> <img align=\"left\" src=\"https://colab.research.google.com/assets/colab-badge.svg\" alt=\"Open in Colab\" title=\"Open in Google Colaboratory\"></a>\n",
    "<a id=\"raw-url\" href=\"https://raw.githubusercontent.com/perrin-isir/xomx-tutorials/main/tutorials/xomx_kidney_classif_2.ipynb\" download> <img align=\"left\" src=\"https://img.shields.io/badge/Github-Download%20(Right%20click%20%2B%20Save%20link%20as...)-blue\" alt=\"Download (Right click + Save link as)\" title=\"Download Notebook\"></a>"
   ]
  },
  {
   "cell_type": "markdown",
   "id": "8175622d-2de5-47b4-8a41-15d0739df11a",
   "metadata": {},
   "source": [
    "# *xomx tutorial:* **constructing diagnostic biomarker signatures**: phase 1 (optional)\n",
    "\n",
    "This is the first phase of a tutorial on kidney cancer classification.  \n",
    "The objective of the tutorial is to use a recursive feature elimination method on \n",
    "RNA-seq data from the Cancer Genome Atlas (TCGA) to identify gene biomarker signatures \n",
    "for the differential diagnosis of three types of kidney cancer: kidney renal clear cell\n",
    "carcinoma (**KIRC**), kidney renal papillary cell carcinoma (**KIRP**), and chromophobe\n",
    "renal cell carcinoma (**KICH**).\n",
    "\n",
    "This first phase imports the RNA-seq data from the Cancer Genome Atlas (TGCA) online database, and applies basic preprocessing.  \n",
    "As the data importation takes some time, in general **we recommand to skip this phase and go directly to the phase 2 of the tutorial:\n",
    "[(xomx_kidney_classif_2.ipynb)](https://github.com/perrin-isir/xomx-tutorials/blob/main/tutorials/xomx_kidney_classif_2.ipynb)**.\n",
    "\n",
    "However, some basic preprocessing tools shown in phase 1 are important, such as the functions `xomx.tl.all_labels()` (Step 4), `xomx.tl.indices_per_labels()` (Step 4), \n",
    "`xomx.tl.var_mean_values()` (Step 5)\n",
    "`xomx.tl.var_standard_deviations()` (Step 5),\n",
    "and `xomx.tl.train_and_test_indices()` (Step 5)."
   ]
  },
  {
   "cell_type": "code",
   "execution_count": null,
   "id": "386902e2",
   "metadata": {},
   "outputs": [],
   "source": [
    "# imports:\n",
    "import os\n",
    "from IPython.display import clear_output\n",
    "try:\n",
    "    import xomx\n",
    "except ImportError:\n",
    "    !pip install git+https://github.com/perrin-isir/xomx.git\n",
    "    clear_output()\n",
    "    import xomx\n",
    "try:\n",
    "    import pandas as pd\n",
    "except ImportError:\n",
    "    !pip install pandas\n",
    "    clear_output()\n",
    "    import pandas as pd\n",
    "try:\n",
    "    import scanpy as sc\n",
    "except ImportError:\n",
    "    !pip install scanpy\n",
    "    clear_output()\n",
    "    import scanpy as sc\n",
    "import numpy as np"
   ]
  },
  {
   "cell_type": "markdown",
   "id": "a24213d4-7514-42a4-a46e-f3bc2fb04cc1",
   "metadata": {},
   "source": [
    "We define `save_dir`, the folder in which everything will be saved."
   ]
  },
  {
   "cell_type": "code",
   "execution_count": null,
   "id": "00c326e5",
   "metadata": {},
   "outputs": [],
   "source": [
    "save_dir = os.path.expanduser(os.path.join('~', 'results', 'xomx-tutorials', 'kidney_classif'))  # the default directory in which results are stored\n",
    "os.makedirs(save_dir, exist_ok=True)"
   ]
  },
  {
   "cell_type": "code",
   "execution_count": null,
   "id": "6830d3e3-751c-4d93-b546-6eab66a5d35e",
   "metadata": {},
   "outputs": [],
   "source": [
    "# Setting the pseudo-random number generator\n",
    "rng = np.random.RandomState(0)"
   ]
  },
  {
   "cell_type": "markdown",
   "id": "759d405f-1597-489c-8e0b-af4c70b89186",
   "metadata": {},
   "source": [
    "## Step 1: preparing the manifest"
   ]
  },
  {
   "cell_type": "markdown",
   "id": "d02f199b-25f5-4a53-8882-2e5edf855ce1",
   "metadata": {},
   "source": [
    "We use the \n",
    "[GDC Data Transfer Tool](\n",
    "https://gdc.cancer.gov/access-data/gdc-data-transfer-tool\n",
    ")\n",
    "to import data from the Cancer Genome Atlas (TCGA). \n",
    "This involves creating a `manifest.txt` file that describes the files to be imported.\n",
    "\n",
    "The `gdc_create_manifest()` function\n",
    "facilitates the creation of this manifest. It is designed to import files of gene \n",
    "expression counts obtained with [HTSeq](https://github.com/simon-anders/htseq). \n",
    "You can have a look at its implementation in \n",
    "[xomx/data_importation/gdc.py](../data_importation/gdc.py) to adapt it to your own\n",
    "needs if you want to import other types of data.\n",
    "\n",
    "`gdc_create_manifest()` takes in input the disease type (in our case \"Adenomas and \n",
    "Adenocarcinomas\"), the list of project names (\"TCGA-KIRC\", \"TCGA-KIRP\", \"TCGA-KICH\"), \n",
    "and the numbers of samples desired for each of these projects (remark: for \"TCGA-KICH\", \n",
    "there are only 65 samples available). It returns a list of Pandas dataframes, one for \n",
    "each project.\n",
    "\n",
    "More information on GDC data can be found on the [GDC Data Portal](\n",
    "https://portal.gdc.cancer.gov/\n",
    ")."
   ]
  },
  {
   "cell_type": "code",
   "execution_count": null,
   "id": "2ea53e81-a2b9-413d-a3c5-e3bcf948d2d4",
   "metadata": {},
   "outputs": [],
   "source": [
    "disease_type = \"Adenomas and Adenocarcinomas\"\n",
    "# The 3 categories of cancers studied in this tutorial correspond to the following\n",
    "# TCGA projects, which are different types of adenocarcinomas\n",
    "project_list = [\"TCGA-KIRC\", \"TCGA-KIRP\", \"TCGA-KICH\"]\n",
    "# Fetch 200 cases of KIRC, 200 cases of KIRP, and 65 cases of KICH from the\n",
    "# GDC database\n",
    "case_numbers = [200, 200, 65]\n",
    "df_list = xomx.di.gdc_create_manifest(\n",
    "    disease_type,\n",
    "    project_list,\n",
    "    case_numbers,\n",
    ")"
   ]
  },
  {
   "cell_type": "markdown",
   "id": "8440933d-5afb-42a4-bdb4-5bbcf51a21ee",
   "metadata": {},
   "source": [
    "The Pandas library (imported as `pd`) is used to write the concatenation of the\n",
    "output dataframes to the file `manifest.txt`:"
   ]
  },
  {
   "cell_type": "code",
   "execution_count": null,
   "id": "9859611c-68fe-4db5-a037-318706cf6cc3",
   "metadata": {},
   "outputs": [],
   "source": [
    "df = pd.concat(df_list)\n",
    "df.to_csv(\n",
    "    os.path.join(save_dir, \"manifest.txt\"),\n",
    "    header=True,\n",
    "    index=False,\n",
    "    sep=\"\\t\",\n",
    "    mode=\"w\",\n",
    ")"
   ]
  },
  {
   "cell_type": "markdown",
   "id": "d6e6f169-ef68-4eb5-a5a9-4cd05b7f7c7a",
   "metadata": {},
   "source": [
    "## Step 2: importing the data"
   ]
  },
  {
   "cell_type": "code",
   "execution_count": null,
   "id": "8ddf4136-ca53-4a67-861b-dffa0e69a227",
   "metadata": {},
   "outputs": [],
   "source": [
    "if not os.path.exists(os.path.join(save_dir, 'gdc-client')):\n",
    "    !wget -O {os.path.join(save_dir, 'gdc-client_v1.6.1_Ubuntu_x64.zip')} \"https://gdc.cancer.gov/files/public/file/gdc-client_v1.6.1_Ubuntu_x64.zip\"\n",
    "    !unzip {os.path.join(save_dir, 'gdc-client_v1.6.1_Ubuntu_x64.zip')} -d {save_dir}\n",
    "    !rm {os.path.join(save_dir, 'gdc-client_v1.6.1_Ubuntu_x64.zip')}"
   ]
  },
  {
   "cell_type": "code",
   "execution_count": null,
   "id": "94b47735-7b66-46c2-bd90-5dc72924ed71",
   "metadata": {},
   "outputs": [],
   "source": []
  }
 ],
 "metadata": {
  "kernelspec": {
   "display_name": "Python 3",
   "language": "python",
   "name": "python3"
  },
  "language_info": {
   "codemirror_mode": {
    "name": "ipython",
    "version": 3
   },
   "file_extension": ".py",
   "mimetype": "text/x-python",
   "name": "python",
   "nbconvert_exporter": "python",
   "pygments_lexer": "ipython3",
   "version": "3.7.7"
  }
 },
 "nbformat": 4,
 "nbformat_minor": 5
}
