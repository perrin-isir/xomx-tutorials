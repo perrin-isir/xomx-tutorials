{
 "cells": [
  {
   "cell_type": "markdown",
   "metadata": {},
   "source": [
    "# *xomx tutorial:* **tissue prediction based on HLA-presented peptides**"
   ]
  },
  {
   "cell_type": "code",
   "execution_count": null,
   "metadata": {},
   "outputs": [],
   "source": [
    "# imports:\n",
    "import os\n",
    "import joblib\n",
    "from IPython.display import clear_output\n",
    "try:\n",
    "    import xomx\n",
    "except ImportError:\n",
    "    !pip install git+https://github.com/perrin-isir/xomx.git\n",
    "    clear_output()\n",
    "    import xomx\n",
    "try:\n",
    "    import scanpy as sc\n",
    "except ImportError:\n",
    "    !pip install scanpy\n",
    "    clear_output()\n",
    "    import scanpy as sc\n",
    "import numpy as np\n",
    "import pandas as pd"
   ]
  },
  {
   "cell_type": "code",
   "execution_count": null,
   "metadata": {},
   "outputs": [],
   "source": [
    "save_dir = os.path.join(os.path.expanduser(\"~\"), \"results\", \"xomx-tutorials\", \"xomx_hla\")  # the default directory in which results are stored\n",
    "os.makedirs(save_dir, exist_ok=True)"
   ]
  },
  {
   "cell_type": "markdown",
   "metadata": {},
   "source": [
    "The HLA Ligand Atlas is a resource of natural HLA ligands presented on benign tissues.  \n",
    "We first gather in a dict (`dfs`) 4 pandas dataframes from the HLA Ligand Atlas: \n",
    "- `dfs[\"peptides\"]`: the list of peptide sequences with their id,\n",
    "- `dfs[\"donors\"]`: the list of donors and their alleles,\n",
    "- `dfs[\"sample_hits\"]`: for all the peptide sequences, the donors and tissues in which they have been found, and their HLA class,\n",
    "- `dfs[\"aggregated\"]`: one row per peptide sequence, with the HLA class of the peptide, and the list of donor alleles and tissues associated with the peptide. "
   ]
  },
  {
   "cell_type": "code",
   "execution_count": null,
   "metadata": {},
   "outputs": [],
   "source": [
    "base_url = \"http://hla-ligand-atlas.org/rel/2020.12/\"\n",
    "filenames = [\"peptides\", \"donors\", \"sample_hits\", \"aggregated\"]\n",
    "dfs = {}\n",
    "for nm in filenames:\n",
    "    if not os.path.isfile(os.path.join(save_dir, nm + \".joblib\")):\n",
    "        dfs[nm] = pd.read_csv(base_url + nm + \".tsv.gz\", sep=\"\\t\")\n",
    "        joblib.dump(dfs[nm], os.path.join(save_dir, nm + \".joblib\"))\n",
    "    else:\n",
    "        dfs[nm] = joblib.load(os.path.join(save_dir, nm + \".joblib\"))"
   ]
  },
  {
   "cell_type": "markdown",
   "metadata": {},
   "source": [
    "We compute the set of all alleles present in the database:"
   ]
  },
  {
   "cell_type": "code",
   "execution_count": null,
   "metadata": {},
   "outputs": [],
   "source": [
    "alleles = sorted(list(set(np.concatenate([allele.split(\",\") for allele in dfs[\"aggregated\"].donor_alleles]))))"
   ]
  },
  {
   "cell_type": "markdown",
   "metadata": {},
   "source": [
    "In this list, the alleles start with one of the 3 prefixes \"n/\", \"w/\" and \"s/\", which characterize binding predictions of peptides:  \n",
    "- \"n/\": predicted non-binder donor allele\n",
    "- \"w/\": predicted weak binder donor allele\n",
    "- \"s/\": predicted strong binder donor allele\n",
    "\n",
    "For example, the peptide with id 22 has been found in donors with the following alleles:"
   ]
  },
  {
   "cell_type": "code",
   "execution_count": null,
   "metadata": {},
   "outputs": [],
   "source": [
    "list(dfs[\"aggregated\"][dfs[\"aggregated\"].peptide_sequence_id == 22].donor_alleles)"
   ]
  },
  {
   "cell_type": "markdown",
   "metadata": {},
   "source": [
    "The peptide is predicted to be a non-binder for all of these alleles, except for DRB5\\*01:01, for which it is predicted to be a strong binder.\n",
    "\n",
    "We now filter the data to keep only peptides that are predicted to be weak or strong binders for the allele A\\*02:01:"
   ]
  },
  {
   "cell_type": "code",
   "execution_count": null,
   "metadata": {},
   "outputs": [],
   "source": [
    "allele_filtered_df = dfs[\"aggregated\"][dfs[\"aggregated\"].donor_alleles.apply(lambda x: (\"w/A*02:01\" in x) or (\"s/A*02:01\" in x))]"
   ]
  },
  {
   "cell_type": "markdown",
   "metadata": {},
   "source": [
    "Here is the set of tissues in the database:"
   ]
  },
  {
   "cell_type": "code",
   "execution_count": null,
   "metadata": {},
   "outputs": [],
   "source": [
    "tissues = set(np.concatenate([tissue.split(\",\") for tissue in dfs[\"aggregated\"].tissues]))\n",
    "tissues"
   ]
  },
  {
   "cell_type": "markdown",
   "metadata": {},
   "source": [
    "We select two of them, for example \"Thymus\" and \"Liver\", and filter the data to keep only the peptides that have been found in either of these tissues:"
   ]
  },
  {
   "cell_type": "code",
   "execution_count": null,
   "metadata": {},
   "outputs": [],
   "source": [
    "tissue_1 = \"Thymus\"\n",
    "tissue_2 = \"Liver\"\n",
    "tissue_filtered_df = allele_filtered_df[allele_filtered_df.tissues.apply(lambda x: tissue_1 in x or tissue_2 in x)]\n",
    "print(f\"{len(tissue_filtered_df)} peptides\")"
   ]
  },
  {
   "cell_type": "code",
   "execution_count": null,
   "metadata": {},
   "outputs": [],
   "source": [
    "max_length_peptide = tissue_filtered_df.peptide_sequence.apply(len).max()\n",
    "xd = sc.AnnData(shape=(tissue_filtered_df.shape[0], max_length_peptide * len(xomx.tl.aminoacids)))\n",
    "xd.obs_names = np.array(tissue_filtered_df.peptide_sequence)\n",
    "xd.X = np.empty((xd.n_obs, xd.n_vars))\n",
    "for i in range(xd.n_obs):\n",
    "    xd.X[i, :] = xomx.tl.onehot(xd.obs_names[i], max_length_peptide)\n",
    "xd.obs['labels'] = np.array(tissue_filtered_df.tissues.apply(lambda x: (tissue_1 if tissue_1 in x else \"\") + (tissue_2 if tissue_2 in x else \"\")))\n",
    "xd.uns['all_labels'] = xomx.tl.all_labels(xd.obs['labels'])\n",
    "xd.uns['obs_indices_per_label'] = xomx.tl.indices_per_label(xd.obs['labels'])"
   ]
  },
  {
   "cell_type": "code",
   "execution_count": null,
   "metadata": {},
   "outputs": [],
   "source": [
    "rng = np.random.RandomState(0)\n",
    "xomx.pl.plot_2d_embedding(xd, umap.UMAP())"
   ]
  },
  {
   "cell_type": "code",
   "execution_count": null,
   "metadata": {},
   "outputs": [],
   "source": [
    "xomx.tl.train_and_test_indices(xd, \"obs_indices_per_label\", test_train_ratio=0.25, rng=rng)\n",
    "classifier = {}\n",
    "classifier[tissue_1] = xomx.fs.RFEExtraTrees(\n",
    "    xd,\n",
    "    tissue_1,\n",
    "    n_estimators=450,\n",
    "    random_state=rng,\n",
    ")"
   ]
  },
  {
   "cell_type": "code",
   "execution_count": null,
   "metadata": {},
   "outputs": [],
   "source": [
    "classifier[tissue_1].init()"
   ]
  },
  {
   "cell_type": "code",
   "execution_count": null,
   "metadata": {},
   "outputs": [],
   "source": [
    "classifier[tissue_1].plot()"
   ]
  },
  {
   "cell_type": "code",
   "execution_count": null,
   "metadata": {},
   "outputs": [],
   "source": [
    "xomx.tl.matthews_coef(classifier[tissue_1].confusion_matrix)"
   ]
  },
  {
   "cell_type": "markdown",
   "metadata": {},
   "source": [
    "Remark: the MCC score obtained is close to 0.5, which is definitely better than random predictions (MCC ~ 0), however for other choices of alleles and tissues, we frequently obtain an MCC score close to 0, showing that the classifier is not able to generalize at all.  \n",
    "The problem of tissue prediction based on HLA-presented peptides is hard, but there may be specific cases for which it is possible."
   ]
  },
  {
   "cell_type": "code",
   "execution_count": null,
   "metadata": {},
   "outputs": [],
   "source": []
  }
 ],
 "metadata": {
  "kernelspec": {
   "display_name": "Python 3",
   "language": "python",
   "name": "python3"
  },
  "language_info": {
   "codemirror_mode": {
    "name": "ipython",
    "version": 3
   },
   "file_extension": ".py",
   "mimetype": "text/x-python",
   "name": "python",
   "nbconvert_exporter": "python",
   "pygments_lexer": "ipython3",
   "version": "3.7.7"
  }
 },
 "nbformat": 4,
 "nbformat_minor": 4
}
