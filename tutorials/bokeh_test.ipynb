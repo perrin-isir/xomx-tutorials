{
 "cells": [
  {
   "cell_type": "markdown",
   "metadata": {},
   "source": [
    "Bokeh test"
   ]
  },
  {
   "cell_type": "code",
   "execution_count": null,
   "metadata": {},
   "outputs": [],
   "source": [
    "import numpy as np\n",
    "import scanpy as sc\n",
    "import os\n",
    "import requests\n",
    "try:\n",
    "  import xomx\n",
    "except ImportError:\n",
    "    !pip install git+https://github.com/perrin-isir/xomx\n",
    "import xomx\n",
    "import bokeh\n",
    "import bokeh.plotting\n",
    "import bokeh.io\n",
    "bokeh.io.output_notebook()\n",
    "\n",
    "rg = np.random.default_rng()\n",
    "x = np.linspace(-3, 3, 5000)\n",
    "y = rg.normal(x, 1)"
   ]
  },
  {
   "cell_type": "code",
   "execution_count": null,
   "metadata": {},
   "outputs": [],
   "source": [
    "p = bokeh.plotting.figure(\n",
    "    x_axis_label='x',\n",
    "    y_axis_label='y',\n",
    "    tools=\"hover, pan, wheel_zoom, box_zoom, reset\",\n",
    "    tooltips = [('annotation', '@annotation')]\n",
    ")"
   ]
  },
  {
   "cell_type": "code",
   "execution_count": null,
   "metadata": {},
   "outputs": [],
   "source": [
    "data=dict(\n",
    "    x=x,\n",
    "    y=y,\n",
    "    # colors=color,\n",
    "    annotation=np.arange(5000),\n",
    ")\n",
    "p.scatter('x', 'y', 4, 4, source=data)\n",
    "# p.circle(x,y)\n",
    "bokeh.io.show(p)"
   ]
  },
  {
   "cell_type": "code",
   "execution_count": null,
   "metadata": {},
   "outputs": [],
   "source": [
    "import holoviews as hv\n",
    "from holoviews import opts\n",
    "hv.extension('bokeh')\n",
    "np.random.seed(37)\n",
    "violin = hv.Violin((np.random.randn(2000)), vdims='Value')\n",
    "violin.opts(violin_width=0.2, inner=None)\n",
    "# quartiles = violin.opts(opts.Violin(inner='quartiles', cut=1.))\n",
    "quart = hv.render(violin)\n",
    "bokeh.io.show(quart)"
   ]
  },
  {
   "cell_type": "code",
   "execution_count": null,
   "metadata": {},
   "outputs": [],
   "source": [
    "from bokeh.models import HoverTool\n",
    "from bokeh.sampledata.periodic_table import elements\n",
    "from holoviews import dim, opts\n",
    "\n",
    "points = hv.Points(\n",
    "    elements, ['electronegativity', 'density'],\n",
    "    ['name', 'symbol', 'metal', 'CPK', 'atomic radius']\n",
    ").sort('metal')\n",
    "\n",
    "tooltips = [\n",
    "    ('Name', '@name'),\n",
    "    ('Symbol', '@symbol'),\n",
    "    ('CPK', '$color[hex, swatch]:CPK')\n",
    "]\n",
    "hover = HoverTool(tooltips=tooltips)\n",
    "\n",
    "points.opts(\n",
    "    tools=[hover], color='atomic radius', cmap='Category20',\n",
    "    line_color='black', size=dim('atomic radius')/10,\n",
    "    width=900, height=600, show_grid=False,\n",
    "    title='Chemical Elements by Type (scaled by atomic radius)')"
   ]
  },
  {
   "cell_type": "code",
   "execution_count": null,
   "metadata": {},
   "outputs": [],
   "source": [
    "elements"
   ]
  },
  {
   "cell_type": "code",
   "execution_count": null,
   "metadata": {},
   "outputs": [],
   "source": [
    "# To display interactive plots:\n",
    "%matplotlib widget\n",
    "save_dir = os.path.join(os.path.expanduser('~'), 'results', 'xomx', 'tutorials', 'xomx_pbmc')\n",
    "os.makedirs(save_dir, exist_ok=True)\n",
    "# Setting the pseudo-random number generator\n",
    "rng = np.random.RandomState(0)\n",
    "pbmc3k_file = 'pbmc3k.tar.gz'\n",
    "if not os.path.isfile(os.path.join(save_dir, pbmc3k_file)):\n",
    "    url = (\n",
    "        \"https://cf.10xgenomics.com/samples/cell/pbmc3k/\"\n",
    "        + \"pbmc3k_filtered_gene_bc_matrices.tar.gz\"\n",
    "    )\n",
    "    r = requests.get(url, allow_redirects=True)\n",
    "    open(os.path.join(save_dir, \"pbmc3k.tar.gz\"), \"wb\").write(r.content)\n",
    "    os.popen(\n",
    "        \"tar -xzf \" + os.path.join(save_dir, \"pbmc3k.tar.gz\") + \" -C \" + save_dir\n",
    "    ).read()\n",
    "xd = sc.read_10x_mtx(\n",
    "os.path.join(save_dir, \"filtered_gene_bc_matrices\", \"hg19\"),\n",
    "var_names=\"gene_symbols\",\n",
    ")\n",
    "xd.var_names_make_unique()\n",
    "sc.pp.filter_cells(xd, min_genes=200)\n",
    "sc.pp.filter_genes(xd, min_cells=3)\n",
    "xd.var[\"mt\"] = xd.var_names.str.startswith(\n",
    "    \"MT-\"\n",
    ")  # annotate the group of mitochondrial genes as 'mt'\n",
    "sc.pp.calculate_qc_metrics(\n",
    "    xd, qc_vars=[\"mt\"], percent_top=None, log1p=False, inplace=True\n",
    ")\n",
    "# The k-th element of the following array is the mean fraction of counts of the\n",
    "# k-th gene in each single cell, across all cells\n",
    "mean_count_fractions = np.squeeze(\n",
    "    np.asarray(\n",
    "        np.mean(\n",
    "            xd.X / np.array(xd.obs[\"total_counts\"]).reshape((xd.n_obs, 1)), axis=0\n",
    "        )\n",
    "    )\n",
    ")\n"
   ]
  },
  {
   "cell_type": "code",
   "execution_count": null,
   "metadata": {},
   "outputs": [],
   "source": [
    "# Plot, for all genes, the mean fraction\n",
    "# of counts in single cells, across all cells\n",
    "pts = xomx.pl.function_plot(\n",
    "    xd,\n",
    "    lambda idx: mean_count_fractions[idx],\n",
    "    obs_or_var=\"var\",\n",
    "    violinplot=False,\n",
    "    ylog_scale=True,\n",
    "    xlabel=\"genes\",\n",
    "    ylabel=\"mean fractions of ..\",\n",
    ")"
   ]
  },
  {
   "cell_type": "code",
   "execution_count": null,
   "metadata": {},
   "outputs": [],
   "source": [
    "xd.uns['var_indices'] = xomx.tl.var_indices(xd)\n",
    "xomx.pl.var_plot(xd, \"LINC00115\")"
   ]
  },
  {
   "cell_type": "code",
   "execution_count": null,
   "metadata": {},
   "outputs": [],
   "source": []
  }
 ],
 "metadata": {
  "kernelspec": {
   "display_name": "Python 3",
   "language": "python",
   "name": "python3"
  },
  "language_info": {
   "codemirror_mode": {
    "name": "ipython",
    "version": 3
   },
   "file_extension": ".py",
   "mimetype": "text/x-python",
   "name": "python",
   "nbconvert_exporter": "python",
   "pygments_lexer": "ipython3",
   "version": "3.7.7"
  }
 },
 "nbformat": 4,
 "nbformat_minor": 4
}
