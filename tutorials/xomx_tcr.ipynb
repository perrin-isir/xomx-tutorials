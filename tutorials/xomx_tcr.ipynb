{
 "cells": [
  {
   "cell_type": "code",
   "execution_count": null,
   "metadata": {},
   "outputs": [],
   "source": [
    "import ipywidgets\n",
    "import xomx\n",
    "import numpy as np\n",
    "import pandas as pd\n",
    "import scanpy as sc\n",
    "import logomaker\n",
    "import matplotlib.pyplot as plt\n",
    "from scipy.stats import entropy\n",
    "import os\n",
    "import joblib"
   ]
  },
  {
   "cell_type": "code",
   "execution_count": null,
   "metadata": {},
   "outputs": [],
   "source": [
    "# To display interactive plots:\n",
    "%matplotlib widget"
   ]
  },
  {
   "cell_type": "markdown",
   "metadata": {},
   "source": [
    "We define `save_dir`, the folder in which everything will be saved."
   ]
  },
  {
   "cell_type": "code",
   "execution_count": null,
   "metadata": {},
   "outputs": [],
   "source": [
    "save_dir = os.path.join(os.path.expanduser('~'), 'results', 'xomx', 'tutos', 'xomx_tcr')\n",
    "os.makedirs(save_dir, exist_ok=True)"
   ]
  },
  {
   "cell_type": "markdown",
   "metadata": {},
   "source": [
    "We import both the vdjdb and the MsPAS-TCR databases:"
   ]
  },
  {
   "cell_type": "code",
   "execution_count": null,
   "metadata": {},
   "outputs": [],
   "source": [
    "vdjdb_file = 'vdjdb-2021-09-05.zip'\n",
    "vdjdb_url = os.path.join('https://github.com/antigenomics/vdjdb-db/releases/download/2021-09-05/', vdjdb_file)\n",
    "mcpas_tcr_file = 'McPAS-TCR.csv'\n",
    "mcpas_tcr_url = 'http://friedmanlab.weizmann.ac.il/McPAS-TCR/session/1a02e7df9f10319305422b2d96c18f12/download/downloadDB'\n",
    "\n",
    "if not os.path.isfile(os.path.join(save_dir, vdjdb_file)):\n",
    "    !wget {vdjdb_url} --directory-prefix={save_dir}\n",
    "    !unzip {os.path.join(save_dir, vdjdb_file)} -d {save_dir}\n",
    "    \n",
    "if not os.path.isfile(os.path.join(save_dir, mcpas_tcr_file)):\n",
    "    !wget {mcpas_tcr_url} --output-document={os.path.join(save_dir, mcpas_tcr_file)}"
   ]
  },
  {
   "cell_type": "markdown",
   "metadata": {},
   "source": [
    "We convert the vdjdb and the MsPAS-TCR databases as pandas DataFrames, go through these dataframes, and construct two dictionnaries:  \n",
    "`dic_cdr3beta` and `dic_epitopes`. \n",
    "\n",
    "For every CDR3 beta sequence `s`, `dic_cdr3beta[s]` is the set of epitopes to which it is associated.  \n",
    "For every epitope sequence `s`, `dic_epitopes[s]` is the set of CDR3 beta sequences to which it is associated.\n",
    "\n",
    "**Remark: we only take into account CDR3 sequences of length at most 22.**"
   ]
  },
  {
   "cell_type": "code",
   "execution_count": null,
   "metadata": {},
   "outputs": [],
   "source": [
    "dic_epitopes_file = 'dic_epitopes.joblib'\n",
    "dic_cdr3beta_file = 'dic_cdr3beta.joblib'\n",
    "cdr3_max_length = 22\n",
    "\n",
    "if not os.path.isfile(os.path.join(save_dir, dic_epitopes_file)) or not not os.path.isfile(os.path.join(save_dir, dic_cdr3beta_file)):\n",
    "    vdjdb_df = pd.read_csv(os.path.join(save_dir, 'vdjdb_full.txt'), delimiter=\"\\t\", low_memory=False)\n",
    "    mcpas_tcr_df = pd.read_csv(\"/home/perrin/Desktop/data/McPAS-TCR.csv\", encoding='cp1252', delimiter=\",\", low_memory=False)\n",
    "\n",
    "    dic_cdr3beta = {}\n",
    "    dic_epitopes = {}\n",
    "\n",
    "    def dic_iteration(cdr3beta_seq, epitope_seq):\n",
    "        if cdr3beta_seq == cdr3beta_seq and epitope_seq == epitope_seq:  # filter NaNs\n",
    "            if not set(epitope_seq).difference(xomx.tl.aminoacids) and not set(cdr3beta_seq).difference(xomx.tl.aminoacids):  #filter undefined symbols\n",
    "                if len(cdr3beta_seq) <= cdr3_max_length:  # filter long sequences\n",
    "                    dic_cdr3beta.setdefault(cdr3beta_seq, set())\n",
    "                    dic_cdr3beta[cdr3beta_seq].add(epitope_seq)\n",
    "                    dic_epitopes.setdefault(epitope_seq, set())\n",
    "                    dic_epitopes[epitope_seq].add(cdr3beta_seq)\n",
    "\n",
    "    for i in range(len(vdjdb_df)):\n",
    "        cdr3beta = vdjdb_df[\"cdr3.beta\"].values[i]\n",
    "        epitope = vdjdb_df[\"antigen.epitope\"].values[i]\n",
    "        dic_iteration(cdr3beta, epitope)\n",
    "\n",
    "    for i in range(len(mcpas_tcr_df)):\n",
    "        cdr3beta = mcpas_tcr_df[\"CDR3.beta.aa\"].values[i]\n",
    "        epitope = mcpas_tcr_df[\"Epitope.peptide\"].values[i]\n",
    "        dic_iteration(cdr3beta, epitope)\n",
    "    \n",
    "    joblib.dump(dic_epitopes, os.path.join(save_dir, dic_epitopes_file))\n",
    "    joblib.dump(dic_cdr3beta, os.path.join(save_dir, dic_cdr3beta_file))\n",
    "else:\n",
    "    dic_epitopes = joblib.load(os.path.join(save_dir, dic_epitopes_file))\n",
    "    dic_cdr3beta = joblib.load(os.path.join(save_dir, dic_cdr3beta_file))"
   ]
  },
  {
   "cell_type": "code",
   "execution_count": null,
   "metadata": {},
   "outputs": [],
   "source": [
    "print(f'{len(dic_cdr3beta)} CDR3 beta sequences in total')\n",
    "cdr3_single_epitope = set()\n",
    "for key, value in dic_cdr3beta.items():\n",
    "    if len(value) == 1:\n",
    "        cdr3_single_epitope.add(key)\n",
    "print(f'{len(cdr3_single_epitope)} CDR3 beta sequences that recognize a unique epitope')"
   ]
  },
  {
   "cell_type": "markdown",
   "metadata": {},
   "source": [
    "Optionally, we recompute `dic_epitopes` to keep only CDR3 beta sequences that are recognize a unique epitope:"
   ]
  },
  {
   "cell_type": "code",
   "execution_count": null,
   "metadata": {},
   "outputs": [],
   "source": [
    "dic_epitopes= {}\n",
    "for key in dic_cdr3beta:\n",
    "    if len(dic_cdr3beta[key]) == 1:\n",
    "        epitope = list(dic_cdr3beta[key])[0]\n",
    "        dic_epitopes.setdefault(epitope, set())\n",
    "        dic_epitopes[epitope].add(key)\n",
    "        assert(key in cdr3_single_epitope)"
   ]
  },
  {
   "cell_type": "markdown",
   "metadata": {},
   "source": [
    "We sort the epitopes by decreasing number of associated CDR3 beta sequences:"
   ]
  },
  {
   "cell_type": "code",
   "execution_count": null,
   "metadata": {},
   "outputs": [],
   "source": [
    "sorted_epitopes = sorted(dic_epitopes, key=lambda k: len(dic_epitopes[k]), reverse=True)"
   ]
  },
  {
   "cell_type": "markdown",
   "metadata": {},
   "source": [
    "We will use one-hot encodings to represent the CDR3 sequences. Their dimension is `cdr3_max_length` x `len(xomx.tl.aminoacids)`:"
   ]
  },
  {
   "cell_type": "code",
   "execution_count": null,
   "metadata": {},
   "outputs": [],
   "source": [
    "dimension = cdr3_max_length * len(xomx.tl.aminoacids)\n",
    "dimension"
   ]
  },
  {
   "cell_type": "markdown",
   "metadata": {},
   "source": [
    "We construct annotated data with the one-hot encodings of the CDR3 sequences corresponding to the `K=30` most recognized epitopes."
   ]
  },
  {
   "cell_type": "code",
   "execution_count": null,
   "metadata": {},
   "outputs": [],
   "source": [
    "K = 30\n",
    "nr_samples = sum([len(dic_epitopes[sorted_epitopes[j]]) for j in range(K)])\n",
    "nr_samples"
   ]
  },
  {
   "cell_type": "code",
   "execution_count": null,
   "metadata": {},
   "outputs": [],
   "source": [
    "xd = sc.AnnData(shape=(nr_samples, dimension))\n",
    "xd.obs_names = np.hstack([sorted(list(dic_epitopes[sorted_epitopes[j]])) for j in range(K)])\n",
    "xd.obs['labels'] = np.hstack([[sorted_epitopes[j]] * len(dic_epitopes[sorted_epitopes[j]]) for j in range(K)])\n",
    "xd.uns['all_labels'] = xomx.tl.all_labels(xd.obs['labels'])\n",
    "xd.uns['obs_indices_per_label'] = xomx.tl.indices_per_label(xd.obs['labels'])\n",
    "xd.X = np.zeros((xd.n_obs, xd.n_vars))\n",
    "for i in range(xd.n_obs):\n",
    "    xd.X[i, :] = xomx.tl.onehot(xd.obs_names[i], cdr3_max_length)"
   ]
  },
  {
   "cell_type": "markdown",
   "metadata": {},
   "source": [
    "We separate the training and test sets:"
   ]
  },
  {
   "cell_type": "code",
   "execution_count": null,
   "metadata": {},
   "outputs": [],
   "source": [
    "rng = np.random.RandomState(0)\n",
    "xomx.tl.train_and_test_indices(xd, \"obs_indices_per_label\", test_train_ratio=0.25, rng=rng)"
   ]
  },
  {
   "cell_type": "markdown",
   "metadata": {},
   "source": [
    "A UMAP plot based on 1000 randomly chosen samples:"
   ]
  },
  {
   "cell_type": "code",
   "execution_count": null,
   "metadata": {},
   "outputs": [],
   "source": [
    "xomx.pl.umap_plot(xd, subset_indices=rng.choice(xd.n_obs, 1000, replace=False))"
   ]
  },
  {
   "cell_type": "code",
   "execution_count": null,
   "metadata": {},
   "outputs": [],
   "source": [
    "classifier = {}"
   ]
  },
  {
   "cell_type": "code",
   "execution_count": null,
   "metadata": {},
   "outputs": [],
   "source": [
    "xd.uns['all_labels']"
   ]
  },
  {
   "cell_type": "markdown",
   "metadata": {},
   "source": [
    "We construct binary classifiers (using the Extra-Trees algorithm) to learn to discriminate between CDR3 sequences associated to a given epitope, and CDR3 sequences associated to other epitopes.  \n",
    "Here we define a classifier for the epitope GILGFVFTL:"
   ]
  },
  {
   "cell_type": "code",
   "execution_count": null,
   "metadata": {},
   "outputs": [],
   "source": [
    "index = 2\n",
    "classifier[xd.uns['all_labels'][index]] = xomx.fs.RFEExtraTrees(\n",
    "    xd,\n",
    "    xd.uns['all_labels'][index],\n",
    "    n_estimators=450,\n",
    "    random_state=rng,\n",
    ")\n",
    "xd.uns['all_labels'][index]"
   ]
  },
  {
   "cell_type": "markdown",
   "metadata": {},
   "source": [
    "We train the classifier on the training set:"
   ]
  },
  {
   "cell_type": "code",
   "execution_count": null,
   "metadata": {},
   "outputs": [],
   "source": [
    "classifier[xd.uns['all_labels'][index]].init()"
   ]
  },
  {
   "cell_type": "markdown",
   "metadata": {},
   "source": [
    "We plot the result of the classifier on 6000 random samples from the test set (points above the red line are classified as GILGFVFTL-related):"
   ]
  },
  {
   "cell_type": "code",
   "execution_count": null,
   "metadata": {},
   "outputs": [],
   "source": [
    "classifier[xd.uns['all_labels'][index]].plot(random_subset_size=6000,rng=rng)"
   ]
  },
  {
   "cell_type": "markdown",
   "metadata": {},
   "source": [
    "We compute the Matthews Correlation Coefficient on the test set:"
   ]
  },
  {
   "cell_type": "code",
   "execution_count": null,
   "metadata": {},
   "outputs": [],
   "source": [
    "xomx.tl.matthews_coef(classifier[xd.uns['all_labels'][index]].confusion_matrix)"
   ]
  },
  {
   "cell_type": "markdown",
   "metadata": {},
   "source": [
    "Here are all the predictions on the test set (`True` means that classifier considers the sequence to be GILGFVFTL-related):"
   ]
  },
  {
   "cell_type": "code",
   "execution_count": null,
   "metadata": {},
   "outputs": [],
   "source": [
    "predictions_on_test_set = (classifier[xd.uns['all_labels'][index]].predict(xd.X[xd.uns['test_indices']]) == 1)\n",
    "predictions_on_test_set"
   ]
  },
  {
   "cell_type": "markdown",
   "metadata": {},
   "source": [
    "We gather the indices of the CDR3 sequences in the test set that are classified as GILGFVFTL-related:"
   ]
  },
  {
   "cell_type": "code",
   "execution_count": null,
   "metadata": {},
   "outputs": [],
   "source": [
    "ok_samples_test = [xd.uns['test_indices'][j] for j, val in enumerate(predictions_on_test_set) if val]"
   ]
  },
  {
   "cell_type": "markdown",
   "metadata": {},
   "source": [
    "We plot the logo computed from all these CDR3 sequences:"
   ]
  },
  {
   "cell_type": "code",
   "execution_count": null,
   "metadata": {},
   "outputs": [],
   "source": [
    "xomx.pl.plot_logo(xd, ok_samples_test)"
   ]
  },
  {
   "cell_type": "markdown",
   "metadata": {},
   "source": [
    "We can also filter to plot the logo for sequences of a fixed length.  \n",
    "Here, sequences of length 12 (in the test set and classified as GILGFVFTL-related):"
   ]
  },
  {
   "cell_type": "code",
   "execution_count": null,
   "metadata": {},
   "outputs": [],
   "source": [
    "xomx.pl.plot_logo(xd, ok_samples_test, fixed_length=12)"
   ]
  },
  {
   "cell_type": "markdown",
   "metadata": {},
   "source": [
    "And sequences of length 13:"
   ]
  },
  {
   "cell_type": "code",
   "execution_count": null,
   "metadata": {},
   "outputs": [],
   "source": [
    "xomx.pl.plot_logo(xd, ok_samples_test, fixed_length=13)"
   ]
  },
  {
   "cell_type": "markdown",
   "metadata": {},
   "source": [
    "We can compare these logos to the logos computed from the CDR3 sequences in the training set that are labelled as GILGFVFTL:"
   ]
  },
  {
   "cell_type": "code",
   "execution_count": null,
   "metadata": {},
   "outputs": [],
   "source": [
    "train_samples_ref_label = xd.uns['train_indices_per_label'][xd.uns['all_labels'][index]]"
   ]
  },
  {
   "cell_type": "code",
   "execution_count": null,
   "metadata": {},
   "outputs": [],
   "source": [
    "xomx.pl.plot_logo(xd, all_samples_ref_label, fixed_length=12)"
   ]
  },
  {
   "cell_type": "code",
   "execution_count": null,
   "metadata": {},
   "outputs": [],
   "source": [
    "xomx.pl.plot_logo(xd, train_samples_ref_label, fixed_length=13)"
   ]
  }
 ],
 "metadata": {
  "kernelspec": {
   "display_name": "Python 3",
   "language": "python",
   "name": "python3"
  },
  "language_info": {
   "codemirror_mode": {
    "name": "ipython",
    "version": 3
   },
   "file_extension": ".py",
   "mimetype": "text/x-python",
   "name": "python",
   "nbconvert_exporter": "python",
   "pygments_lexer": "ipython3",
   "version": "3.7.7"
  }
 },
 "nbformat": 4,
 "nbformat_minor": 4
}
