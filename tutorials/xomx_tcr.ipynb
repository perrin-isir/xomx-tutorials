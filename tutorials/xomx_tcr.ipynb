{
 "cells": [
  {
   "cell_type": "markdown",
   "metadata": {},
   "source": [
    "<a href=\"https://colab.research.google.com/github/perrin-isir/xomx-tutorials/blob/main/tutorials/xomx_tcr.ipynb\"> <img align=\"left\" src=\"https://colab.research.google.com/assets/colab-badge.svg\" alt=\"Open in Colab\" title=\"Open in Google Colaboratory\"></a>\n",
    "<a id=\"raw-url\" href=\"https://raw.githubusercontent.com/perrin-isir/xomx-tutorials/main/tutorials/xomx_tcr.ipynb\" download> <img align=\"left\" src=\"https://img.shields.io/badge/Github-Download%20(Right%20click%20%2B%20Save%20link%20as...)-blue\" alt=\"Download (Right click + Save link as)\" title=\"Download Notebook\"></a>"
   ]
  },
  {
   "cell_type": "markdown",
   "metadata": {},
   "source": [
    "# *xomx tutorial:* **predicting the epitope from a TCR $\\beta$-chain CDR3 sequence**\n",
    "\n",
    "In this tutorial, we train an extra-trees classifier to predict whether a TCR $\\beta$-chain CDR3 sequence is associated with a given epitope. The classifier takes in input a one-hot encoding of the CDR3 sequence. \n",
    "\n",
    "We use data taken from the [VDJdb](https://vdjdb.cdr3.net/) and [MsPAS-TCR](http://friedmanlab.weizmann.ac.il/McPAS-TCR/) databases."
   ]
  },
  {
   "cell_type": "code",
   "execution_count": null,
   "metadata": {},
   "outputs": [],
   "source": [
    "# imports:\n",
    "import os\n",
    "import joblib\n",
    "from IPython.display import clear_output\n",
    "import matplotlib.pyplot as plt\n",
    "try:\n",
    "    import xomx\n",
    "except ImportError:\n",
    "    !pip install git+https://github.com/perrin-isir/xomx.git\n",
    "    clear_output()\n",
    "    import xomx\n",
    "try:\n",
    "    import scanpy as sc\n",
    "except ImportError:\n",
    "    !pip install scanpy\n",
    "    clear_output()\n",
    "    import scanpy as sc\n",
    "try:\n",
    "    import logomaker\n",
    "except ImportError:\n",
    "    !pip install logomaker\n",
    "    clear_output()\n",
    "    import logomaker\n",
    "import umap\n",
    "import pandas as pd\n",
    "import numpy as np"
   ]
  },
  {
   "cell_type": "markdown",
   "metadata": {},
   "source": [
    "We first define `save_dir`, the folder in which everything will be saved."
   ]
  },
  {
   "cell_type": "code",
   "execution_count": null,
   "metadata": {},
   "outputs": [],
   "source": [
    "save_dir = os.path.join(os.path.expanduser('~'), 'results', 'xomx-tutorials', 'tcr')\n",
    "os.makedirs(save_dir, exist_ok=True)"
   ]
  },
  {
   "cell_type": "markdown",
   "metadata": {},
   "source": [
    "We import both the VDJdb and the MsPAS-TCR databases.\n",
    "\n",
    "For the McPAS-TCR database, a link must be provided. Please got to [http://friedmanlab.weizmann.ac.il/McPAS-TCR/](http://friedmanlab.weizmann.ac.il/McPAS-TCR/), \n",
    "right-click \"Copy link adress\" on the \"Download the complete database...\" button, and paste the url in the following definition:"
   ]
  },
  {
   "cell_type": "code",
   "execution_count": null,
   "metadata": {},
   "outputs": [],
   "source": [
    "mcpas_tcr_url = \"\""
   ]
  },
  {
   "cell_type": "code",
   "execution_count": null,
   "metadata": {},
   "outputs": [],
   "source": [
    "vdjdb_file = 'vdjdb-2021-09-05.zip'\n",
    "vdjdb_url = os.path.join('https://github.com/antigenomics/vdjdb-db/releases/download/2021-09-05/', vdjdb_file)\n",
    "mcpas_tcr_file = 'McPAS-TCR.csv'\n",
    "\n",
    "if not os.path.isfile(os.path.join(save_dir, vdjdb_file)):\n",
    "    !wget {vdjdb_url} --directory-prefix={save_dir}\n",
    "    !unzip {os.path.join(save_dir, vdjdb_file)} -d {save_dir}\n",
    "    \n",
    "if not os.path.isfile(os.path.join(save_dir, mcpas_tcr_file)):\n",
    "    !wget {mcpas_tcr_url} --output-document={os.path.join(save_dir, mcpas_tcr_file)}"
   ]
  },
  {
   "cell_type": "markdown",
   "metadata": {},
   "source": [
    "We convert the VDJdb and the MsPAS-TCR databases to pandas DataFrames, go through these dataframes, and construct two dictionnaries:  \n",
    "`dic_cdr3beta` and `dic_epitopes`. \n",
    "\n",
    "For every $\\beta$-chain CDR3 sequence `s`, `dic_cdr3beta[s]` is the set of epitopes to which it is associated.  \n",
    "For every epitope sequence `s`, `dic_epitopes[s]` is the set of $\\beta$-chain CDR3 sequences to which it is associated.\n",
    "\n",
    "**Remark: we only take into account CDR3 sequences of length at most 22 (arbitrary choice).**"
   ]
  },
  {
   "cell_type": "code",
   "execution_count": null,
   "metadata": {},
   "outputs": [],
   "source": [
    "dic_epitopes_file = 'dic_epitopes.joblib'\n",
    "dic_cdr3beta_file = 'dic_cdr3beta.joblib'\n",
    "cdr3_max_length = 22\n",
    "\n",
    "if not os.path.isfile(os.path.join(save_dir, dic_epitopes_file)) or not not os.path.isfile(os.path.join(save_dir, dic_cdr3beta_file)):\n",
    "    vdjdb_df = pd.read_csv(os.path.join(save_dir, 'vdjdb_full.txt'), delimiter=\"\\t\", low_memory=False)\n",
    "    mcpas_tcr_df = pd.read_csv(\"/home/perrin/Desktop/data/McPAS-TCR.csv\", encoding='cp1252', delimiter=\",\", low_memory=False)\n",
    "\n",
    "    dic_cdr3beta = {}\n",
    "    dic_epitopes = {}\n",
    "\n",
    "    def dic_iteration(cdr3beta_seq, epitope_seq):\n",
    "        if cdr3beta_seq == cdr3beta_seq and epitope_seq == epitope_seq:  # filter NaNs\n",
    "            if not set(epitope_seq).difference(xomx.tl.aminoacids) and not set(cdr3beta_seq).difference(xomx.tl.aminoacids):  #filter undefined symbols\n",
    "                if len(cdr3beta_seq) <= cdr3_max_length:  # filter long sequences\n",
    "                    dic_cdr3beta.setdefault(cdr3beta_seq, set())\n",
    "                    dic_cdr3beta[cdr3beta_seq].add(epitope_seq)\n",
    "                    dic_epitopes.setdefault(epitope_seq, set())\n",
    "                    dic_epitopes[epitope_seq].add(cdr3beta_seq)\n",
    "\n",
    "    for i in range(len(vdjdb_df)):\n",
    "        cdr3beta = vdjdb_df[\"cdr3.beta\"].values[i]\n",
    "        epitope = vdjdb_df[\"antigen.epitope\"].values[i]\n",
    "        dic_iteration(cdr3beta, epitope)\n",
    "\n",
    "    for i in range(len(mcpas_tcr_df)):\n",
    "        cdr3beta = mcpas_tcr_df[\"CDR3.beta.aa\"].values[i]\n",
    "        epitope = mcpas_tcr_df[\"Epitope.peptide\"].values[i]\n",
    "        dic_iteration(cdr3beta, epitope)\n",
    "    \n",
    "    joblib.dump(dic_epitopes, os.path.join(save_dir, dic_epitopes_file))\n",
    "    joblib.dump(dic_cdr3beta, os.path.join(save_dir, dic_cdr3beta_file))\n",
    "else:\n",
    "    dic_epitopes = joblib.load(os.path.join(save_dir, dic_epitopes_file))\n",
    "    dic_cdr3beta = joblib.load(os.path.join(save_dir, dic_cdr3beta_file))"
   ]
  },
  {
   "cell_type": "code",
   "execution_count": null,
   "metadata": {},
   "outputs": [],
   "source": [
    "print(f'{len(dic_cdr3beta)} beta-chain CDR3 sequences in total')\n",
    "cdr3_single_epitope = set()\n",
    "for key, value in dic_cdr3beta.items():\n",
    "    if len(value) == 1:\n",
    "        cdr3_single_epitope.add(key)\n",
    "print(f'{len(cdr3_single_epitope)} beta-chain CDR3 sequences that recognize a unique epitope')"
   ]
  },
  {
   "cell_type": "markdown",
   "metadata": {},
   "source": [
    "Optionally, we recompute `dic_epitopes` to keep only CDR3 beta sequences that are associated to a unique epitope:"
   ]
  },
  {
   "cell_type": "code",
   "execution_count": null,
   "metadata": {},
   "outputs": [],
   "source": [
    "dic_epitopes= {}\n",
    "for key in dic_cdr3beta:\n",
    "    if len(dic_cdr3beta[key]) == 1:\n",
    "        epitope = list(dic_cdr3beta[key])[0]\n",
    "        dic_epitopes.setdefault(epitope, set())\n",
    "        dic_epitopes[epitope].add(key)\n",
    "        assert(key in cdr3_single_epitope)"
   ]
  },
  {
   "cell_type": "markdown",
   "metadata": {},
   "source": [
    "We sort the epitopes by decreasing number of associated beta-chain CDR3 sequences:"
   ]
  },
  {
   "cell_type": "code",
   "execution_count": null,
   "metadata": {},
   "outputs": [],
   "source": [
    "sorted_epitopes = sorted(dic_epitopes, key=lambda k: len(dic_epitopes[k]), reverse=True)"
   ]
  },
  {
   "cell_type": "markdown",
   "metadata": {},
   "source": [
    "We use one-hot encodings to represent the CDR3 sequences. Their dimension is `cdr3_max_length` x `len(xomx.tl.aminoacids)`, where `xomx.tl.aminoacids` is the list of the 20 standard amino acid characters:"
   ]
  },
  {
   "cell_type": "code",
   "execution_count": null,
   "metadata": {},
   "outputs": [],
   "source": [
    "dimension = cdr3_max_length * len(xomx.tl.aminoacids)\n",
    "dimension"
   ]
  },
  {
   "cell_type": "markdown",
   "metadata": {},
   "source": [
    "We construct annotated data with the one-hot encodings of the beta-chain CDR3 sequences corresponding to the `K=30` most frequent epitopes."
   ]
  },
  {
   "cell_type": "code",
   "execution_count": null,
   "metadata": {},
   "outputs": [],
   "source": [
    "K = 30\n",
    "nr_samples = sum([len(dic_epitopes[sorted_epitopes[j]]) for j in range(K)])\n",
    "nr_samples"
   ]
  },
  {
   "cell_type": "code",
   "execution_count": null,
   "metadata": {},
   "outputs": [],
   "source": [
    "xd = sc.AnnData(shape=(nr_samples, dimension))\n",
    "xd.obs_names = np.hstack([sorted(list(dic_epitopes[sorted_epitopes[j]])) for j in range(K)])\n",
    "xd.obs['labels'] = np.hstack([[sorted_epitopes[j]] * len(dic_epitopes[sorted_epitopes[j]]) for j in range(K)])\n",
    "xd.uns['all_labels'] = xomx.tl.all_labels(xd.obs['labels'])\n",
    "xd.uns['obs_indices_per_label'] = xomx.tl.indices_per_label(xd.obs['labels'])\n",
    "xd.X = np.zeros((xd.n_obs, xd.n_vars))\n",
    "for i in range(xd.n_obs):\n",
    "    xd.X[i, :] = xomx.tl.onehot(xd.obs_names[i], cdr3_max_length)"
   ]
  },
  {
   "cell_type": "markdown",
   "metadata": {},
   "source": [
    "We randomly separate the sequences into a training (75%) and a test set (25%):"
   ]
  },
  {
   "cell_type": "code",
   "execution_count": null,
   "metadata": {},
   "outputs": [],
   "source": [
    "rng = np.random.RandomState(0)\n",
    "xomx.tl.train_and_test_indices(xd, \"obs_indices_per_label\", test_train_ratio=0.25, rng=rng)"
   ]
  },
  {
   "cell_type": "markdown",
   "metadata": {},
   "source": [
    "A UMAP plot based on 4000 randomly chosen sequences:"
   ]
  },
  {
   "cell_type": "code",
   "execution_count": null,
   "metadata": {},
   "outputs": [],
   "source": [
    "xomx.pl.plot_2d_embedding(xd, umap.UMAP(), subset_indices=rng.choice(xd.n_obs, 4000, replace=False), height=750)"
   ]
  },
  {
   "cell_type": "code",
   "execution_count": null,
   "metadata": {},
   "outputs": [],
   "source": [
    "classifier = {}"
   ]
  },
  {
   "cell_type": "code",
   "execution_count": null,
   "metadata": {},
   "outputs": [],
   "source": [
    "xd.uns['all_labels'][:10]"
   ]
  },
  {
   "cell_type": "markdown",
   "metadata": {},
   "source": [
    "We define a binary classifier for the epitope GILGFVFTL:"
   ]
  },
  {
   "cell_type": "code",
   "execution_count": null,
   "metadata": {},
   "outputs": [],
   "source": [
    "index = 2  # index of GILGFVFTL\n",
    "classifier[xd.uns['all_labels'][index]] = xomx.fs.RFEExtraTrees(\n",
    "    xd,\n",
    "    xd.uns['all_labels'][index],\n",
    "    n_estimators=450,\n",
    "    random_state=rng,\n",
    ")"
   ]
  },
  {
   "cell_type": "markdown",
   "metadata": {},
   "source": [
    "The class `xomx.fs.RFEExtraTrees()` is normally used to perform recursive feature elimination, but if we only run its init() method, it simply trains a classifier \n",
    "(using the Extra-Trees algorithm) to learn to discriminate between a reference label (here, \"GILGFVFTL\") and the rest.\n",
    "\n",
    "So here the classifier is trained to discriminate between beta-chain CDR3 sequences associated to GILGFVFTL, and other beta-chain CDR3 sequences:"
   ]
  },
  {
   "cell_type": "code",
   "execution_count": null,
   "metadata": {},
   "outputs": [],
   "source": [
    "classifier[xd.uns['all_labels'][index]].init()"
   ]
  },
  {
   "cell_type": "markdown",
   "metadata": {},
   "source": [
    "We plot the result of the classifier on 6000 random samples from the test set (points above the red line are classified as being associated with GILGFVFTL):"
   ]
  },
  {
   "cell_type": "code",
   "execution_count": null,
   "metadata": {},
   "outputs": [],
   "source": [
    "classifier[xd.uns['all_labels'][index]].plot(random_subset_size=6000, rng=rng, height=750)"
   ]
  },
  {
   "cell_type": "markdown",
   "metadata": {},
   "source": [
    "We compute the Matthews Correlation Coefficient on the test set:"
   ]
  },
  {
   "cell_type": "code",
   "execution_count": null,
   "metadata": {},
   "outputs": [],
   "source": [
    "xomx.tl.matthews_coef(classifier[xd.uns['all_labels'][index]].confusion_matrix)"
   ]
  },
  {
   "cell_type": "markdown",
   "metadata": {},
   "source": [
    "We gather the predictions on the test set (`True` means that classifier considers the sequence to be GILGFVFTL-related) in an array:"
   ]
  },
  {
   "cell_type": "code",
   "execution_count": null,
   "metadata": {},
   "outputs": [],
   "source": [
    "predictions_on_test_set = (classifier[xd.uns['all_labels'][index]].predict(xd.X[xd.uns['test_indices']]) == 1)\n",
    "predictions_on_test_set"
   ]
  },
  {
   "cell_type": "markdown",
   "metadata": {},
   "source": [
    "We define `ok_samples_test_set`, the indices of the beta-chain CDR3 sequences in the test set that are classified as being associated with GILGFVFTL by the classifier:"
   ]
  },
  {
   "cell_type": "code",
   "execution_count": null,
   "metadata": {},
   "outputs": [],
   "source": [
    "ok_samples_test_set = [xd.uns['test_indices'][j] for j, val in enumerate(predictions_on_test_set) if val]"
   ]
  },
  {
   "cell_type": "markdown",
   "metadata": {},
   "source": [
    "We also define `all_GILGFVFTL_samples`, the indices of all the sequences labelled \"GILGFVFTL\":"
   ]
  },
  {
   "cell_type": "code",
   "execution_count": null,
   "metadata": {},
   "outputs": [],
   "source": [
    "all_GILGFVFTL_samples = xd.uns['obs_indices_per_label'][\"GILGFVFTL\"]"
   ]
  },
  {
   "cell_type": "markdown",
   "metadata": {},
   "source": [
    "We can now plot the logo computed from all these beta-chain CDR3 sequences, using logomaker. The function `xomx.tl.compute_logomaker_df()` computes the pandas DataFrame required by logomaker (a table of probabilities for all characters and positions)."
   ]
  },
  {
   "cell_type": "code",
   "execution_count": null,
   "metadata": {},
   "outputs": [],
   "source": [
    "df_logo = xomx.tl.compute_logomaker_df(xd, all_GILGFVFTL_samples)\n",
    "_, ax = plt.subplots(figsize=[12, 3])\n",
    "logo = logomaker.Logo(df_logo, ax=ax)\n",
    "plt.show()"
   ]
  },
  {
   "cell_type": "markdown",
   "metadata": {},
   "source": [
    "Logos obtained from sequences of variable lengths are not ideal for interpretation, so in `xomx.tl.compute_logomaker_df()` we can use the option `fixed_length` to \n",
    "compute distinct logos for various lengths.\n",
    "\n",
    "Below, we compute logos for sequences of length 12, 13, 14 and 15. We compare the logos computed from `ok_samples_test_set` (column on the left), and `all_GILGFVFTL_samples` (column on the right):"
   ]
  },
  {
   "cell_type": "code",
   "execution_count": null,
   "metadata": {},
   "outputs": [],
   "source": [
    "df_logo_fixed_length = {}\n",
    "lengths = np.arange(12, 16)\n",
    "fig, ax = plt.subplots(len(lengths), 2, figsize=[18, 3 * len(lengths)], sharex=True)\n",
    "ax[0, 0].set_title(\"Sequences (in the test set) classified as being associated with GILGFVFTL by the classifier\")\n",
    "ax[0, 1].set_title('All sequences labelled \"GILGFVFTL\"')\n",
    "for i in lengths:   \n",
    "    logomaker.Logo(xomx.tl.compute_logomaker_df(xd, ok_samples_test_set, fixed_length=i), \n",
    "                          ax=ax[i - lengths[0], 0])\n",
    "    logomaker.Logo(xomx.tl.compute_logomaker_df(xd, all_GILGFVFTL_samples, fixed_length=i), \n",
    "                          ax=ax[i - lengths[0], 1])\n",
    "fig.tight_layout()\n",
    "plt.show()"
   ]
  },
  {
   "cell_type": "markdown",
   "metadata": {},
   "source": [
    "Remark: you can train classifiers on other epitopes than GILGFVFTL, but not all the epitopes lead to classifiers that perform relatively well on the test set. For some epitopes, after the training, results on the test set are not better than random predictions. The complexity of the patterns associated with an epitope may vary greatly depending on the epitope."
   ]
  },
  {
   "cell_type": "code",
   "execution_count": null,
   "metadata": {},
   "outputs": [],
   "source": []
  }
 ],
 "metadata": {
  "kernelspec": {
   "display_name": "Python 3",
   "language": "python",
   "name": "python3"
  },
  "language_info": {
   "codemirror_mode": {
    "name": "ipython",
    "version": 3
   },
   "file_extension": ".py",
   "mimetype": "text/x-python",
   "name": "python",
   "nbconvert_exporter": "python",
   "pygments_lexer": "ipython3",
   "version": "3.7.7"
  }
 },
 "nbformat": 4,
 "nbformat_minor": 4
}
